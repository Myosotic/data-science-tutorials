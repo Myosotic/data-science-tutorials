{
 "cells": [
  {
   "cell_type": "markdown",
   "metadata": {},
   "source": [
    "# Introduction to Python"
   ]
  },
  {
   "cell_type": "markdown",
   "metadata": {},
   "source": [
    "[Originally written](https://www.math.univ-toulouse.fr/~xgendre/ens/m2se/introduction_to_python.pdf) by [Xavier Gendre](https://www.math.univ-toulouse.fr/~xgendre/), adapted to the Jupyter Notebook format by [Max Halford](https://maxhalford.github.io/)."
   ]
  },
  {
   "cell_type": "markdown",
   "metadata": {},
   "source": [
    "## Contents"
   ]
  },
  {
   "cell_type": "markdown",
   "metadata": {},
   "source": [
    "## License"
   ]
  },
  {
   "cell_type": "markdown",
   "metadata": {},
   "source": [
    "This work is licensed under a Creative Commons Attribution - NonCommercial -ShareAlike 4.0 International License. To obtain a copy of this license, please visit [https://creativecommons.org/licenses/by-nc-sa/4.0/](https://creativecommons.org/licenses/by-nc-sa/4.0/)."
   ]
  },
  {
   "cell_type": "markdown",
   "metadata": {},
   "source": [
    "## Preliminaries"
   ]
  },
  {
   "cell_type": "markdown",
   "metadata": {},
   "source": [
    "### What is Python?"
   ]
  },
  {
   "cell_type": "markdown",
   "metadata": {},
   "source": [
    "[Python](https://www.python.org/) is a widely used programming language initially implemented in 1989 by Guido van\n",
    "Rossum who is still playing an important role in the Python community. Its reference imple-mentation, called CPython, is managed by the [Python Software Fundation](https://www.python.org/psf-landing/) and distributed according to the [Python Software Foundation License](https://docs.python.org/3/license.html). This licence is compatible with the GNU General Public License and approved by the Open Source Initiative, thus CPython is free and open-source software.\n",
    "\n",
    "To run Python code, a specific software called interpreter is needed. Such softwares are available for many operating systems, allowing Python code to run on a wide variety of systems. Commonly, installing Python amounts to get and install such an interpreter from the [Download page](https://www.python.org/downloads/) of the project.\n",
    "\n",
    "The Python philosophy is summarized in a sequence of aphorisms known as [PEP 20](https://www.python.org/dev/peps/pep-0020/). It gives a great importance to code readability and to the capacity to express concepts in few lines of code. The ability to produce good code in the sense of this philosophy comes with reading and writing code, a lot of code! Anyone who wants to produce Python code has to read the [PEP 8](https://www.python.org/dev/peps/pep-0008/#code-lay-out) and to deeply thinks about the advices given in this document. Python supports multiple programming paradigms, including object-oriented, imperative and functional programming or procedural styles. It features a dynamic type system and automatic memory management and has a large and comprehensive standard library."
   ]
  },
  {
   "cell_type": "markdown",
   "metadata": {},
   "source": [
    "### About Python versions"
   ]
  },
  {
   "cell_type": "markdown",
   "metadata": {},
   "source": [
    "Nowadays, two distinct versions of Python coexist, the version 2 and version 3. These versions are not compatible. This is an important point to keep in mind, especially when help or code examples are searched on the Web. A list of the main incompatibilities (and problems to solve when porting code from Python 2.x to Python 3.x) can be found in an article of Guido van Rossum called [What’s New In Python 3.0](https://docs.python.org/3/whatsnew/3.0.html).\n",
    "\n",
    "The last release of version 2 is Python 2.7 and it was announced in November 2014 that\n",
    "this is the last one, no 2.8 will be released in the future. This version is supported until 2020 but the users are deeply encouraged to move to version 3 as soon as possible.\n",
    "\n",
    "The current stable release is Python 3.7 and the development version is 3.8. Some attention should be paid to that when documentation pages are browsed. In the sequel of this document, Python 3.7 is silently assumed in all the examples."
   ]
  },
  {
   "cell_type": "markdown",
   "metadata": {},
   "source": [
    "### Where to find help?"
   ]
  },
  {
   "cell_type": "markdown",
   "metadata": {},
   "source": [
    "An undeniable force of Python language is its large community. A lot of tutorials, forum threads, articles, ... can easily be found on the Web. Again, it is important to ensure version compatiblity when pieces of code are found in such a way.\n",
    "\n",
    "[Official documentation](https://docs.python.org/3/) is an endless source of information about the language and its ecosystem. By default, the documentation is the one for the development version of Python (currently, version 3.7.4). In the top left corner of the page, a selector allows to choose what is the required version. Picking 3.7 leads to documentation for the latest stable release, namely version 3.7.4.\n",
    "\n",
    "As usual with programming languages, a lot of questions are answered in [Stack Overflow](https://stackoverflow.com/). A good advice when some problem is encountered is to first browse these pages before posting elsewhere.\n",
    "\n",
    "A very useful feature of using Jupyter Notebooks is that can prefix a function with a `?` to access their documentation. For example:"
   ]
  },
  {
   "cell_type": "code",
   "execution_count": 2,
   "metadata": {},
   "outputs": [],
   "source": [
    "?max"
   ]
  },
  {
   "cell_type": "markdown",
   "metadata": {},
   "source": [
    "In some cases using `??` will also display the source code of the function."
   ]
  },
  {
   "cell_type": "markdown",
   "metadata": {},
   "source": [
    "## A programming language"
   ]
  },
  {
   "cell_type": "markdown",
   "metadata": {},
   "source": [
    "### Variables"
   ]
  },
  {
   "cell_type": "markdown",
   "metadata": {},
   "source": [
    "A *variable* is a symbolic name associated with a value. In Python, the name of a variable has\n",
    "to follow several rules:\n",
    "\n",
    "- it must start with a letter or an underscore,\n",
    "- remainder characters may consist of letters, numbers and underscores.\n",
    "\n",
    "Valid variable name examples are `my_var`, `_var`, `_MyVar01`, `x42_`, ... Moreover, like everything else in Python, variable names are **case sensitive**, i.e. `myVar`, `MyVar` and `mYvaR` are three distinct variable names.\n",
    "\n",
    "To assign a value to a variable, we use the operator `=` with the variable name on the left and the value to assign on the right. If the variable does not yet exist, it is created. Otherwise, its value is simply modified."
   ]
  },
  {
   "cell_type": "code",
   "execution_count": 3,
   "metadata": {},
   "outputs": [
    {
     "name": "stdout",
     "output_type": "stream",
     "text": [
      "17\n",
      "8\n"
     ]
    }
   ],
   "source": [
    "a = 17\n",
    "print(a)\n",
    "a = 8\n",
    "print(a)"
   ]
  },
  {
   "cell_type": "markdown",
   "metadata": {},
   "source": [
    "If you try to use a variable that is not defined, you will get an error:"
   ]
  },
  {
   "cell_type": "code",
   "execution_count": 4,
   "metadata": {},
   "outputs": [
    {
     "ename": "NameError",
     "evalue": "name 'undefined_variable' is not defined",
     "output_type": "error",
     "traceback": [
      "\u001b[1;31m---------------------------------------------------------------------------\u001b[0m",
      "\u001b[1;31mNameError\u001b[0m                                 Traceback (most recent call last)",
      "\u001b[1;32m<ipython-input-4-b3b3b04032c5>\u001b[0m in \u001b[0;36m<module>\u001b[1;34m\u001b[0m\n\u001b[1;32m----> 1\u001b[1;33m \u001b[0mprint\u001b[0m\u001b[1;33m(\u001b[0m\u001b[0mundefined_variable\u001b[0m\u001b[1;33m)\u001b[0m\u001b[1;33m\u001b[0m\u001b[1;33m\u001b[0m\u001b[0m\n\u001b[0m",
      "\u001b[1;31mNameError\u001b[0m: name 'undefined_variable' is not defined"
     ]
    }
   ],
   "source": [
    " print(undefined_variable)"
   ]
  },
  {
   "cell_type": "markdown",
   "metadata": {},
   "source": [
    "The mechanism to handle errors in Python will be covered later in this document.\n",
    "\n",
    "The content of a variable has a *type*, i.e. a category that determines the possible values.\n",
    "Usual types are boolean, integer, real number, string, . . . To know the type of a variable, we\n",
    "use the function `type`:"
   ]
  },
  {
   "cell_type": "code",
   "execution_count": 5,
   "metadata": {},
   "outputs": [
    {
     "data": {
      "text/plain": [
       "bool"
      ]
     },
     "execution_count": 5,
     "metadata": {},
     "output_type": "execute_result"
    }
   ],
   "source": [
    "x = True; type(x)"
   ]
  },
  {
   "cell_type": "code",
   "execution_count": 6,
   "metadata": {},
   "outputs": [
    {
     "data": {
      "text/plain": [
       "int"
      ]
     },
     "execution_count": 6,
     "metadata": {},
     "output_type": "execute_result"
    }
   ],
   "source": [
    "x = 42; type(x)"
   ]
  },
  {
   "cell_type": "code",
   "execution_count": 7,
   "metadata": {},
   "outputs": [
    {
     "data": {
      "text/plain": [
       "float"
      ]
     },
     "execution_count": 7,
     "metadata": {},
     "output_type": "execute_result"
    }
   ],
   "source": [
    "x = 42.0; type(x)"
   ]
  },
  {
   "cell_type": "code",
   "execution_count": 8,
   "metadata": {},
   "outputs": [
    {
     "data": {
      "text/plain": [
       "str"
      ]
     },
     "execution_count": 8,
     "metadata": {},
     "output_type": "execute_result"
    }
   ],
   "source": [
    "x = 'Hello World!'; type(x)"
   ]
  },
  {
   "cell_type": "markdown",
   "metadata": {},
   "source": [
    "The properties of common types will be introduced in the next section. This is important to bear in mind that Python has typed objects but untyped variable names. It means that the content of the variable has a type, not the variable itself. This is why we could assign contents from various types to x in the previous example without any trouble. In Python, the assignment of a value to a variable amounts to make the variable names pointing to a specific location in the memory which contains the value itself. This location in the memory is called an address and assigning a value with a different type to a variable simply consists in making this address pointing elsewhere in the memory. To get the address, we use the function `id`:"
   ]
  },
  {
   "cell_type": "code",
   "execution_count": 9,
   "metadata": {},
   "outputs": [
    {
     "data": {
      "text/plain": [
       "2067805104"
      ]
     },
     "execution_count": 9,
     "metadata": {},
     "output_type": "execute_result"
    }
   ],
   "source": [
    "x = True; id(x)"
   ]
  },
  {
   "cell_type": "code",
   "execution_count": 11,
   "metadata": {},
   "outputs": [
    {
     "data": {
      "text/plain": [
       "100943008"
      ]
     },
     "execution_count": 11,
     "metadata": {},
     "output_type": "execute_result"
    }
   ],
   "source": [
    "x = 1234; id(x)"
   ]
  },
  {
   "cell_type": "markdown",
   "metadata": {},
   "source": [
    "If the same value is assigned to two distinct variable names, both of them can point to the\n",
    "same address, avoiding data replication. To test this mechanism, we can use operators `is`\n",
    "and `is not` to for object identity:"
   ]
  },
  {
   "cell_type": "code",
   "execution_count": 12,
   "metadata": {},
   "outputs": [
    {
     "data": {
      "text/plain": [
       "2067957568"
      ]
     },
     "execution_count": 12,
     "metadata": {},
     "output_type": "execute_result"
    }
   ],
   "source": [
    "x = 42; id(x)"
   ]
  },
  {
   "cell_type": "code",
   "execution_count": 13,
   "metadata": {},
   "outputs": [
    {
     "data": {
      "text/plain": [
       "2067957568"
      ]
     },
     "execution_count": 13,
     "metadata": {},
     "output_type": "execute_result"
    }
   ],
   "source": [
    "y = 42; id(y)"
   ]
  },
  {
   "cell_type": "code",
   "execution_count": 14,
   "metadata": {},
   "outputs": [
    {
     "data": {
      "text/plain": [
       "2067957584"
      ]
     },
     "execution_count": 14,
     "metadata": {},
     "output_type": "execute_result"
    }
   ],
   "source": [
    "z = 43; id(z)"
   ]
  },
  {
   "cell_type": "code",
   "execution_count": 15,
   "metadata": {},
   "outputs": [
    {
     "data": {
      "text/plain": [
       "True"
      ]
     },
     "execution_count": 15,
     "metadata": {},
     "output_type": "execute_result"
    }
   ],
   "source": [
    "x is y"
   ]
  },
  {
   "cell_type": "code",
   "execution_count": 16,
   "metadata": {},
   "outputs": [
    {
     "data": {
      "text/plain": [
       "True"
      ]
     },
     "execution_count": 16,
     "metadata": {},
     "output_type": "execute_result"
    }
   ],
   "source": [
    "x is not z"
   ]
  },
  {
   "cell_type": "markdown",
   "metadata": {},
   "source": [
    "When a variable name is no longer needed, it is possible to break the link with a memory\n",
    "location and to delete it with the operator `del`:"
   ]
  },
  {
   "cell_type": "code",
   "execution_count": 20,
   "metadata": {},
   "outputs": [
    {
     "name": "stdout",
     "output_type": "stream",
     "text": [
      "I exist!\n"
     ]
    }
   ],
   "source": [
    "x = 'I exist!'\n",
    "print(x)"
   ]
  },
  {
   "cell_type": "code",
   "execution_count": 21,
   "metadata": {},
   "outputs": [
    {
     "ename": "NameError",
     "evalue": "name 'x' is not defined",
     "output_type": "error",
     "traceback": [
      "\u001b[1;31m---------------------------------------------------------------------------\u001b[0m",
      "\u001b[1;31mNameError\u001b[0m                                 Traceback (most recent call last)",
      "\u001b[1;32m<ipython-input-21-8c23cd95a3fd>\u001b[0m in \u001b[0;36m<module>\u001b[1;34m\u001b[0m\n\u001b[0;32m      1\u001b[0m \u001b[1;32mdel\u001b[0m \u001b[0mx\u001b[0m\u001b[1;33m\u001b[0m\u001b[1;33m\u001b[0m\u001b[0m\n\u001b[1;32m----> 2\u001b[1;33m \u001b[0mprint\u001b[0m\u001b[1;33m(\u001b[0m\u001b[0mx\u001b[0m\u001b[1;33m)\u001b[0m\u001b[1;33m\u001b[0m\u001b[1;33m\u001b[0m\u001b[0m\n\u001b[0m",
      "\u001b[1;31mNameError\u001b[0m: name 'x' is not defined"
     ]
    }
   ],
   "source": [
    "del x\n",
    "print(x)"
   ]
  },
  {
   "cell_type": "markdown",
   "metadata": {},
   "source": [
    "### Standard types"
   ]
  },
  {
   "cell_type": "markdown",
   "metadata": {},
   "source": [
    "#### Boolean"
   ]
  },
  {
   "cell_type": "markdown",
   "metadata": {},
   "source": [
    "The type `bool` can only take two values: `True` and `False`. Operators `not`, `and` and `or` allow to combine them to produce other boolean values."
   ]
  },
  {
   "cell_type": "code",
   "execution_count": 22,
   "metadata": {},
   "outputs": [
    {
     "data": {
      "text/plain": [
       "bool"
      ]
     },
     "execution_count": 22,
     "metadata": {},
     "output_type": "execute_result"
    }
   ],
   "source": [
    "x = True\n",
    "type(x)"
   ]
  },
  {
   "cell_type": "code",
   "execution_count": 23,
   "metadata": {},
   "outputs": [
    {
     "name": "stdout",
     "output_type": "stream",
     "text": [
      "True\n"
     ]
    }
   ],
   "source": [
    "print(x)"
   ]
  },
  {
   "cell_type": "code",
   "execution_count": 24,
   "metadata": {},
   "outputs": [
    {
     "name": "stdout",
     "output_type": "stream",
     "text": [
      "False\n"
     ]
    }
   ],
   "source": [
    "print(not x)"
   ]
  },
  {
   "cell_type": "code",
   "execution_count": 25,
   "metadata": {},
   "outputs": [
    {
     "name": "stdout",
     "output_type": "stream",
     "text": [
      "False\n"
     ]
    }
   ],
   "source": [
    "y = False\n",
    "print(x and y)"
   ]
  },
  {
   "cell_type": "code",
   "execution_count": 26,
   "metadata": {},
   "outputs": [
    {
     "name": "stdout",
     "output_type": "stream",
     "text": [
      "True\n"
     ]
    }
   ],
   "source": [
    "print(x and not y)"
   ]
  },
  {
   "cell_type": "code",
   "execution_count": 27,
   "metadata": {},
   "outputs": [
    {
     "name": "stdout",
     "output_type": "stream",
     "text": [
      "True\n"
     ]
    }
   ],
   "source": [
    "print(x or y)"
   ]
  },
  {
   "cell_type": "code",
   "execution_count": 28,
   "metadata": {},
   "outputs": [
    {
     "name": "stdout",
     "output_type": "stream",
     "text": [
      "False\n"
     ]
    }
   ],
   "source": [
    "print(not x or y)"
   ]
  },
  {
   "cell_type": "markdown",
   "metadata": {},
   "source": [
    "Booleans mainly appear in conditional structures (see explanations further) to test some\n",
    "conditions. Nevertheless, in Python, a lot of not boolean values are considered false:\n",
    "\n",
    "- special value `None` which is a null value, i.e. a value assigned to a variable name only to make it exist,\n",
    "- zero numeric values `0`, `0.0`, ...,\n",
    "- any empty sequence `''`, `()`, `[]`, ... (see further),\n",
    "- empty mapping `{}` (see further),\n",
    "- any class with a `__bool__` method which returns `False` (see further).\n",
    "\n",
    "All other values are considered true, so objects of many types are always true.\n",
    "\n",
    "Some operators also produce boolean values:\n",
    "\n",
    "- `==` (equal)\n",
    "- `!=` (not equal)\n",
    "- `<` (strictly lower than)\n",
    "- `<=` (lower than or equal)\n",
    "- `>` (strictly greater than)\n",
    "- `>=` (greater than or equal)\n",
    "- `in` and `not in` (belong operator, see further)\n",
    "- `is` and `is not` (object identity)"
   ]
  },
  {
   "cell_type": "code",
   "execution_count": 31,
   "metadata": {},
   "outputs": [
    {
     "data": {
      "text/plain": [
       "False"
      ]
     },
     "execution_count": 31,
     "metadata": {},
     "output_type": "execute_result"
    }
   ],
   "source": [
    "'Hello' == 'hello'"
   ]
  },
  {
   "cell_type": "code",
   "execution_count": 32,
   "metadata": {},
   "outputs": [
    {
     "data": {
      "text/plain": [
       "True"
      ]
     },
     "execution_count": 32,
     "metadata": {},
     "output_type": "execute_result"
    }
   ],
   "source": [
    "'aaa' <= 'aab'"
   ]
  },
  {
   "cell_type": "code",
   "execution_count": 33,
   "metadata": {},
   "outputs": [
    {
     "data": {
      "text/plain": [
       "True"
      ]
     },
     "execution_count": 33,
     "metadata": {},
     "output_type": "execute_result"
    }
   ],
   "source": [
    "17 > 8"
   ]
  },
  {
   "cell_type": "markdown",
   "metadata": {},
   "source": [
    "#### Numeric types"
   ]
  },
  {
   "cell_type": "markdown",
   "metadata": {},
   "source": [
    "Three distinct numeric types are at our disposal: `int` for integers, `float` for floating point\n",
    "numbers and `complex` for complex numbers. Floating point numbers are usually implemented\n",
    "using double precision and complex numbers have a real and imaginary part, which are each\n",
    "a floating point number. To produce an imaginary number, the character `j` or `J` has to be\n",
    "appended to a numeric literal.\n",
    "\n",
    "Common operations on numeric types are available in Python as illustrated in the following\n",
    "examples. When an operation between two numeric types makes sense, note that the type\n",
    "of the result is the more widened (*e.g.* adding a floating and a complex number leads to a\n",
    "complex number).\n",
    "\n",
    "**Various numeric types**"
   ]
  },
  {
   "cell_type": "code",
   "execution_count": 34,
   "metadata": {},
   "outputs": [
    {
     "data": {
      "text/plain": [
       "int"
      ]
     },
     "execution_count": 34,
     "metadata": {},
     "output_type": "execute_result"
    }
   ],
   "source": [
    "x = 5; type(x)"
   ]
  },
  {
   "cell_type": "code",
   "execution_count": 35,
   "metadata": {},
   "outputs": [
    {
     "data": {
      "text/plain": [
       "float"
      ]
     },
     "execution_count": 35,
     "metadata": {},
     "output_type": "execute_result"
    }
   ],
   "source": [
    "y = 3.14159; type(y)"
   ]
  },
  {
   "cell_type": "code",
   "execution_count": 36,
   "metadata": {},
   "outputs": [
    {
     "data": {
      "text/plain": [
       "complex"
      ]
     },
     "execution_count": 36,
     "metadata": {},
     "output_type": "execute_result"
    }
   ],
   "source": [
    "z = 2+3j; type(z)"
   ]
  },
  {
   "cell_type": "markdown",
   "metadata": {},
   "source": [
    "**Explicit type**"
   ]
  },
  {
   "cell_type": "code",
   "execution_count": 37,
   "metadata": {},
   "outputs": [
    {
     "data": {
      "text/plain": [
       "5"
      ]
     },
     "execution_count": 37,
     "metadata": {},
     "output_type": "execute_result"
    }
   ],
   "source": [
    "int(x)"
   ]
  },
  {
   "cell_type": "code",
   "execution_count": 38,
   "metadata": {},
   "outputs": [
    {
     "data": {
      "text/plain": [
       "5.0"
      ]
     },
     "execution_count": 38,
     "metadata": {},
     "output_type": "execute_result"
    }
   ],
   "source": [
    "float(x)"
   ]
  },
  {
   "cell_type": "code",
   "execution_count": 39,
   "metadata": {},
   "outputs": [
    {
     "data": {
      "text/plain": [
       "(5+3.14159j)"
      ]
     },
     "execution_count": 39,
     "metadata": {},
     "output_type": "execute_result"
    }
   ],
   "source": [
    "complex(x, y)"
   ]
  },
  {
   "cell_type": "markdown",
   "metadata": {},
   "source": [
    "**Complex numbers**"
   ]
  },
  {
   "cell_type": "code",
   "execution_count": 40,
   "metadata": {},
   "outputs": [
    {
     "name": "stdout",
     "output_type": "stream",
     "text": [
      "2.0\n"
     ]
    }
   ],
   "source": [
    "print(z.real) # Real part of z"
   ]
  },
  {
   "cell_type": "code",
   "execution_count": 41,
   "metadata": {},
   "outputs": [
    {
     "name": "stdout",
     "output_type": "stream",
     "text": [
      "3.0\n"
     ]
    }
   ],
   "source": [
    "print(z.imag) # Imaginary part of z"
   ]
  },
  {
   "cell_type": "code",
   "execution_count": 42,
   "metadata": {},
   "outputs": [
    {
     "name": "stdout",
     "output_type": "stream",
     "text": [
      "(2-3j)\n"
     ]
    }
   ],
   "source": [
    "print(z.conjugate()) # Conjugate of z"
   ]
  },
  {
   "cell_type": "markdown",
   "metadata": {},
   "source": [
    "**Common operations**"
   ]
  },
  {
   "cell_type": "code",
   "execution_count": 43,
   "metadata": {},
   "outputs": [
    {
     "data": {
      "text/plain": [
       "8.14159"
      ]
     },
     "execution_count": 43,
     "metadata": {},
     "output_type": "execute_result"
    }
   ],
   "source": [
    "x + y # Sum of x and y"
   ]
  },
  {
   "cell_type": "code",
   "execution_count": 44,
   "metadata": {},
   "outputs": [
    {
     "data": {
      "text/plain": [
       "1.8584100000000001"
      ]
     },
     "execution_count": 44,
     "metadata": {},
     "output_type": "execute_result"
    }
   ],
   "source": [
    "x - y # Difference of x and y"
   ]
  },
  {
   "cell_type": "code",
   "execution_count": 45,
   "metadata": {},
   "outputs": [
    {
     "data": {
      "text/plain": [
       "15.70795"
      ]
     },
     "execution_count": 45,
     "metadata": {},
     "output_type": "execute_result"
    }
   ],
   "source": [
    "x * y # Product of x and y"
   ]
  },
  {
   "cell_type": "code",
   "execution_count": 46,
   "metadata": {},
   "outputs": [
    {
     "data": {
      "text/plain": [
       "1.5915507752443827"
      ]
     },
     "execution_count": 46,
     "metadata": {},
     "output_type": "execute_result"
    }
   ],
   "source": [
    "x / y # Quotient of x and y"
   ]
  },
  {
   "cell_type": "code",
   "execution_count": 47,
   "metadata": {},
   "outputs": [
    {
     "data": {
      "text/plain": [
       "1.0"
      ]
     },
     "execution_count": 47,
     "metadata": {},
     "output_type": "execute_result"
    }
   ],
   "source": [
    "x // y # Floored quotient of x and y"
   ]
  },
  {
   "cell_type": "code",
   "execution_count": 49,
   "metadata": {},
   "outputs": [
    {
     "data": {
      "text/plain": [
       "1.8584100000000001"
      ]
     },
     "execution_count": 49,
     "metadata": {},
     "output_type": "execute_result"
    }
   ],
   "source": [
    "x % y # Remainder of x / y"
   ]
  },
  {
   "cell_type": "markdown",
   "metadata": {},
   "source": [
    "**Assignment operations**"
   ]
  },
  {
   "cell_type": "code",
   "execution_count": 50,
   "metadata": {},
   "outputs": [],
   "source": [
    "x += 42 # Update x by adding 42 (same as x = x + 42)"
   ]
  },
  {
   "cell_type": "code",
   "execution_count": 51,
   "metadata": {},
   "outputs": [],
   "source": [
    "x -= 42 # Update x by subtracting 42 (same as x = x - 42)"
   ]
  },
  {
   "cell_type": "code",
   "execution_count": 52,
   "metadata": {},
   "outputs": [],
   "source": [
    "x *= 2 # Update x by multiplying by 2 (same as x = x * 2)"
   ]
  },
  {
   "cell_type": "markdown",
   "metadata": {},
   "source": [
    "**Useful operations**"
   ]
  },
  {
   "cell_type": "code",
   "execution_count": 53,
   "metadata": {},
   "outputs": [
    {
     "data": {
      "text/plain": [
       "10"
      ]
     },
     "execution_count": 53,
     "metadata": {},
     "output_type": "execute_result"
    }
   ],
   "source": [
    "abs(-x) # Absolute value for an integer or a floating number"
   ]
  },
  {
   "cell_type": "code",
   "execution_count": 54,
   "metadata": {},
   "outputs": [
    {
     "data": {
      "text/plain": [
       "3.6055512754639896"
      ]
     },
     "execution_count": 54,
     "metadata": {},
     "output_type": "execute_result"
    }
   ],
   "source": [
    "abs(z) # Magnitude for a complex number"
   ]
  },
  {
   "cell_type": "code",
   "execution_count": 55,
   "metadata": {},
   "outputs": [
    {
     "data": {
      "text/plain": [
       "1000"
      ]
     },
     "execution_count": 55,
     "metadata": {},
     "output_type": "execute_result"
    }
   ],
   "source": [
    "pow(x, 3) # x to power 3"
   ]
  },
  {
   "cell_type": "code",
   "execution_count": 56,
   "metadata": {},
   "outputs": [
    {
     "data": {
      "text/plain": [
       "1000"
      ]
     },
     "execution_count": 56,
     "metadata": {},
     "output_type": "execute_result"
    }
   ],
   "source": [
    "x ** 3 # Idem, x to power 3"
   ]
  },
  {
   "cell_type": "code",
   "execution_count": 57,
   "metadata": {},
   "outputs": [
    {
     "data": {
      "text/plain": [
       "3"
      ]
     },
     "execution_count": 57,
     "metadata": {},
     "output_type": "execute_result"
    }
   ],
   "source": [
    "round(y) # y rounded to closest integer"
   ]
  },
  {
   "cell_type": "code",
   "execution_count": 58,
   "metadata": {},
   "outputs": [
    {
     "data": {
      "text/plain": [
       "3.14"
      ]
     },
     "execution_count": 58,
     "metadata": {},
     "output_type": "execute_result"
    }
   ],
   "source": [
    "round(y, 2) # y rounded to 2 digits"
   ]
  },
  {
   "cell_type": "markdown",
   "metadata": {},
   "source": [
    "#### Sequence types"
   ]
  },
  {
   "cell_type": "markdown",
   "metadata": {},
   "source": [
    "In Python, sequence types can be mutable (*i.e.* values contained in the sequence can be\n",
    "modified) or *immutable* (*i.e.* values contained in the sequence can **not** be modified). The\n",
    "basic sequence types are introduced in this section. Additional ones are described further and\n",
    "offer the same set of operations according to their mutability.\n",
    "\n",
    "**Tuples** are immutable sequences and are delimited by a pair of parentheses `()`. This\n",
    "sequence type can contains values with different types and square brackets `[]` are used to\n",
    "access items and for slicing."
   ]
  },
  {
   "cell_type": "code",
   "execution_count": 59,
   "metadata": {},
   "outputs": [],
   "source": [
    "t = () # Empty tuple\n",
    "t = (17, 8.0, 'Hello') # Tuple can contains different types"
   ]
  },
  {
   "cell_type": "code",
   "execution_count": 60,
   "metadata": {},
   "outputs": [
    {
     "data": {
      "text/plain": [
       "17"
      ]
     },
     "execution_count": 60,
     "metadata": {},
     "output_type": "execute_result"
    }
   ],
   "source": [
    "t[0] # First item has index 0"
   ]
  },
  {
   "cell_type": "code",
   "execution_count": 61,
   "metadata": {},
   "outputs": [
    {
     "ename": "TypeError",
     "evalue": "'tuple' object does not support item assignment",
     "output_type": "error",
     "traceback": [
      "\u001b[1;31m---------------------------------------------------------------------------\u001b[0m",
      "\u001b[1;31mTypeError\u001b[0m                                 Traceback (most recent call last)",
      "\u001b[1;32m<ipython-input-61-9b7c4bea3f4e>\u001b[0m in \u001b[0;36m<module>\u001b[1;34m\u001b[0m\n\u001b[1;32m----> 1\u001b[1;33m \u001b[0mt\u001b[0m\u001b[1;33m[\u001b[0m\u001b[1;36m2\u001b[0m\u001b[1;33m]\u001b[0m \u001b[1;33m=\u001b[0m \u001b[1;36m81\u001b[0m \u001b[1;31m# Error because t is immutable\u001b[0m\u001b[1;33m\u001b[0m\u001b[1;33m\u001b[0m\u001b[0m\n\u001b[0m",
      "\u001b[1;31mTypeError\u001b[0m: 'tuple' object does not support item assignment"
     ]
    }
   ],
   "source": [
    "t[2] = 81 # Error because t is immutable"
   ]
  },
  {
   "cell_type": "code",
   "execution_count": 62,
   "metadata": {},
   "outputs": [
    {
     "data": {
      "text/plain": [
       "'Hello'"
      ]
     },
     "execution_count": 62,
     "metadata": {},
     "output_type": "execute_result"
    }
   ],
   "source": [
    "t[-1] # Last item"
   ]
  },
  {
   "cell_type": "code",
   "execution_count": 63,
   "metadata": {},
   "outputs": [
    {
     "data": {
      "text/plain": [
       "('D', 'E')"
      ]
     },
     "execution_count": 63,
     "metadata": {},
     "output_type": "execute_result"
    }
   ],
   "source": [
    "t = ('A', 'B', 'C', 'D', 'E', 'F', 'G', 'H')\n",
    "t[3:5] # Slice of t from 3 to 5 excluded"
   ]
  },
  {
   "cell_type": "code",
   "execution_count": 64,
   "metadata": {},
   "outputs": [
    {
     "data": {
      "text/plain": [
       "('A', 'B', 'C', 'D', 'E')"
      ]
     },
     "execution_count": 64,
     "metadata": {},
     "output_type": "execute_result"
    }
   ],
   "source": [
    "t[:5] # Slice of t from start to 5 excluded"
   ]
  },
  {
   "cell_type": "code",
   "execution_count": 65,
   "metadata": {},
   "outputs": [
    {
     "data": {
      "text/plain": [
       "('D', 'E', 'F', 'G', 'H')"
      ]
     },
     "execution_count": 65,
     "metadata": {},
     "output_type": "execute_result"
    }
   ],
   "source": [
    "t[3:] # Slice of t from 3 to end"
   ]
  },
  {
   "cell_type": "code",
   "execution_count": 66,
   "metadata": {},
   "outputs": [
    {
     "data": {
      "text/plain": [
       "('B', 'D', 'F')"
      ]
     },
     "execution_count": 66,
     "metadata": {},
     "output_type": "execute_result"
    }
   ],
   "source": [
    "t[1:6:2] # Slice of t from 1 to 6 excluded with step 2"
   ]
  },
  {
   "cell_type": "code",
   "execution_count": 67,
   "metadata": {},
   "outputs": [
    {
     "data": {
      "text/plain": [
       "'H'"
      ]
     },
     "execution_count": 67,
     "metadata": {},
     "output_type": "execute_result"
    }
   ],
   "source": [
    "t[-1] # Negative index starts with the last item ..."
   ]
  },
  {
   "cell_type": "code",
   "execution_count": 68,
   "metadata": {},
   "outputs": [
    {
     "data": {
      "text/plain": [
       "('H', 'F', 'D')"
      ]
     },
     "execution_count": 68,
     "metadata": {},
     "output_type": "execute_result"
    }
   ],
   "source": [
    "t[-1:-6:-2] # ... and you can slice!"
   ]
  },
  {
   "cell_type": "markdown",
   "metadata": {},
   "source": [
    "Examples below list several common operations that we can do with tuples. They remain\n",
    "available for lists introduced further."
   ]
  },
  {
   "cell_type": "code",
   "execution_count": 69,
   "metadata": {},
   "outputs": [],
   "source": [
    "t = (17, 8, 19, 81, 19)"
   ]
  },
  {
   "cell_type": "code",
   "execution_count": 70,
   "metadata": {},
   "outputs": [
    {
     "data": {
      "text/plain": [
       "5"
      ]
     },
     "execution_count": 70,
     "metadata": {},
     "output_type": "execute_result"
    }
   ],
   "source": [
    "len(t) # Length of t"
   ]
  },
  {
   "cell_type": "code",
   "execution_count": 71,
   "metadata": {},
   "outputs": [
    {
     "data": {
      "text/plain": [
       "8"
      ]
     },
     "execution_count": 71,
     "metadata": {},
     "output_type": "execute_result"
    }
   ],
   "source": [
    "min(t) # Smallest item of t"
   ]
  },
  {
   "cell_type": "code",
   "execution_count": 72,
   "metadata": {},
   "outputs": [
    {
     "data": {
      "text/plain": [
       "81"
      ]
     },
     "execution_count": 72,
     "metadata": {},
     "output_type": "execute_result"
    }
   ],
   "source": [
    "max(t) # Largest item of t"
   ]
  },
  {
   "cell_type": "code",
   "execution_count": 73,
   "metadata": {},
   "outputs": [
    {
     "data": {
      "text/plain": [
       "True"
      ]
     },
     "execution_count": 73,
     "metadata": {},
     "output_type": "execute_result"
    }
   ],
   "source": [
    "17 in t # Belong operator"
   ]
  },
  {
   "cell_type": "code",
   "execution_count": 74,
   "metadata": {},
   "outputs": [
    {
     "data": {
      "text/plain": [
       "False"
      ]
     },
     "execution_count": 74,
     "metadata": {},
     "output_type": "execute_result"
    }
   ],
   "source": [
    "17 not in t # Don't belong operator"
   ]
  },
  {
   "cell_type": "code",
   "execution_count": 75,
   "metadata": {},
   "outputs": [
    {
     "data": {
      "text/plain": [
       "(17, 8, 19, 81, 19, 'Hello', 'Python')"
      ]
     },
     "execution_count": 75,
     "metadata": {},
     "output_type": "execute_result"
    }
   ],
   "source": [
    "t + ('Hello', 'Python') # Concatenation of tuples"
   ]
  },
  {
   "cell_type": "code",
   "execution_count": 76,
   "metadata": {},
   "outputs": [
    {
     "data": {
      "text/plain": [
       "(17, 8, 19, 81, 19, 17, 8, 19, 81, 19, 17, 8, 19, 81, 19)"
      ]
     },
     "execution_count": 76,
     "metadata": {},
     "output_type": "execute_result"
    }
   ],
   "source": [
    "t * 3 # Concatenate 3 times t"
   ]
  },
  {
   "cell_type": "code",
   "execution_count": 77,
   "metadata": {},
   "outputs": [
    {
     "data": {
      "text/plain": [
       "2"
      ]
     },
     "execution_count": 77,
     "metadata": {},
     "output_type": "execute_result"
    }
   ],
   "source": [
    "t.count(19) # Number of occurences in t"
   ]
  },
  {
   "cell_type": "markdown",
   "metadata": {},
   "source": [
    "When it is not muddled, surrounding parentheses of a tuple can be omitted. This trick is\n",
    "mainly used to simultaneously assign values to several variables or to elegantly swap the\n",
    "contents of variables."
   ]
  },
  {
   "cell_type": "code",
   "execution_count": 78,
   "metadata": {},
   "outputs": [
    {
     "name": "stdout",
     "output_type": "stream",
     "text": [
      "17\n",
      "8\n",
      "Hello\n"
     ]
    }
   ],
   "source": [
    "a, b, c = 17, 8, 'Hello'\n",
    "print(a)\n",
    "print(b)\n",
    "print(c)"
   ]
  },
  {
   "cell_type": "code",
   "execution_count": 79,
   "metadata": {},
   "outputs": [
    {
     "name": "stdout",
     "output_type": "stream",
     "text": [
      "8\n",
      "17\n"
     ]
    }
   ],
   "source": [
    "a, b = b, a # Smart, isn't it?\n",
    "print(a)\n",
    "print(b)"
   ]
  },
  {
   "cell_type": "markdown",
   "metadata": {},
   "source": [
    "`Lists` are mutable sequences and are delimited by a pair of square brackets `[]`. Accessing\n",
    "items and slicing work like with tuples."
   ]
  },
  {
   "cell_type": "code",
   "execution_count": 81,
   "metadata": {},
   "outputs": [
    {
     "data": {
      "text/plain": [
       "'C'"
      ]
     },
     "execution_count": 81,
     "metadata": {},
     "output_type": "execute_result"
    }
   ],
   "source": [
    "l = [] # Empty list\n",
    "l = [17, 8.0, 'Hello'] # List can contains different types\n",
    "l = ['A', 'B', 'C', 'D', 'E', 'F', 'G', 'H']\n",
    "l[2]"
   ]
  },
  {
   "cell_type": "code",
   "execution_count": 82,
   "metadata": {},
   "outputs": [
    {
     "data": {
      "text/plain": [
       "['D', 'E']"
      ]
     },
     "execution_count": 82,
     "metadata": {},
     "output_type": "execute_result"
    }
   ],
   "source": [
    "l[3:5]"
   ]
  },
  {
   "cell_type": "markdown",
   "metadata": {},
   "source": [
    "Besides the operations from the immutable sequences, lists offer operations that modify itself."
   ]
  },
  {
   "cell_type": "code",
   "execution_count": 83,
   "metadata": {},
   "outputs": [
    {
     "data": {
      "text/plain": [
       "['Python', 'is', 'very', 'fun!']"
      ]
     },
     "execution_count": 83,
     "metadata": {},
     "output_type": "execute_result"
    }
   ],
   "source": [
    "l = ['Python', 'is', 'quite', 'fun!']\n",
    "l[2] = 'very' # Replace item at position 2 of l by 'very'\n",
    "l"
   ]
  },
  {
   "cell_type": "code",
   "execution_count": 84,
   "metadata": {},
   "outputs": [
    {
     "data": {
      "text/plain": [
       "['Python', 'is', 'fun!']"
      ]
     },
     "execution_count": 84,
     "metadata": {},
     "output_type": "execute_result"
    }
   ],
   "source": [
    "del l[2:3] # Delete items in the slice\n",
    "l"
   ]
  },
  {
   "cell_type": "code",
   "execution_count": 85,
   "metadata": {},
   "outputs": [
    {
     "data": {
      "text/plain": [
       "['H', 'N', 'O', 'P', 'T', 'Y']"
      ]
     },
     "execution_count": 85,
     "metadata": {},
     "output_type": "execute_result"
    }
   ],
   "source": [
    "s = ['P', 'Y', 'T', 'H', 'O', 'N']\n",
    "s.sort() # Sort the list in increasing order\n",
    "s"
   ]
  },
  {
   "cell_type": "code",
   "execution_count": 86,
   "metadata": {},
   "outputs": [
    {
     "data": {
      "text/plain": [
       "['Y', 'T', 'P', 'O', 'N', 'H']"
      ]
     },
     "execution_count": 86,
     "metadata": {},
     "output_type": "execute_result"
    }
   ],
   "source": [
    "s.reverse() # Reverse the items of s\n",
    "s"
   ]
  },
  {
   "cell_type": "code",
   "execution_count": 87,
   "metadata": {},
   "outputs": [
    {
     "data": {
      "text/plain": [
       "['Y', 'P', 'O', 'N', 'H']"
      ]
     },
     "execution_count": 87,
     "metadata": {},
     "output_type": "execute_result"
    }
   ],
   "source": [
    "s.remove('T') # Remove the first item containing 'T' from s\n",
    "s"
   ]
  },
  {
   "cell_type": "code",
   "execution_count": 88,
   "metadata": {},
   "outputs": [
    {
     "data": {
      "text/plain": [
       "['Y', 'P', 'O', 'N']"
      ]
     },
     "execution_count": 88,
     "metadata": {},
     "output_type": "execute_result"
    }
   ],
   "source": [
    "s.pop() # Retrieve the last item and remove it from s\n",
    "s"
   ]
  },
  {
   "cell_type": "code",
   "execution_count": 89,
   "metadata": {},
   "outputs": [
    {
     "data": {
      "text/plain": [
       "['Y', 'O', 'N']"
      ]
     },
     "execution_count": 89,
     "metadata": {},
     "output_type": "execute_result"
    }
   ],
   "source": [
    "s.pop(1) # Idem for item at position 1\n",
    "s"
   ]
  },
  {
   "cell_type": "code",
   "execution_count": 90,
   "metadata": {},
   "outputs": [
    {
     "data": {
      "text/plain": [
       "[]"
      ]
     },
     "execution_count": 90,
     "metadata": {},
     "output_type": "execute_result"
    }
   ],
   "source": [
    "s.clear() # Removes all items from l (same as del l[:])\n",
    "s"
   ]
  },
  {
   "cell_type": "code",
   "execution_count": 91,
   "metadata": {},
   "outputs": [
    {
     "data": {
      "text/plain": [
       "[42]"
      ]
     },
     "execution_count": 91,
     "metadata": {},
     "output_type": "execute_result"
    }
   ],
   "source": [
    "s.append(42) # Appends 42 to the end of the list\n",
    "s"
   ]
  },
  {
   "cell_type": "code",
   "execution_count": 92,
   "metadata": {},
   "outputs": [
    {
     "data": {
      "text/plain": [
       "[42, 'Python', 'is', 'fun!']"
      ]
     },
     "execution_count": 92,
     "metadata": {},
     "output_type": "execute_result"
    }
   ],
   "source": [
    "s.extend(l) # Extend s with the items of l\n",
    "s"
   ]
  },
  {
   "cell_type": "code",
   "execution_count": 93,
   "metadata": {},
   "outputs": [
    {
     "data": {
      "text/plain": [
       "[42, 'Python', 'is', 'fun!', 'Python', 'is', 'fun!']"
      ]
     },
     "execution_count": 93,
     "metadata": {},
     "output_type": "execute_result"
    }
   ],
   "source": [
    "s += l # Idem, extend s with the items of l\n",
    "s"
   ]
  },
  {
   "cell_type": "code",
   "execution_count": 94,
   "metadata": {},
   "outputs": [
    {
     "data": {
      "text/plain": [
       "[42,\n",
       " 'Python',\n",
       " 'is',\n",
       " 'fun!',\n",
       " 'Python',\n",
       " 'is',\n",
       " 'fun!',\n",
       " 42,\n",
       " 'Python',\n",
       " 'is',\n",
       " 'fun!',\n",
       " 'Python',\n",
       " 'is',\n",
       " 'fun!',\n",
       " 42,\n",
       " 'Python',\n",
       " 'is',\n",
       " 'fun!',\n",
       " 'Python',\n",
       " 'is',\n",
       " 'fun!']"
      ]
     },
     "execution_count": 94,
     "metadata": {},
     "output_type": "execute_result"
    }
   ],
   "source": [
    "s *= 3 # Update s with its contents repeated 3 times\n",
    "s"
   ]
  },
  {
   "cell_type": "code",
   "execution_count": 95,
   "metadata": {},
   "outputs": [
    {
     "data": {
      "text/plain": [
       "[42,\n",
       " 'Python',\n",
       " 'is',\n",
       " 'fun!',\n",
       " 'Python',\n",
       " 'Hello',\n",
       " 'is',\n",
       " 'fun!',\n",
       " 42,\n",
       " 'Python',\n",
       " 'is',\n",
       " 'fun!',\n",
       " 'Python',\n",
       " 'is',\n",
       " 'fun!',\n",
       " 42,\n",
       " 'Python',\n",
       " 'is',\n",
       " 'fun!',\n",
       " 'Python',\n",
       " 'is',\n",
       " 'fun!']"
      ]
     },
     "execution_count": 95,
     "metadata": {},
     "output_type": "execute_result"
    }
   ],
   "source": [
    "s.insert(5, 'Hello') # Insert 'Hello' into s at the position 5\n",
    "s"
   ]
  },
  {
   "cell_type": "markdown",
   "metadata": {},
   "source": [
    "Finally, *ranges* are immutable sequences of numbers. They are commonly used for looping\n",
    "(see further). The advantage of the `range` type over a regular `list` or `tuple` is that a `range`\n",
    "object will always take the same (small) amount of memory, no matter the size of the range\n",
    "it represents. Beyond that, a `range` object is handled like any immutable sequence."
   ]
  },
  {
   "cell_type": "code",
   "execution_count": 96,
   "metadata": {},
   "outputs": [
    {
     "data": {
      "text/plain": [
       "range(0, 10)"
      ]
     },
     "execution_count": 96,
     "metadata": {},
     "output_type": "execute_result"
    }
   ],
   "source": [
    "range(10) # A range object from 0 to 9"
   ]
  },
  {
   "cell_type": "code",
   "execution_count": 97,
   "metadata": {},
   "outputs": [
    {
     "data": {
      "text/plain": [
       "[0, 1, 2, 3, 4, 5, 6, 7, 8, 9]"
      ]
     },
     "execution_count": 97,
     "metadata": {},
     "output_type": "execute_result"
    }
   ],
   "source": [
    "list(range(10)) # Same object as a list"
   ]
  },
  {
   "cell_type": "code",
   "execution_count": 98,
   "metadata": {},
   "outputs": [
    {
     "data": {
      "text/plain": [
       "[1, 2, 3, 4, 5, 6, 7, 8, 9, 10]"
      ]
     },
     "execution_count": 98,
     "metadata": {},
     "output_type": "execute_result"
    }
   ],
   "source": [
    "list(range(1, 11)) # From 1 to 10"
   ]
  },
  {
   "cell_type": "code",
   "execution_count": 99,
   "metadata": {},
   "outputs": [
    {
     "data": {
      "text/plain": [
       "[0, 3, 6, 9]"
      ]
     },
     "execution_count": 99,
     "metadata": {},
     "output_type": "execute_result"
    }
   ],
   "source": [
    "list(range(0, 10, 3)) # From 0 to 9 with step 3"
   ]
  },
  {
   "cell_type": "code",
   "execution_count": 100,
   "metadata": {},
   "outputs": [
    {
     "data": {
      "text/plain": [
       "[0, -1, -2, -3, -4, -5, -6, -7, -8, -9]"
      ]
     },
     "execution_count": 100,
     "metadata": {},
     "output_type": "execute_result"
    }
   ],
   "source": [
    "list(range(0, -10, -1)) # From 0 to -9"
   ]
  },
  {
   "cell_type": "code",
   "execution_count": 101,
   "metadata": {},
   "outputs": [
    {
     "data": {
      "text/plain": [
       "False"
      ]
     },
     "execution_count": 101,
     "metadata": {},
     "output_type": "execute_result"
    }
   ],
   "source": [
    "# Ranges are handled like other sequences\n",
    "r = range(0, 20, 2)\n",
    "11 in r"
   ]
  },
  {
   "cell_type": "code",
   "execution_count": 102,
   "metadata": {},
   "outputs": [
    {
     "data": {
      "text/plain": [
       "True"
      ]
     },
     "execution_count": 102,
     "metadata": {},
     "output_type": "execute_result"
    }
   ],
   "source": [
    "10 in r"
   ]
  },
  {
   "cell_type": "code",
   "execution_count": 103,
   "metadata": {},
   "outputs": [
    {
     "data": {
      "text/plain": [
       "18"
      ]
     },
     "execution_count": 103,
     "metadata": {},
     "output_type": "execute_result"
    }
   ],
   "source": [
    "r[5]; r[:5]; r[-1]"
   ]
  },
  {
   "cell_type": "code",
   "execution_count": 105,
   "metadata": {},
   "outputs": [
    {
     "data": {
      "text/plain": [
       "[0, 2, 4, 6, 8, 10, 12, 14, 16, 18]"
      ]
     },
     "execution_count": 105,
     "metadata": {},
     "output_type": "execute_result"
    }
   ],
   "source": [
    "list(r)"
   ]
  },
  {
   "cell_type": "markdown",
   "metadata": {},
   "source": [
    "**Questions**\n",
    "\n",
    "- What do you get with t[:-2] and t[-2:]?\n",
    "- Define t = (17, 8, 'Hello'), explain what you obtain with min(t).\n",
    "- Read the documentation about the function sort. How can we sort a list in decreasing order only using sort?\n",
    "- Create the list [0, 1, 2, 3, 4, 5, 4, 3, 2, 1, 0] in one line with range objects.\n",
    "- Be careful with a list of lists when you fill its content:"
   ]
  },
  {
   "cell_type": "code",
   "execution_count": 108,
   "metadata": {},
   "outputs": [
    {
     "name": "stdout",
     "output_type": "stream",
     "text": [
      "[17, 8, 19, 81, 19]\n",
      "(17, 8, 19)\n",
      "(81, 19)\n"
     ]
    }
   ],
   "source": [
    "# Question1\n",
    "print(list(t))\n",
    "print(t[:-2]) # stop until the last two numbers\n",
    "print(t[-2:]) # only the last two numbers"
   ]
  },
  {
   "cell_type": "code",
   "execution_count": 111,
   "metadata": {},
   "outputs": [
    {
     "ename": "TypeError",
     "evalue": "'<' not supported between instances of 'str' and 'int'",
     "output_type": "error",
     "traceback": [
      "\u001b[1;31m---------------------------------------------------------------------------\u001b[0m",
      "\u001b[1;31mTypeError\u001b[0m                                 Traceback (most recent call last)",
      "\u001b[1;32m<ipython-input-111-788cd4f1b561>\u001b[0m in \u001b[0;36m<module>\u001b[1;34m\u001b[0m\n\u001b[0;32m      1\u001b[0m \u001b[1;31m# Question2\u001b[0m\u001b[1;33m\u001b[0m\u001b[1;33m\u001b[0m\u001b[1;33m\u001b[0m\u001b[0m\n\u001b[0;32m      2\u001b[0m \u001b[0mt\u001b[0m\u001b[1;33m=\u001b[0m\u001b[1;33m(\u001b[0m\u001b[1;36m17\u001b[0m\u001b[1;33m,\u001b[0m\u001b[1;36m8\u001b[0m\u001b[1;33m,\u001b[0m\u001b[1;34m'Hello'\u001b[0m\u001b[1;33m)\u001b[0m\u001b[1;33m\u001b[0m\u001b[1;33m\u001b[0m\u001b[0m\n\u001b[1;32m----> 3\u001b[1;33m \u001b[0mmin\u001b[0m\u001b[1;33m(\u001b[0m\u001b[0mt\u001b[0m\u001b[1;33m)\u001b[0m\u001b[1;33m\u001b[0m\u001b[1;33m\u001b[0m\u001b[0m\n\u001b[0m",
      "\u001b[1;31mTypeError\u001b[0m: '<' not supported between instances of 'str' and 'int'"
     ]
    }
   ],
   "source": [
    "# Question2\n",
    "t=(17,8,'Hello')\n",
    "min(t) # not the same type for all elements"
   ]
  },
  {
   "cell_type": "code",
   "execution_count": 123,
   "metadata": {},
   "outputs": [
    {
     "data": {
      "text/plain": [
       "[10, 9, 8, 7, 6, 5, 4, 3, 2, 1, 0]"
      ]
     },
     "execution_count": 123,
     "metadata": {},
     "output_type": "execute_result"
    }
   ],
   "source": [
    "# Question3\n",
    "d=list(range(11))\n",
    "d.sort(reverse=True)\n",
    "d"
   ]
  },
  {
   "cell_type": "code",
   "execution_count": 147,
   "metadata": {},
   "outputs": [
    {
     "data": {
      "text/plain": [
       "[0, 1, 2, 3, 4, 5, 4, 3, 2, 1, 0]"
      ]
     },
     "execution_count": 147,
     "metadata": {},
     "output_type": "execute_result"
    }
   ],
   "source": [
    "# Question4\n",
    "l=list(range(11))\n",
    "l[6:11]=l[-7::-1] # replace the last 5 elements\n",
    "l"
   ]
  },
  {
   "cell_type": "code",
   "execution_count": 148,
   "metadata": {},
   "outputs": [
    {
     "name": "stdout",
     "output_type": "stream",
     "text": [
      "['Bobby', 'Teddy']\n",
      "[['Bobby', 'Teddy'], ['Bobby', 'Teddy'], ['Bobby', 'Teddy']]\n"
     ]
    }
   ],
   "source": [
    "s = ['Bobby', 'Teddy']\n",
    "t1 = [s, s, s]\n",
    "print(s); print(t1)"
   ]
  },
  {
   "cell_type": "code",
   "execution_count": 149,
   "metadata": {},
   "outputs": [
    {
     "name": "stdout",
     "output_type": "stream",
     "text": [
      "['Billy', 'Teddy']\n",
      "[['Billy', 'Teddy'], ['Billy', 'Teddy'], ['Billy', 'Teddy']]\n"
     ]
    }
   ],
   "source": [
    "t1[0][0] = 'Billy'\n",
    "print(s); print(t1) # t1[0][0] change the reference which is s for each time"
   ]
  },
  {
   "cell_type": "code",
   "execution_count": 27,
   "metadata": {},
   "outputs": [
    {
     "name": "stdout",
     "output_type": "stream",
     "text": [
      "Cindy\n",
      "[['Billy', 'Teddy'], ['Billy', 'Teddy'], ['Billy', 'Teddy']]\n"
     ]
    }
   ],
   "source": [
    "s = 'Cindy'\n",
    "print(s); print(t1) # s changed but dont influence the previous result of t1"
   ]
  },
  {
   "cell_type": "code",
   "execution_count": 28,
   "metadata": {},
   "outputs": [
    {
     "name": "stdout",
     "output_type": "stream",
     "text": [
      "['Bobby', 'Teddy']\n",
      "[['Bobby', 'Teddy'], ['Bobby', 'Teddy'], ['Bobby', 'Teddy']]\n"
     ]
    }
   ],
   "source": [
    "s = ['Bobby', 'Teddy']\n",
    "t2 = [s[:], s[:], s[:]] # With slicing\n",
    "print(s); print(t2)"
   ]
  },
  {
   "cell_type": "code",
   "execution_count": 29,
   "metadata": {},
   "outputs": [
    {
     "name": "stdout",
     "output_type": "stream",
     "text": [
      "['Bobby', 'Teddy']\n",
      "[['Billy', 'Teddy'], ['Bobby', 'Teddy'], ['Bobby', 'Teddy']]\n"
     ]
    }
   ],
   "source": [
    "t2[0][0] = 'Billy'\n",
    "print(s); print(t2) # change the value of t2[0][0], no effect on s"
   ]
  },
  {
   "cell_type": "code",
   "execution_count": 30,
   "metadata": {},
   "outputs": [
    {
     "name": "stdout",
     "output_type": "stream",
     "text": [
      "Cindy\n",
      "[['Billy', 'Teddy'], ['Bobby', 'Teddy'], ['Bobby', 'Teddy']]\n"
     ]
    }
   ],
   "source": [
    "s = 'Cindy'\n",
    "print(s); print(t2) # s changed but dont influence the previous result of t1"
   ]
  },
  {
   "cell_type": "markdown",
   "metadata": {},
   "source": [
    "Compare what you obtain at each line tagged with (`***`) and explain such a behavior. In `t1`, the list `s` is passed by *reference* and, in `t2`, the list `s` is passed by *value*. **You\n",
    "have to pay attention to how you handle your data in Python**.\n"
   ]
  },
  {
   "cell_type": "markdown",
   "metadata": {},
   "source": [
    "#### Text sequence type"
   ]
  },
  {
   "cell_type": "markdown",
   "metadata": {},
   "source": [
    "Objects of type `str`, also called *strings*, are used to handle textual data. Strings are immutable sequences of Unicode code points. They can be surrounded by simple quotes `''`, double quotes `\"\"` or triple quoted with `'''` or `\"\"\"`. Triple quoted strings may span multiple lines."
   ]
  },
  {
   "cell_type": "code",
   "execution_count": 151,
   "metadata": {},
   "outputs": [
    {
     "data": {
      "text/plain": [
       "str"
      ]
     },
     "execution_count": 151,
     "metadata": {},
     "output_type": "execute_result"
    }
   ],
   "source": [
    "s = 'Hello'; type(s)"
   ]
  },
  {
   "cell_type": "code",
   "execution_count": 170,
   "metadata": {},
   "outputs": [
    {
     "data": {
      "text/plain": [
       "str"
      ]
     },
     "execution_count": 170,
     "metadata": {},
     "output_type": "execute_result"
    }
   ],
   "source": [
    "s = \"Hello\"; type(s)"
   ]
  },
  {
   "cell_type": "code",
   "execution_count": 150,
   "metadata": {},
   "outputs": [
    {
     "data": {
      "text/plain": [
       "'A multiple lines string'"
      ]
     },
     "execution_count": 150,
     "metadata": {},
     "output_type": "execute_result"
    }
   ],
   "source": [
    "s_multi = '''A multiple lines string'''\n",
    "s_multi"
   ]
  },
  {
   "cell_type": "markdown",
   "metadata": {},
   "source": [
    "Strings are handled like other immutable sequences."
   ]
  },
  {
   "cell_type": "code",
   "execution_count": 153,
   "metadata": {},
   "outputs": [
    {
     "data": {
      "text/plain": [
       "'l'"
      ]
     },
     "execution_count": 153,
     "metadata": {},
     "output_type": "execute_result"
    }
   ],
   "source": [
    "s[2]"
   ]
  },
  {
   "cell_type": "code",
   "execution_count": 129,
   "metadata": {},
   "outputs": [
    {
     "data": {
      "text/plain": [
       "'el'"
      ]
     },
     "execution_count": 129,
     "metadata": {},
     "output_type": "execute_result"
    }
   ],
   "source": [
    "s[1:3]"
   ]
  },
  {
   "cell_type": "code",
   "execution_count": 130,
   "metadata": {},
   "outputs": [
    {
     "ename": "TypeError",
     "evalue": "'str' object does not support item assignment",
     "output_type": "error",
     "traceback": [
      "\u001b[0;31m---------------------------------------------------------------------------\u001b[0m",
      "\u001b[0;31mTypeError\u001b[0m                                 Traceback (most recent call last)",
      "\u001b[0;32m<ipython-input-130-e8f4857f475f>\u001b[0m in \u001b[0;36m<module>\u001b[0;34m\u001b[0m\n\u001b[0;32m----> 1\u001b[0;31m \u001b[0ms\u001b[0m\u001b[0;34m[\u001b[0m\u001b[0;36m0\u001b[0m\u001b[0;34m]\u001b[0m \u001b[0;34m=\u001b[0m \u001b[0;34m'h'\u001b[0m \u001b[0;31m# Error, strings are immutable\u001b[0m\u001b[0;34m\u001b[0m\u001b[0;34m\u001b[0m\u001b[0m\n\u001b[0m",
      "\u001b[0;31mTypeError\u001b[0m: 'str' object does not support item assignment"
     ]
    }
   ],
   "source": [
    "s[0] = 'h' # Error, strings are immutable"
   ]
  },
  {
   "cell_type": "code",
   "execution_count": 131,
   "metadata": {},
   "outputs": [
    {
     "data": {
      "text/plain": [
       "'HelloHello'"
      ]
     },
     "execution_count": 131,
     "metadata": {},
     "output_type": "execute_result"
    }
   ],
   "source": [
    "s + s"
   ]
  },
  {
   "cell_type": "code",
   "execution_count": 132,
   "metadata": {},
   "outputs": [
    {
     "data": {
      "text/plain": [
       "'HelloHelloHello'"
      ]
     },
     "execution_count": 132,
     "metadata": {},
     "output_type": "execute_result"
    }
   ],
   "source": [
    "s * 3"
   ]
  },
  {
   "cell_type": "markdown",
   "metadata": {},
   "source": [
    "Common types can be casted to string."
   ]
  },
  {
   "cell_type": "code",
   "execution_count": 133,
   "metadata": {},
   "outputs": [
    {
     "data": {
      "text/plain": [
       "'42'"
      ]
     },
     "execution_count": 133,
     "metadata": {},
     "output_type": "execute_result"
    }
   ],
   "source": [
    "str(42)"
   ]
  },
  {
   "cell_type": "code",
   "execution_count": 134,
   "metadata": {},
   "outputs": [
    {
     "data": {
      "text/plain": [
       "'[17, 8]'"
      ]
     },
     "execution_count": 134,
     "metadata": {},
     "output_type": "execute_result"
    }
   ],
   "source": [
    "str([17, 8])"
   ]
  },
  {
   "cell_type": "markdown",
   "metadata": {},
   "source": [
    "Type `str` provides a lot of operations to manipulate strings and it would be beyond the scope of this document to make an exhaustive review. For more details, you should refer to the [official documentation](https://docs.python.org/3.4/library/string.html). Hereafter, we give examples of some of the most useful operations with strings."
   ]
  },
  {
   "cell_type": "code",
   "execution_count": 135,
   "metadata": {},
   "outputs": [
    {
     "data": {
      "text/plain": [
       "True"
      ]
     },
     "execution_count": 135,
     "metadata": {},
     "output_type": "execute_result"
    }
   ],
   "source": [
    "s = 'Hello, Python charmers! How are you?'\n",
    "s.startswith('Hello')"
   ]
  },
  {
   "cell_type": "code",
   "execution_count": 136,
   "metadata": {},
   "outputs": [
    {
     "data": {
      "text/plain": [
       "False"
      ]
     },
     "execution_count": 136,
     "metadata": {},
     "output_type": "execute_result"
    }
   ],
   "source": [
    "s.endswith('you')"
   ]
  },
  {
   "cell_type": "code",
   "execution_count": 137,
   "metadata": {},
   "outputs": [
    {
     "data": {
      "text/plain": [
       "7"
      ]
     },
     "execution_count": 137,
     "metadata": {},
     "output_type": "execute_result"
    }
   ],
   "source": [
    "s.find('Python') # Get the first occurence"
   ]
  },
  {
   "cell_type": "code",
   "execution_count": 138,
   "metadata": {},
   "outputs": [
    {
     "data": {
      "text/plain": [
       "2"
      ]
     },
     "execution_count": 138,
     "metadata": {},
     "output_type": "execute_result"
    }
   ],
   "source": [
    "s.count('ar')"
   ]
  },
  {
   "cell_type": "code",
   "execution_count": 139,
   "metadata": {},
   "outputs": [
    {
     "data": {
      "text/plain": [
       "['Hello,', 'Python', 'charmers!', 'How', 'are', 'you?']"
      ]
     },
     "execution_count": 139,
     "metadata": {},
     "output_type": "execute_result"
    }
   ],
   "source": [
    "s.split() # Split s on spaces"
   ]
  },
  {
   "cell_type": "code",
   "execution_count": 140,
   "metadata": {},
   "outputs": [
    {
     "data": {
      "text/plain": [
       "['Hello, Python ch', 'mers! How ', 'e you?']"
      ]
     },
     "execution_count": 140,
     "metadata": {},
     "output_type": "execute_result"
    }
   ],
   "source": [
    "s.split('ar') # Split s on occurences of 'ar'"
   ]
  },
  {
   "cell_type": "code",
   "execution_count": 141,
   "metadata": {},
   "outputs": [
    {
     "data": {
      "text/plain": [
       "('Hello, Python charmers! ', 'How', ' are you?')"
      ]
     },
     "execution_count": 141,
     "metadata": {},
     "output_type": "execute_result"
    }
   ],
   "source": [
    "s.partition('How')"
   ]
  },
  {
   "cell_type": "code",
   "execution_count": 142,
   "metadata": {},
   "outputs": [
    {
     "data": {
      "text/plain": [
       "'Good morning, Python charmers! How are you?'"
      ]
     },
     "execution_count": 142,
     "metadata": {},
     "output_type": "execute_result"
    }
   ],
   "source": [
    "s.replace('Hello', 'Good morning')"
   ]
  },
  {
   "cell_type": "code",
   "execution_count": 143,
   "metadata": {},
   "outputs": [
    {
     "data": {
      "text/plain": [
       "'Python is fun!'"
      ]
     },
     "execution_count": 143,
     "metadata": {},
     "output_type": "execute_result"
    }
   ],
   "source": [
    "' '.join(['Python', 'is', 'fun!']) # Initial string is the separator"
   ]
  },
  {
   "cell_type": "code",
   "execution_count": 144,
   "metadata": {},
   "outputs": [
    {
     "data": {
      "text/plain": [
       "'Hey!'"
      ]
     },
     "execution_count": 144,
     "metadata": {},
     "output_type": "execute_result"
    }
   ],
   "source": [
    "' Hey! '.strip() # Remove trailing spaces"
   ]
  },
  {
   "cell_type": "markdown",
   "metadata": {},
   "source": [
    "String formatting."
   ]
  },
  {
   "cell_type": "code",
   "execution_count": 145,
   "metadata": {},
   "outputs": [
    {
     "data": {
      "text/plain": [
       "'The sum of 1 + 2 is 3'"
      ]
     },
     "execution_count": 145,
     "metadata": {},
     "output_type": "execute_result"
    }
   ],
   "source": [
    "f'The sum of 1 + 2 is {1 + 2}'"
   ]
  },
  {
   "cell_type": "code",
   "execution_count": 146,
   "metadata": {},
   "outputs": [
    {
     "data": {
      "text/plain": [
       "'The sum of 1 + 2 is 3 and the product 1 * 2 is 2'"
      ]
     },
     "execution_count": 146,
     "metadata": {},
     "output_type": "execute_result"
    }
   ],
   "source": [
    "f'The sum of 1 + 2 is {1 + 2} and the product 1 * 2 is {1 * 2}'"
   ]
  },
  {
   "cell_type": "code",
   "execution_count": 147,
   "metadata": {},
   "outputs": [
    {
     "data": {
      "text/plain": [
       "'Name: John Doe'"
      ]
     },
     "execution_count": 147,
     "metadata": {},
     "output_type": "execute_result"
    }
   ],
   "source": [
    "first = 'John'\n",
    "last = 'Doe'\n",
    "f'Name: {first} {last}'"
   ]
  },
  {
   "cell_type": "markdown",
   "metadata": {},
   "source": [
    "**Questions?**\n",
    "\n",
    "- How to test if the content of a string is a number?\n",
    "- How to find the last occurence of a substring in a string?"
   ]
  },
  {
   "cell_type": "code",
   "execution_count": 159,
   "metadata": {},
   "outputs": [
    {
     "data": {
      "text/plain": [
       "True"
      ]
     },
     "execution_count": 159,
     "metadata": {},
     "output_type": "execute_result"
    }
   ],
   "source": [
    "# Question1\n",
    "str(42).isnumeric()"
   ]
  },
  {
   "cell_type": "code",
   "execution_count": 172,
   "metadata": {},
   "outputs": [
    {
     "name": "stdout",
     "output_type": "stream",
     "text": [
      "2\n",
      "13\n"
     ]
    }
   ],
   "source": [
    "# Question2\n",
    "ss=s*3\n",
    "print(ss.find(\"l\")) # the first occurrence\n",
    "print(ss.rfind(\"l\")) # the last occurrence"
   ]
  },
  {
   "cell_type": "markdown",
   "metadata": {},
   "source": [
    "#### Mapping types"
   ]
  },
  {
   "cell_type": "markdown",
   "metadata": {},
   "source": [
    "Python provides only one mapping type, the *dictionaries*. Such objects are mutable and offer\n",
    "a map between (quite common) values to arbitrary objects. To handle dictionaries, we use a\n",
    "syntax similar to the lists."
   ]
  },
  {
   "cell_type": "code",
   "execution_count": 173,
   "metadata": {},
   "outputs": [
    {
     "data": {
      "text/plain": [
       "dict"
      ]
     },
     "execution_count": 173,
     "metadata": {},
     "output_type": "execute_result"
    }
   ],
   "source": [
    "# Simple dictionary creation\n",
    "a = {'one': 1, 'two': 2, 'three': 3}; type(a)"
   ]
  },
  {
   "cell_type": "code",
   "execution_count": 174,
   "metadata": {},
   "outputs": [
    {
     "data": {
      "text/plain": [
       "dict_keys(['one', 'two', 'three'])"
      ]
     },
     "execution_count": 174,
     "metadata": {},
     "output_type": "execute_result"
    }
   ],
   "source": [
    "# Useful zip function\n",
    "b = dict(zip(['one', 'two', 'three'], [1, 2, 3]))\n",
    "b.keys() # Get the keys"
   ]
  },
  {
   "cell_type": "code",
   "execution_count": 175,
   "metadata": {},
   "outputs": [
    {
     "data": {
      "text/plain": [
       "dict_values([1, 2, 3])"
      ]
     },
     "execution_count": 175,
     "metadata": {},
     "output_type": "execute_result"
    }
   ],
   "source": [
    "b.values() # Get the values"
   ]
  },
  {
   "cell_type": "code",
   "execution_count": 176,
   "metadata": {},
   "outputs": [
    {
     "data": {
      "text/plain": [
       "True"
      ]
     },
     "execution_count": 176,
     "metadata": {},
     "output_type": "execute_result"
    }
   ],
   "source": [
    "# These dictionaries are equal\n",
    "a == b"
   ]
  },
  {
   "cell_type": "markdown",
   "metadata": {},
   "source": [
    "Similar to mutable objects."
   ]
  },
  {
   "cell_type": "code",
   "execution_count": 177,
   "metadata": {},
   "outputs": [
    {
     "data": {
      "text/plain": [
       "3"
      ]
     },
     "execution_count": 177,
     "metadata": {},
     "output_type": "execute_result"
    }
   ],
   "source": [
    "len(a)"
   ]
  },
  {
   "cell_type": "code",
   "execution_count": 178,
   "metadata": {},
   "outputs": [
    {
     "data": {
      "text/plain": [
       "2"
      ]
     },
     "execution_count": 178,
     "metadata": {},
     "output_type": "execute_result"
    }
   ],
   "source": [
    "a['two']"
   ]
  },
  {
   "cell_type": "code",
   "execution_count": 179,
   "metadata": {},
   "outputs": [],
   "source": [
    "a['three'] = 33\n",
    "a['four'] = 4 # Append on the fly"
   ]
  },
  {
   "cell_type": "code",
   "execution_count": 180,
   "metadata": {},
   "outputs": [
    {
     "data": {
      "text/plain": [
       "{'one': 1, 'two': 2, 'three': 33, 'four': 4}"
      ]
     },
     "execution_count": 180,
     "metadata": {},
     "output_type": "execute_result"
    }
   ],
   "source": [
    "a"
   ]
  },
  {
   "cell_type": "code",
   "execution_count": 181,
   "metadata": {},
   "outputs": [],
   "source": [
    "b.clear() # Remove all items"
   ]
  },
  {
   "cell_type": "markdown",
   "metadata": {},
   "source": [
    "Playing with keys."
   ]
  },
  {
   "cell_type": "code",
   "execution_count": 182,
   "metadata": {},
   "outputs": [
    {
     "data": {
      "text/plain": [
       "False"
      ]
     },
     "execution_count": 182,
     "metadata": {},
     "output_type": "execute_result"
    }
   ],
   "source": [
    "1 in a # to chack the key in the dictionnary"
   ]
  },
  {
   "cell_type": "code",
   "execution_count": 183,
   "metadata": {},
   "outputs": [
    {
     "data": {
      "text/plain": [
       "True"
      ]
     },
     "execution_count": 183,
     "metadata": {},
     "output_type": "execute_result"
    }
   ],
   "source": [
    "'one' in a"
   ]
  },
  {
   "cell_type": "code",
   "execution_count": 184,
   "metadata": {},
   "outputs": [
    {
     "ename": "KeyError",
     "evalue": "'five'",
     "output_type": "error",
     "traceback": [
      "\u001b[1;31m---------------------------------------------------------------------------\u001b[0m",
      "\u001b[1;31mKeyError\u001b[0m                                  Traceback (most recent call last)",
      "\u001b[1;32m<ipython-input-184-50cb27402f77>\u001b[0m in \u001b[0;36m<module>\u001b[1;34m\u001b[0m\n\u001b[1;32m----> 1\u001b[1;33m \u001b[0ma\u001b[0m\u001b[1;33m[\u001b[0m\u001b[1;34m'five'\u001b[0m\u001b[1;33m]\u001b[0m \u001b[1;31m# Error, the key doesn't exist\u001b[0m\u001b[1;33m\u001b[0m\u001b[1;33m\u001b[0m\u001b[0m\n\u001b[0m",
      "\u001b[1;31mKeyError\u001b[0m: 'five'"
     ]
    }
   ],
   "source": [
    "a['five'] # Error, the key doesn't exist"
   ]
  },
  {
   "cell_type": "code",
   "execution_count": 185,
   "metadata": {},
   "outputs": [
    {
     "data": {
      "text/plain": [
       "'Default value'"
      ]
     },
     "execution_count": 185,
     "metadata": {},
     "output_type": "execute_result"
    }
   ],
   "source": [
    "a.get('five', 'Default value') # Safer..."
   ]
  },
  {
   "cell_type": "markdown",
   "metadata": {},
   "source": [
    "Nice with tuples."
   ]
  },
  {
   "cell_type": "code",
   "execution_count": 186,
   "metadata": {},
   "outputs": [
    {
     "data": {
      "text/plain": [
       "{(1, 3): 'Player', (2, 6): 'Bomb'}"
      ]
     },
     "execution_count": 186,
     "metadata": {},
     "output_type": "execute_result"
    }
   ],
   "source": [
    "grid = dict() # Empty dictionary\n",
    "grid[1, 3] = 'Player'\n",
    "grid[2, 6] = 'Bomb'\n",
    "grid"
   ]
  },
  {
   "cell_type": "markdown",
   "metadata": {},
   "source": [
    "#### Other types"
   ]
  },
  {
   "cell_type": "markdown",
   "metadata": {},
   "source": [
    "There also exist some special types that play specific roles in Python. Among them, we should mention `None` for the null object and `NotImplemented` which could be returned when some operation is not supported. These types have to be handled with `is` and `is not` operators.\n",
    "\n",
    "We just introduced the more commonn types in Python. The interested reader will find a lot of additional informations in the [official documentation](https://docs.python.org/3.4/library/stdtypes.html)."
   ]
  },
  {
   "cell_type": "markdown",
   "metadata": {},
   "source": [
    "### Conditionals"
   ]
  },
  {
   "cell_type": "markdown",
   "metadata": {},
   "source": [
    "We use the word *conditional* for code that is run according to some boolean value. Such a\n",
    "thing is based on a `if` statement:"
   ]
  },
  {
   "cell_type": "code",
   "execution_count": 187,
   "metadata": {},
   "outputs": [
    {
     "name": "stdout",
     "output_type": "stream",
     "text": [
      "a is positive\n"
     ]
    }
   ],
   "source": [
    "a = 17\n",
    "if a > 0:\n",
    "    print('a is positive')"
   ]
  },
  {
   "cell_type": "markdown",
   "metadata": {},
   "source": [
    "**It is *crucial* to understand how this piece of code is structured. The `if` statement ends with the character `:` and the next line has to start with some spaces. If the condition is true, this line is run. If the condition is false, the line is ignored and the run continues. You can choose the number of spaces at the beginning of the line but it has to be strictly positive. These spaces delimit the bunch of code to run if the condition is true and their number must remain the same along all the line of the conditional block.**"
   ]
  },
  {
   "cell_type": "code",
   "execution_count": 162,
   "metadata": {},
   "outputs": [
    {
     "ename": "IndentationError",
     "evalue": "expected an indented block (<ipython-input-162-bd5a65c2871d>, line 3)",
     "output_type": "error",
     "traceback": [
      "\u001b[0;36m  File \u001b[0;32m\"<ipython-input-162-bd5a65c2871d>\"\u001b[0;36m, line \u001b[0;32m3\u001b[0m\n\u001b[0;31m    print('a is positive') # Error, no space\u001b[0m\n\u001b[0m        ^\u001b[0m\n\u001b[0;31mIndentationError\u001b[0m\u001b[0;31m:\u001b[0m expected an indented block\n"
     ]
    }
   ],
   "source": [
    "a = 17\n",
    "if a > 0:\n",
    "print('a is positive') # Error, no space"
   ]
  },
  {
   "cell_type": "code",
   "execution_count": 163,
   "metadata": {},
   "outputs": [
    {
     "name": "stdout",
     "output_type": "stream",
     "text": [
      "a is positive\n",
      "Yeah!\n"
     ]
    }
   ],
   "source": [
    "a = 17\n",
    "if a > 0:\n",
    "    print('a is positive')\n",
    "    print('Yeah!') # In the conditional block"
   ]
  },
  {
   "cell_type": "code",
   "execution_count": 164,
   "metadata": {},
   "outputs": [
    {
     "name": "stdout",
     "output_type": "stream",
     "text": [
      "Yeah!\n"
     ]
    }
   ],
   "source": [
    "a = -42\n",
    "if a > 0:\n",
    "    print('a is positive')\n",
    "print('Yeah!') # Out of conditional block"
   ]
  },
  {
   "cell_type": "code",
   "execution_count": 166,
   "metadata": {},
   "outputs": [
    {
     "ename": "IndentationError",
     "evalue": "unindent does not match any outer indentation level (<tokenize>, line 4)",
     "output_type": "error",
     "traceback": [
      "\u001b[0;36m  File \u001b[0;32m\"<tokenize>\"\u001b[0;36m, line \u001b[0;32m4\u001b[0m\n\u001b[0;31m    print('Yeah!') # Error, incorrect number of spaces\u001b[0m\n\u001b[0m    ^\u001b[0m\n\u001b[0;31mIndentationError\u001b[0m\u001b[0;31m:\u001b[0m unindent does not match any outer indentation level\n"
     ]
    }
   ],
   "source": [
    "a = 17\n",
    "if a > 0:\n",
    "    print('a is positive')\n",
    "  print('Yeah!') # Error, incorrect number of spaces"
   ]
  },
  {
   "cell_type": "markdown",
   "metadata": {},
   "source": [
    "**All instruction blocks in Python have to follow these rules! Let your IDE help you!**"
   ]
  },
  {
   "cell_type": "markdown",
   "metadata": {},
   "source": [
    "Now, we know how to write an instruction block, we can construct richer conditionals by running some block if the condition is true and an other block otherwise. Such a structure is known as a `if ... else` statement."
   ]
  },
  {
   "cell_type": "code",
   "execution_count": 167,
   "metadata": {},
   "outputs": [
    {
     "name": "stdout",
     "output_type": "stream",
     "text": [
      "Condition is true\n",
      "a is positive\n"
     ]
    }
   ],
   "source": [
    "a = 17\n",
    "if a > 0:\n",
    "    print('Condition is true')\n",
    "    print('a is positive')\n",
    "else:\n",
    "    print('Condition is false')\n",
    "    print('a is nonpositive')"
   ]
  },
  {
   "cell_type": "markdown",
   "metadata": {},
   "source": [
    "Quite often, we use a conditional to give a value to a variable according to some condition:"
   ]
  },
  {
   "cell_type": "code",
   "execution_count": 168,
   "metadata": {},
   "outputs": [
    {
     "name": "stdout",
     "output_type": "stream",
     "text": [
      "Even number\n"
     ]
    }
   ],
   "source": [
    "a = 42\n",
    "if a % 2 == 1:\n",
    "    val = 'Odd number'\n",
    "else:\n",
    "    val = 'Even number'\n",
    "\n",
    "print(val)    "
   ]
  },
  {
   "cell_type": "markdown",
   "metadata": {},
   "source": [
    "Such a code is a bit long and to reduce its size, Python offers *inline conditionals* (also called *ternaries*):"
   ]
  },
  {
   "cell_type": "code",
   "execution_count": 169,
   "metadata": {},
   "outputs": [
    {
     "name": "stdout",
     "output_type": "stream",
     "text": [
      "Even number\n"
     ]
    }
   ],
   "source": [
    "# This example is equivalent to the previous one\n",
    "a = 42\n",
    "val = 'Odd number' if a % 2 == 1 else 'Even number'\n",
    "print(val)"
   ]
  },
  {
   "cell_type": "markdown",
   "metadata": {},
   "source": [
    "An `if ... else` statement is adapted to test a single condition but it becomes less easy\n",
    "when multiple nested conditions are needed:"
   ]
  },
  {
   "cell_type": "code",
   "execution_count": 170,
   "metadata": {},
   "outputs": [
    {
     "name": "stdout",
     "output_type": "stream",
     "text": [
      "The remainder of 17 by 3 is 2\n"
     ]
    }
   ],
   "source": [
    "a = 17\n",
    "mod3 = a % 3\n",
    "\n",
    "if mod3 == 0:\n",
    "    print('We can divide {} by 3'.format(a))\n",
    "else:\n",
    "    if mod3 == 1:\n",
    "        print('The remainder of {} by 3 is 1'.format(a))\n",
    "    else:\n",
    "        if mod3 == 2:\n",
    "            print('The remainder of {} by 3 is 2'.format(a))\n",
    "        else:\n",
    "            print('This eventuality should be impossible')"
   ]
  },
  {
   "cell_type": "markdown",
   "metadata": {},
   "source": [
    "To produce a code easier to read and test the various conditions one by one, we can deal with\n",
    "a `if ... elif ... else` statement. So, the previous example can elegantly be rewritten as\n",
    "follows:"
   ]
  },
  {
   "cell_type": "code",
   "execution_count": 171,
   "metadata": {},
   "outputs": [
    {
     "name": "stdout",
     "output_type": "stream",
     "text": [
      "The remainder of 17 by 3 is 2\n"
     ]
    }
   ],
   "source": [
    "a = 17\n",
    "mod3 = a % 3\n",
    "\n",
    "if mod3 == 0:\n",
    "    print('We can divide {} by 3'.format(a))\n",
    "elif mod3 == 1:\n",
    "    print('The remainder of {} by 3 is 1'.format(a))\n",
    "elif mod3 == 2:\n",
    "    print('The remainder of {} by 3 is 2'.format(a))\n",
    "else:\n",
    "    print('This eventuality should be impossible')"
   ]
  },
  {
   "cell_type": "markdown",
   "metadata": {},
   "source": [
    "**Questions**\n",
    "\n",
    "- Being given some variable `v`, write a conditional to test if `v `is `None` or not.\n",
    "- Being given two strings `s1` and `s2`, write a conditional to test if they have the same length.\n",
    "- For some numeric value `v`, write a `if ... elif ... else` statement that prints different messages according to the positivity, nullity or negativity of `v`."
   ]
  },
  {
   "cell_type": "code",
   "execution_count": 3,
   "metadata": {},
   "outputs": [
    {
     "name": "stdout",
     "output_type": "stream",
     "text": [
      "v is not None\n"
     ]
    }
   ],
   "source": [
    "# Question1\n",
    "v=1\n",
    "if v==0:\n",
    "    print('v is None')\n",
    "else:\n",
    "    print('v is not None')"
   ]
  },
  {
   "cell_type": "code",
   "execution_count": 7,
   "metadata": {},
   "outputs": [
    {
     "name": "stdout",
     "output_type": "stream",
     "text": [
      "same length\n"
     ]
    }
   ],
   "source": [
    "# Question2\n",
    "s1='boys'\n",
    "s2='girl'\n",
    "if len(s1)==len(s2):\n",
    "    print('same length')\n",
    "else:\n",
    "    print('different length')"
   ]
  },
  {
   "cell_type": "code",
   "execution_count": 8,
   "metadata": {},
   "outputs": [
    {
     "name": "stdout",
     "output_type": "stream",
     "text": [
      "v negative value\n"
     ]
    }
   ],
   "source": [
    "v=-2\n",
    "if v>0:\n",
    "    print('v positive value')\n",
    "elif v<0:\n",
    "    print('v negative value')\n",
    "else:\n",
    "    print('v null')"
   ]
  },
  {
   "cell_type": "markdown",
   "metadata": {},
   "source": [
    "### Loops"
   ]
  },
  {
   "cell_type": "markdown",
   "metadata": {},
   "source": [
    "Looping means repeating a bunch of code until some condition becomes false. The first statement to do it with Python is based on `while`. Such a loop starts with `while` and a condition and repeats the following block of code while this condition is true (potentially *ad nauseam* if the condition never change):"
   ]
  },
  {
   "cell_type": "code",
   "execution_count": 172,
   "metadata": {},
   "outputs": [
    {
     "name": "stdout",
     "output_type": "stream",
     "text": [
      "5\n",
      "16\n",
      "8\n",
      "4\n",
      "2\n",
      "1\n"
     ]
    }
   ],
   "source": [
    "# Syracuse Sequence\n",
    "u = 5; print(u)\n",
    "while u != 1:\n",
    "    u = u // 2 if u % 2 == 0 else 3*u + 1\n",
    "    print(u)"
   ]
  },
  {
   "cell_type": "code",
   "execution_count": 173,
   "metadata": {},
   "outputs": [
    {
     "name": "stdout",
     "output_type": "stream",
     "text": [
      "0 ########\n",
      "1 ########\n",
      "2 ########\n",
      "3 ########\n",
      "4 ########\n",
      "5 ########\n",
      "6 ########\n",
      "7 ########\n"
     ]
    }
   ],
   "source": [
    "# Square\n",
    "n = 0\n",
    "while n < 8:\n",
    "    print(n, '#' * 8)\n",
    "    n += 1"
   ]
  },
  {
   "cell_type": "markdown",
   "metadata": {},
   "source": [
    "The second example corresponds to a so common loop and there is a specific statement for that. Indeed, `n` is initialized to `0` and while `n` still not reach the value `8`, we increment it by one and n takes all the values `0, 1, ... , 8`. This loop can be summarized with a `for` statement:"
   ]
  },
  {
   "cell_type": "code",
   "execution_count": 174,
   "metadata": {},
   "outputs": [
    {
     "name": "stdout",
     "output_type": "stream",
     "text": [
      "0 ########\n",
      "1 ########\n",
      "2 ########\n",
      "3 ########\n",
      "4 ########\n",
      "5 ########\n",
      "6 ########\n",
      "7 ########\n"
     ]
    }
   ],
   "source": [
    "# Equivalent to previous 'Square' example\n",
    "for n in range(8):\n",
    "    print(n, '#' * 8)"
   ]
  },
  {
   "cell_type": "code",
   "execution_count": 175,
   "metadata": {},
   "outputs": [
    {
     "name": "stdout",
     "output_type": "stream",
     "text": [
      "***\n",
      "* *\n",
      "***\n",
      "\n",
      "* *\n",
      " * \n",
      "* *\n",
      "\n",
      "***\n",
      "* *\n",
      "***\n",
      "\n",
      "* *\n",
      " * \n",
      "* *\n",
      "\n",
      "***\n",
      "* *\n",
      "***\n",
      "\n",
      "* *\n",
      " * \n",
      "* *\n",
      "\n"
     ]
    }
   ],
   "source": [
    "# Useful to browse a sequence from indices\n",
    "t = ('', '***', '* *', ' * ')\n",
    "for i in (1, 2, 1, 0, 2, 3, 2, 0) * 3:\n",
    "    print(t[i])"
   ]
  },
  {
   "cell_type": "markdown",
   "metadata": {},
   "source": [
    "Actually, a `for` statement can be used with a lot of objects, called *iterables*, to browse one\n",
    "by one all their items. Among the iterable objects (see further for other examples), we have\n",
    "already introduced some sequence types:"
   ]
  },
  {
   "cell_type": "code",
   "execution_count": 176,
   "metadata": {},
   "outputs": [
    {
     "name": "stdout",
     "output_type": "stream",
     "text": [
      "I\n",
      "am\n",
      "a\n",
      "tuple\n"
     ]
    }
   ],
   "source": [
    "# With a tuple\n",
    "t = ('I', 'am', 'a', 'tuple')\n",
    "for item in t:\n",
    "    print(item)"
   ]
  },
  {
   "cell_type": "code",
   "execution_count": 177,
   "metadata": {},
   "outputs": [
    {
     "name": "stdout",
     "output_type": "stream",
     "text": [
      "I\n",
      "am\n",
      "a\n",
      "list\n"
     ]
    }
   ],
   "source": [
    "# With a list\n",
    "l = ['I', 'am', 'a', 'list']\n",
    "for item in l:\n",
    "    print(item)"
   ]
  },
  {
   "cell_type": "code",
   "execution_count": 178,
   "metadata": {},
   "outputs": [
    {
     "name": "stdout",
     "output_type": "stream",
     "text": [
      "2\n",
      "5\n",
      "8\n"
     ]
    }
   ],
   "source": [
    "# With a range\n",
    "for i in range(2, 10, 3):\n",
    "    print(i)"
   ]
  },
  {
   "cell_type": "code",
   "execution_count": 179,
   "metadata": {},
   "outputs": [
    {
     "name": "stdout",
     "output_type": "stream",
     "text": [
      "H\n",
      "o\n",
      "w\n",
      " \n",
      "a\n",
      "r\n",
      "e\n",
      " \n",
      "y\n",
      "o\n",
      "u\n",
      ",\n",
      " \n",
      "P\n",
      "y\n",
      "t\n",
      "h\n",
      "o\n",
      "n\n",
      "i\n",
      "s\n",
      "t\n",
      "a\n",
      "s\n",
      "?\n"
     ]
    }
   ],
   "source": [
    "# With a string\n",
    "s = 'How are you, Pythonistas?'\n",
    "for c in s:\n",
    "    print(c)"
   ]
  },
  {
   "cell_type": "code",
   "execution_count": 180,
   "metadata": {},
   "outputs": [
    {
     "name": "stdout",
     "output_type": "stream",
     "text": [
      "one\n",
      "two\n",
      "three\n"
     ]
    }
   ],
   "source": [
    "# With a dictionary\n",
    "d = {'one': 1, 'two': 2, 'three': 3}\n",
    "for k in d:\n",
    "    print(k)"
   ]
  },
  {
   "cell_type": "markdown",
   "metadata": {},
   "source": [
    "The example with a dictionary needs some clarifications. As you can notice, the keys are\n",
    "browsed, not the values. We could use the square brackets `[]` to get the values or use\n",
    "`d.keys()` and `d.values()` but we also could use `d.items()` iterate over the pairs key-value:"
   ]
  },
  {
   "cell_type": "code",
   "execution_count": 181,
   "metadata": {},
   "outputs": [
    {
     "name": "stdout",
     "output_type": "stream",
     "text": [
      "one\n",
      "two\n",
      "three\n"
     ]
    }
   ],
   "source": [
    "# Browsing keys (like previous example)\n",
    "for k in d.keys():\n",
    "    print(k)"
   ]
  },
  {
   "cell_type": "code",
   "execution_count": 182,
   "metadata": {},
   "outputs": [
    {
     "name": "stdout",
     "output_type": "stream",
     "text": [
      "1\n",
      "2\n",
      "3\n"
     ]
    }
   ],
   "source": [
    "# Browsing values\n",
    "for v in d.values():\n",
    "    print(v)"
   ]
  },
  {
   "cell_type": "code",
   "execution_count": 183,
   "metadata": {},
   "outputs": [
    {
     "name": "stdout",
     "output_type": "stream",
     "text": [
      "one --> 1\n",
      "two --> 2\n",
      "three --> 3\n"
     ]
    }
   ],
   "source": [
    "# Getting value from key\n",
    "for k in d:\n",
    "    print('{} --> {}'.format(k, d[k]))"
   ]
  },
  {
   "cell_type": "code",
   "execution_count": 184,
   "metadata": {},
   "outputs": [
    {
     "name": "stdout",
     "output_type": "stream",
     "text": [
      "Key: one -- Value: 1\n",
      "Key: two -- Value: 2\n",
      "Key: three -- Value: 3\n"
     ]
    }
   ],
   "source": [
    "# Browsing the pairs\n",
    "for (k, v) in d.items():\n",
    "    print('Key: {} -- Value: {}'.format(k, v))"
   ]
  },
  {
   "cell_type": "markdown",
   "metadata": {},
   "source": [
    "It is sometimes useful to skip some iteration, to consider an endless loop, to quit a not\n",
    "finished loop, to run some commands at the end of a loop, . . . For that purposes, we have at\n",
    "our disposal `continue`, `break` and `else`:"
   ]
  },
  {
   "cell_type": "code",
   "execution_count": 185,
   "metadata": {},
   "outputs": [
    {
     "name": "stdout",
     "output_type": "stream",
     "text": [
      "0\n",
      "1\n",
      "3\n",
      "4\n"
     ]
    }
   ],
   "source": [
    "# Skip some iteration\n",
    "for i in range(5):\n",
    "    if i == 2:\n",
    "        continue # 2 is skipped\n",
    "    print(i)"
   ]
  },
  {
   "cell_type": "code",
   "execution_count": 186,
   "metadata": {},
   "outputs": [
    {
     "name": "stdout",
     "output_type": "stream",
     "text": [
      "0\n",
      "1\n"
     ]
    }
   ],
   "source": [
    "# Breaking loops\n",
    "for i in range(5):\n",
    "    if i == 2:\n",
    "        break # Stop at 2\n",
    "    print(i)"
   ]
  },
  {
   "cell_type": "code",
   "execution_count": 187,
   "metadata": {},
   "outputs": [
    {
     "name": "stdout",
     "output_type": "stream",
     "text": [
      "*\n",
      "**\n",
      "***\n",
      "****\n",
      "*****\n",
      "******\n",
      "*******\n",
      "********\n",
      "*********\n",
      "**********\n",
      "***********\n"
     ]
    }
   ],
   "source": [
    "s = ''\n",
    "while True: # Infinite loop ...\n",
    "    if len(s) > 10:\n",
    "        break # ... that ends here\n",
    "    s += '*'\n",
    "    print(s)"
   ]
  },
  {
   "cell_type": "code",
   "execution_count": 188,
   "metadata": {},
   "outputs": [
    {
     "name": "stdout",
     "output_type": "stream",
     "text": [
      "~\n",
      "~~\n",
      "~~~\n",
      "~~~~\n",
      "~~~~~\n",
      "~~~~~~\n",
      "~~~~~~~\n",
      "###\n"
     ]
    }
   ],
   "source": [
    "# Concluding a loop\n",
    "s = ''\n",
    "while len(s) < 7: # Modify this value to see how the run changes\n",
    "    if len(s) == 8:\n",
    "        break # Forced to break, skip 'else' block\n",
    "    s += '~'; print(s)\n",
    "else:\n",
    "    # This command is run only if the loop ends without 'break'\n",
    "    print('###')"
   ]
  },
  {
   "cell_type": "markdown",
   "metadata": {},
   "source": [
    "The `for` statement can also be used to create lists. This technique is known as *list\n",
    "comprehension* and is often useful:"
   ]
  },
  {
   "cell_type": "code",
   "execution_count": 189,
   "metadata": {},
   "outputs": [
    {
     "data": {
      "text/plain": [
       "[17, 17, 17, 17, 17]"
      ]
     },
     "execution_count": 189,
     "metadata": {},
     "output_type": "execute_result"
    }
   ],
   "source": [
    "[17 for i in range(5)]"
   ]
  },
  {
   "cell_type": "code",
   "execution_count": 190,
   "metadata": {},
   "outputs": [
    {
     "data": {
      "text/plain": [
       "[0, 3, 6, 9, 12]"
      ]
     },
     "execution_count": 190,
     "metadata": {},
     "output_type": "execute_result"
    }
   ],
   "source": [
    "[3 * i for i in range(5)]"
   ]
  },
  {
   "cell_type": "code",
   "execution_count": 191,
   "metadata": {},
   "outputs": [
    {
     "data": {
      "text/plain": [
       "['', '#', '##', '###', '####']"
      ]
     },
     "execution_count": 191,
     "metadata": {},
     "output_type": "execute_result"
    }
   ],
   "source": [
    "['#' * i for i in range(5)]"
   ]
  },
  {
   "cell_type": "code",
   "execution_count": 192,
   "metadata": {},
   "outputs": [
    {
     "data": {
      "text/plain": [
       "['Hello Bobby', 'Hello Billy', 'Hello Teddy']"
      ]
     },
     "execution_count": 192,
     "metadata": {},
     "output_type": "execute_result"
    }
   ],
   "source": [
    "names = ['Bobby', 'Billy', 'Teddy']\n",
    "['Hello ' + name for name in names]"
   ]
  },
  {
   "cell_type": "markdown",
   "metadata": {},
   "source": [
    "**Questions**\n",
    "\n",
    "- Write some commands to print the following picture:\n",
    "  \n",
    "```\n",
    "*\n",
    "**\n",
    "***\n",
    "****\n",
    "*****\n",
    "```\n",
    "\n",
    "- Write some commands to print the following picture:\n",
    "\n",
    "```\n",
    "*\n",
    "**\n",
    "***\n",
    "****\n",
    "*****\n",
    "#\n",
    "```\n",
    "\n",
    "- Write some commands to print the following picture:\n",
    "\n",
    "```\n",
    "    *\n",
    "   ***\n",
    "  *****\n",
    " *******\n",
    "*********\n",
    "    #\n",
    "```\n",
    "\n",
    "- Write some commands to print the following picture:\n",
    "\n",
    "```\n",
    "# # # # #\n",
    " # # # #\n",
    "# # # # #\n",
    "```\n",
    "\n",
    "- Write some commands to print the following picture:\n",
    "\n",
    "```\n",
    "+++++\n",
    "++++\n",
    "+++\n",
    "++\n",
    "+\n",
    "++\n",
    "+++\n",
    "++++\n",
    "+++++\n",
    "```\n",
    "\n",
    "- Write some commands to print the following picture:\n",
    "\n",
    "```\n",
    "+       +\n",
    "++     ++\n",
    "+++   +++\n",
    "++++ ++++\n",
    "+++++++++\n",
    "```"
   ]
  },
  {
   "cell_type": "code",
   "execution_count": 16,
   "metadata": {},
   "outputs": [
    {
     "name": "stdout",
     "output_type": "stream",
     "text": [
      "*\n",
      "**\n",
      "***\n",
      "****\n",
      "*****\n"
     ]
    }
   ],
   "source": [
    "# Question1\n",
    "s=''\n",
    "while len(s)<5:\n",
    "    s+='*'\n",
    "    print(s)"
   ]
  },
  {
   "cell_type": "code",
   "execution_count": 19,
   "metadata": {},
   "outputs": [
    {
     "name": "stdout",
     "output_type": "stream",
     "text": [
      "*\n",
      "**\n",
      "***\n",
      "****\n",
      "*****\n",
      "#\n"
     ]
    }
   ],
   "source": [
    "# Question2\n",
    "s = ''\n",
    "while len(s) < 5: # Modify this value to see how the run changes\n",
    "    s += '*'\n",
    "    print(s)\n",
    "else:\n",
    "    # This command is run only if the loop ends without 'break'\n",
    "    print('#')"
   ]
  },
  {
   "cell_type": "code",
   "execution_count": 3,
   "metadata": {},
   "outputs": [
    {
     "name": "stdout",
     "output_type": "stream",
     "text": [
      "    *    \n",
      "   ***   \n",
      "  *****  \n",
      " ******* \n",
      "*********\n",
      "    #    \n"
     ]
    }
   ],
   "source": [
    "# Question3\n",
    "s=[(9-i)//2*' '+i*'*'+(9-i)//2*' ' for i in range(1,10,2)]\n",
    "s.append(4*' '+'#'+4*' ')\n",
    "for i in range(len(s)):\n",
    "    print(s[i])"
   ]
  },
  {
   "cell_type": "code",
   "execution_count": 6,
   "metadata": {},
   "outputs": [
    {
     "name": "stdout",
     "output_type": "stream",
     "text": [
      "# # # # #\n",
      " # # # # \n",
      "# # # # #\n"
     ]
    }
   ],
   "source": [
    "# Question4\n",
    "t = ('# # # # #',' # # # # ')\n",
    "for i in (0,1,0):\n",
    "    print(t[i])"
   ]
  },
  {
   "cell_type": "code",
   "execution_count": 24,
   "metadata": {},
   "outputs": [
    {
     "name": "stdout",
     "output_type": "stream",
     "text": [
      "+++++\n",
      "++++\n",
      "+++\n",
      "++\n",
      "+\n",
      "++\n",
      "+++\n",
      "++++\n",
      "+++++\n"
     ]
    }
   ],
   "source": [
    "# Question5\n",
    "l=['+'*i for i in [5,4,3,2,1,2,3,4,5]]\n",
    "for item in l:\n",
    "    print(item)"
   ]
  },
  {
   "cell_type": "code",
   "execution_count": 40,
   "metadata": {},
   "outputs": [
    {
     "name": "stdout",
     "output_type": "stream",
     "text": [
      "+       +\n",
      "++     ++\n",
      "+++   +++\n",
      "++++ ++++\n",
      "+++++++++\n"
     ]
    }
   ],
   "source": [
    "# Question6\n",
    "s=[]\n",
    "for i in range(1,6):\n",
    "    if i<=4:\n",
    "        s.append('+'*i+(9-2*i)*' '+'+'*i)\n",
    "    else:\n",
    "        s.append(9*'+')\n",
    "for item in s:\n",
    "    print(item)"
   ]
  },
  {
   "cell_type": "markdown",
   "metadata": {},
   "source": [
    "### Functions"
   ]
  },
  {
   "cell_type": "markdown",
   "metadata": {},
   "source": [
    "There are some built-in functions that are always available with in a Python interpreter. We\n",
    "have already seen some of them and you can read the [documentation](https://docs.python.org/3.4/library/functions.html) to get a full list of these\n",
    "functions. Such a function has a type like other objects, has a name and may have some\n",
    "arguments in the pair of parenthesis. So, a name for a function is like a name for a variable\n",
    "and a function object can be assigned to a variable! **This is a common source of bugs and\n",
    "strange behaviors in Python scripts**."
   ]
  },
  {
   "cell_type": "code",
   "execution_count": 6,
   "metadata": {},
   "outputs": [
    {
     "data": {
      "text/plain": [
       "8"
      ]
     },
     "execution_count": 6,
     "metadata": {},
     "output_type": "execute_result"
    }
   ],
   "source": [
    "# Absolute value of the argument\n",
    "abs(-8)"
   ]
  },
  {
   "cell_type": "code",
   "execution_count": 194,
   "metadata": {},
   "outputs": [
    {
     "data": {
      "text/plain": [
       "type"
      ]
     },
     "execution_count": 194,
     "metadata": {},
     "output_type": "execute_result"
    }
   ],
   "source": [
    "type(abs) # Built-in function"
   ]
  },
  {
   "cell_type": "code",
   "execution_count": 195,
   "metadata": {},
   "outputs": [
    {
     "data": {
      "text/plain": [
       "-8.0"
      ]
     },
     "execution_count": 195,
     "metadata": {},
     "output_type": "execute_result"
    }
   ],
   "source": [
    "# Convert argument into a floating number\n",
    "float(-8)"
   ]
  },
  {
   "cell_type": "code",
   "execution_count": 196,
   "metadata": {},
   "outputs": [
    {
     "data": {
      "text/plain": [
       "-8.0"
      ]
     },
     "execution_count": 196,
     "metadata": {},
     "output_type": "execute_result"
    }
   ],
   "source": [
    "# Be careful with function names\n",
    "abs = float # Yes, you can do it!\n",
    "abs(-8) # Ouch!"
   ]
  },
  {
   "cell_type": "markdown",
   "metadata": {},
   "source": [
    "Of course, we can define our own functions with Python. To give a first example, we define a function `f` that takes no arguments and that does nothing:"
   ]
  },
  {
   "cell_type": "code",
   "execution_count": 197,
   "metadata": {},
   "outputs": [
    {
     "data": {
      "text/plain": [
       "function"
      ]
     },
     "execution_count": 197,
     "metadata": {},
     "output_type": "execute_result"
    }
   ],
   "source": [
    "def f():\n",
    "    pass\n",
    "\n",
    "type(f) # Function type"
   ]
  },
  {
   "cell_type": "code",
   "execution_count": 198,
   "metadata": {},
   "outputs": [],
   "source": [
    "f() # Nothing happens..."
   ]
  },
  {
   "cell_type": "code",
   "execution_count": 199,
   "metadata": {},
   "outputs": [
    {
     "data": {
      "text/plain": [
       "(<function __main__.f()>, 140261154178048, '0x7f9118454400')"
      ]
     },
     "execution_count": 199,
     "metadata": {},
     "output_type": "execute_result"
    }
   ],
   "source": [
    "f, id(f), hex(id(f))"
   ]
  },
  {
   "cell_type": "code",
   "execution_count": 200,
   "metadata": {},
   "outputs": [
    {
     "data": {
      "text/plain": [
       "140261154178048"
      ]
     },
     "execution_count": 200,
     "metadata": {},
     "output_type": "execute_result"
    }
   ],
   "source": [
    "g = f; id(g) # A function can be assigned"
   ]
  },
  {
   "cell_type": "code",
   "execution_count": 201,
   "metadata": {},
   "outputs": [
    {
     "data": {
      "text/plain": [
       "True"
      ]
     },
     "execution_count": 201,
     "metadata": {},
     "output_type": "execute_result"
    }
   ],
   "source": [
    "g is f # Same object pointed by f and g"
   ]
  },
  {
   "cell_type": "code",
   "execution_count": 202,
   "metadata": {},
   "outputs": [],
   "source": [
    "g() # Nothing happens..."
   ]
  },
  {
   "cell_type": "markdown",
   "metadata": {},
   "source": [
    "Note the use of the statement `pass` that corresponds to an empty block of code. Indeed,\n",
    "a function must possess its own block of commands, called its *body*, and you can not omit\n",
    "it. Thus, statement `pass` allowed us to define a function with an empty body. As explained\n",
    "above, the created function has a type and can be assigned.\n",
    "\n",
    "Let us now define a function without argument but that does something:"
   ]
  },
  {
   "cell_type": "code",
   "execution_count": 204,
   "metadata": {},
   "outputs": [
    {
     "name": "stdin",
     "output_type": "stream",
     "text": [
      "Lang ['e' for english, 'f' for french] :  e\n"
     ]
    },
    {
     "name": "stdout",
     "output_type": "stream",
     "text": [
      "Hello!\n"
     ]
    },
    {
     "name": "stdin",
     "output_type": "stream",
     "text": [
      "Lang ['e' for english, 'f' for french] :  f\n"
     ]
    },
    {
     "name": "stdout",
     "output_type": "stream",
     "text": [
      "Salut!\n"
     ]
    },
    {
     "name": "stdin",
     "output_type": "stream",
     "text": [
      "Lang ['e' for english, 'f' for french] :  stop\n"
     ]
    }
   ],
   "source": [
    "def say_hello():\n",
    "    lang = input(\"Lang ['e' for english, 'f' for french] : \")\n",
    "    if lang == 'e':\n",
    "        print('Hello!')\n",
    "    elif lang == 'f':\n",
    "        print('Salut!')\n",
    "    elif lang == 'stop':\n",
    "        return\n",
    "    else:\n",
    "        print('Error: unknown language')\n",
    "    say_hello()\n",
    "\n",
    "say_hello()"
   ]
  },
  {
   "cell_type": "markdown",
   "metadata": {},
   "source": [
    "There is nothing extraordinary here, calling the function `say_hello` amounts to run its body.\n",
    "Nevertheless, it is important to understant the *scope* of a variable, *i.e.* where the content of\n",
    "a variable makes sense:"
   ]
  },
  {
   "cell_type": "code",
   "execution_count": 205,
   "metadata": {},
   "outputs": [
    {
     "data": {
      "text/plain": [
       "['In',\n",
       " 'Out',\n",
       " '_',\n",
       " '_10',\n",
       " '_100',\n",
       " '_101',\n",
       " '_103',\n",
       " '_104',\n",
       " '_105',\n",
       " '_106',\n",
       " '_107',\n",
       " '_108',\n",
       " '_109',\n",
       " '_110',\n",
       " '_113',\n",
       " '_114',\n",
       " '_115',\n",
       " '_116',\n",
       " '_117',\n",
       " '_118',\n",
       " '_119',\n",
       " '_12',\n",
       " '_120',\n",
       " '_121',\n",
       " '_122',\n",
       " '_123',\n",
       " '_125',\n",
       " '_126',\n",
       " '_128',\n",
       " '_129',\n",
       " '_13',\n",
       " '_131',\n",
       " '_132',\n",
       " '_133',\n",
       " '_134',\n",
       " '_135',\n",
       " '_136',\n",
       " '_137',\n",
       " '_138',\n",
       " '_139',\n",
       " '_140',\n",
       " '_141',\n",
       " '_142',\n",
       " '_143',\n",
       " '_144',\n",
       " '_145',\n",
       " '_146',\n",
       " '_147',\n",
       " '_148',\n",
       " '_149',\n",
       " '_150',\n",
       " '_151',\n",
       " '_152',\n",
       " '_153',\n",
       " '_156',\n",
       " '_157',\n",
       " '_159',\n",
       " '_160',\n",
       " '_189',\n",
       " '_190',\n",
       " '_191',\n",
       " '_192',\n",
       " '_193',\n",
       " '_194',\n",
       " '_195',\n",
       " '_196',\n",
       " '_197',\n",
       " '_199',\n",
       " '_200',\n",
       " '_201',\n",
       " '_32',\n",
       " '_33',\n",
       " '_34',\n",
       " '_35',\n",
       " '_36',\n",
       " '_37',\n",
       " '_38',\n",
       " '_39',\n",
       " '_40',\n",
       " '_42',\n",
       " '_43',\n",
       " '_44',\n",
       " '_47',\n",
       " '_5',\n",
       " '_52',\n",
       " '_53',\n",
       " '_54',\n",
       " '_55',\n",
       " '_56',\n",
       " '_57',\n",
       " '_58',\n",
       " '_59',\n",
       " '_6',\n",
       " '_60',\n",
       " '_61',\n",
       " '_62',\n",
       " '_65',\n",
       " '_66',\n",
       " '_67',\n",
       " '_68',\n",
       " '_69',\n",
       " '_7',\n",
       " '_70',\n",
       " '_71',\n",
       " '_72',\n",
       " '_73',\n",
       " '_77',\n",
       " '_78',\n",
       " '_79',\n",
       " '_80',\n",
       " '_81',\n",
       " '_82',\n",
       " '_86',\n",
       " '_88',\n",
       " '_89',\n",
       " '_9',\n",
       " '_90',\n",
       " '_91',\n",
       " '_93',\n",
       " '_95',\n",
       " '_96',\n",
       " '_97',\n",
       " '_98',\n",
       " '_99',\n",
       " '__',\n",
       " '___',\n",
       " '__builtin__',\n",
       " '__builtins__',\n",
       " '__doc__',\n",
       " '__loader__',\n",
       " '__name__',\n",
       " '__package__',\n",
       " '__spec__',\n",
       " '_dh',\n",
       " '_i',\n",
       " '_i1',\n",
       " '_i10',\n",
       " '_i100',\n",
       " '_i101',\n",
       " '_i102',\n",
       " '_i103',\n",
       " '_i104',\n",
       " '_i105',\n",
       " '_i106',\n",
       " '_i107',\n",
       " '_i108',\n",
       " '_i109',\n",
       " '_i11',\n",
       " '_i110',\n",
       " '_i111',\n",
       " '_i112',\n",
       " '_i113',\n",
       " '_i114',\n",
       " '_i115',\n",
       " '_i116',\n",
       " '_i117',\n",
       " '_i118',\n",
       " '_i119',\n",
       " '_i12',\n",
       " '_i120',\n",
       " '_i121',\n",
       " '_i122',\n",
       " '_i123',\n",
       " '_i124',\n",
       " '_i125',\n",
       " '_i126',\n",
       " '_i127',\n",
       " '_i128',\n",
       " '_i129',\n",
       " '_i13',\n",
       " '_i130',\n",
       " '_i131',\n",
       " '_i132',\n",
       " '_i133',\n",
       " '_i134',\n",
       " '_i135',\n",
       " '_i136',\n",
       " '_i137',\n",
       " '_i138',\n",
       " '_i139',\n",
       " '_i14',\n",
       " '_i140',\n",
       " '_i141',\n",
       " '_i142',\n",
       " '_i143',\n",
       " '_i144',\n",
       " '_i145',\n",
       " '_i146',\n",
       " '_i147',\n",
       " '_i148',\n",
       " '_i149',\n",
       " '_i15',\n",
       " '_i150',\n",
       " '_i151',\n",
       " '_i152',\n",
       " '_i153',\n",
       " '_i154',\n",
       " '_i155',\n",
       " '_i156',\n",
       " '_i157',\n",
       " '_i158',\n",
       " '_i159',\n",
       " '_i16',\n",
       " '_i160',\n",
       " '_i161',\n",
       " '_i162',\n",
       " '_i163',\n",
       " '_i164',\n",
       " '_i165',\n",
       " '_i167',\n",
       " '_i168',\n",
       " '_i169',\n",
       " '_i17',\n",
       " '_i170',\n",
       " '_i171',\n",
       " '_i172',\n",
       " '_i173',\n",
       " '_i174',\n",
       " '_i175',\n",
       " '_i176',\n",
       " '_i177',\n",
       " '_i178',\n",
       " '_i179',\n",
       " '_i18',\n",
       " '_i180',\n",
       " '_i181',\n",
       " '_i182',\n",
       " '_i183',\n",
       " '_i184',\n",
       " '_i185',\n",
       " '_i186',\n",
       " '_i187',\n",
       " '_i188',\n",
       " '_i189',\n",
       " '_i19',\n",
       " '_i190',\n",
       " '_i191',\n",
       " '_i192',\n",
       " '_i193',\n",
       " '_i194',\n",
       " '_i195',\n",
       " '_i196',\n",
       " '_i197',\n",
       " '_i198',\n",
       " '_i199',\n",
       " '_i2',\n",
       " '_i20',\n",
       " '_i200',\n",
       " '_i201',\n",
       " '_i202',\n",
       " '_i203',\n",
       " '_i204',\n",
       " '_i205',\n",
       " '_i21',\n",
       " '_i22',\n",
       " '_i23',\n",
       " '_i24',\n",
       " '_i25',\n",
       " '_i26',\n",
       " '_i27',\n",
       " '_i28',\n",
       " '_i29',\n",
       " '_i3',\n",
       " '_i30',\n",
       " '_i31',\n",
       " '_i32',\n",
       " '_i33',\n",
       " '_i34',\n",
       " '_i35',\n",
       " '_i36',\n",
       " '_i37',\n",
       " '_i38',\n",
       " '_i39',\n",
       " '_i4',\n",
       " '_i40',\n",
       " '_i41',\n",
       " '_i42',\n",
       " '_i43',\n",
       " '_i44',\n",
       " '_i45',\n",
       " '_i46',\n",
       " '_i47',\n",
       " '_i48',\n",
       " '_i49',\n",
       " '_i5',\n",
       " '_i50',\n",
       " '_i51',\n",
       " '_i52',\n",
       " '_i53',\n",
       " '_i54',\n",
       " '_i55',\n",
       " '_i56',\n",
       " '_i57',\n",
       " '_i58',\n",
       " '_i59',\n",
       " '_i6',\n",
       " '_i60',\n",
       " '_i61',\n",
       " '_i62',\n",
       " '_i63',\n",
       " '_i64',\n",
       " '_i65',\n",
       " '_i66',\n",
       " '_i67',\n",
       " '_i68',\n",
       " '_i69',\n",
       " '_i7',\n",
       " '_i70',\n",
       " '_i71',\n",
       " '_i72',\n",
       " '_i73',\n",
       " '_i74',\n",
       " '_i75',\n",
       " '_i76',\n",
       " '_i77',\n",
       " '_i78',\n",
       " '_i79',\n",
       " '_i8',\n",
       " '_i80',\n",
       " '_i81',\n",
       " '_i82',\n",
       " '_i83',\n",
       " '_i84',\n",
       " '_i85',\n",
       " '_i86',\n",
       " '_i87',\n",
       " '_i88',\n",
       " '_i89',\n",
       " '_i9',\n",
       " '_i90',\n",
       " '_i91',\n",
       " '_i92',\n",
       " '_i93',\n",
       " '_i94',\n",
       " '_i95',\n",
       " '_i96',\n",
       " '_i97',\n",
       " '_i98',\n",
       " '_i99',\n",
       " '_ih',\n",
       " '_ii',\n",
       " '_iii',\n",
       " '_oh',\n",
       " 'a',\n",
       " 'abs',\n",
       " 'b',\n",
       " 'c',\n",
       " 'd',\n",
       " 'exit',\n",
       " 'f',\n",
       " 'f1',\n",
       " 'f2',\n",
       " 'first',\n",
       " 'g',\n",
       " 'get_ipython',\n",
       " 'grid',\n",
       " 'i',\n",
       " 'item',\n",
       " 'k',\n",
       " 'l',\n",
       " 'last',\n",
       " 'mod3',\n",
       " 'n',\n",
       " 'names',\n",
       " 'quit',\n",
       " 'r',\n",
       " 's',\n",
       " 's_multi',\n",
       " 'say_hello',\n",
       " 't',\n",
       " 't1',\n",
       " 't2',\n",
       " 'u',\n",
       " 'v',\n",
       " 'v1',\n",
       " 'val',\n",
       " 'x',\n",
       " 'y',\n",
       " 'z']"
      ]
     },
     "execution_count": 205,
     "metadata": {},
     "output_type": "execute_result"
    }
   ],
   "source": [
    "v1 = 17 # Global scope\n",
    "dir() # Names in global scope"
   ]
  },
  {
   "cell_type": "code",
   "execution_count": 206,
   "metadata": {},
   "outputs": [
    {
     "name": "stdout",
     "output_type": "stream",
     "text": [
      "[]\n",
      "17\n"
     ]
    }
   ],
   "source": [
    "def f1():\n",
    "    print(dir()) # Names in f1 scope\n",
    "    # Variable v1 does not exist in current scope\n",
    "    print(v1) # So v1 is taken from global scope\n",
    "\n",
    "f1()"
   ]
  },
  {
   "cell_type": "code",
   "execution_count": 207,
   "metadata": {},
   "outputs": [
    {
     "name": "stdout",
     "output_type": "stream",
     "text": [
      "['v1', 'v2']\n",
      "8\n",
      "v2 = 42\n"
     ]
    },
    {
     "ename": "NameError",
     "evalue": "name 'v2' is not defined",
     "output_type": "error",
     "traceback": [
      "\u001b[0;31m---------------------------------------------------------------------------\u001b[0m",
      "\u001b[0;31mNameError\u001b[0m                                 Traceback (most recent call last)",
      "\u001b[0;32m<ipython-input-207-d7be5e8b9a06>\u001b[0m in \u001b[0;36m<module>\u001b[0;34m\u001b[0m\n\u001b[1;32m      6\u001b[0m \u001b[0;34m\u001b[0m\u001b[0m\n\u001b[1;32m      7\u001b[0m \u001b[0mf2\u001b[0m\u001b[0;34m(\u001b[0m\u001b[0;34m)\u001b[0m\u001b[0;34m\u001b[0m\u001b[0;34m\u001b[0m\u001b[0m\n\u001b[0;32m----> 8\u001b[0;31m \u001b[0mprint\u001b[0m\u001b[0;34m(\u001b[0m\u001b[0mv2\u001b[0m\u001b[0;34m)\u001b[0m \u001b[0;31m# ... but not in global scope\u001b[0m\u001b[0;34m\u001b[0m\u001b[0;34m\u001b[0m\u001b[0m\n\u001b[0m",
      "\u001b[0;31mNameError\u001b[0m: name 'v2' is not defined"
     ]
    }
   ],
   "source": [
    "def f2():\n",
    "    v1 = 8; v2 = 42 # Define v1 and v2 in current scope\n",
    "    print(dir()) # Names in f2 scope\n",
    "    print(v1) # Content of v1 taken in local scope\n",
    "    print('v2 = {}'.format(v2)) # Here, v2 exists ...\n",
    "\n",
    "f2()\n",
    "print(v2) # ... but not in global scope"
   ]
  },
  {
   "cell_type": "markdown",
   "metadata": {},
   "source": [
    "Scopes can be seen as nested lists of names in the sense that when a variable name is called,\n",
    "Python first looks in the current scope, if the name is defined then this scope is used, otherwise, Python does the same thing in the parent scope till it reaches the global scope. Because there is nothing above global scope, if the name is still not defined, an error `NameError` is *raised* (see further for explanations about errors in Python).\n",
    "\n",
    "Now we know how to define a function and deal with the scopes, let us give some arguments\n",
    "to our function:"
   ]
  },
  {
   "cell_type": "code",
   "execution_count": 208,
   "metadata": {},
   "outputs": [
    {
     "ename": "TypeError",
     "evalue": "say_hello() missing 2 required positional arguments: 'name' and 'lang'",
     "output_type": "error",
     "traceback": [
      "\u001b[0;31m---------------------------------------------------------------------------\u001b[0m",
      "\u001b[0;31mTypeError\u001b[0m                                 Traceback (most recent call last)",
      "\u001b[0;32m<ipython-input-208-12e45b04e6ba>\u001b[0m in \u001b[0;36m<module>\u001b[0;34m\u001b[0m\n\u001b[1;32m      8\u001b[0m     \u001b[0mprint\u001b[0m\u001b[0;34m(\u001b[0m\u001b[0mgreeting\u001b[0m \u001b[0;34m+\u001b[0m \u001b[0;34m' '\u001b[0m \u001b[0;34m+\u001b[0m \u001b[0mname\u001b[0m \u001b[0;34m+\u001b[0m \u001b[0;34m'!'\u001b[0m\u001b[0;34m)\u001b[0m\u001b[0;34m\u001b[0m\u001b[0;34m\u001b[0m\u001b[0m\n\u001b[1;32m      9\u001b[0m \u001b[0;34m\u001b[0m\u001b[0m\n\u001b[0;32m---> 10\u001b[0;31m \u001b[0msay_hello\u001b[0m\u001b[0;34m(\u001b[0m\u001b[0;34m)\u001b[0m \u001b[0;31m# Error, arguments are missing\u001b[0m\u001b[0;34m\u001b[0m\u001b[0;34m\u001b[0m\u001b[0m\n\u001b[0m",
      "\u001b[0;31mTypeError\u001b[0m: say_hello() missing 2 required positional arguments: 'name' and 'lang'"
     ]
    }
   ],
   "source": [
    "def say_hello(name, lang):\n",
    "    if lang == 'e':\n",
    "        greeting = 'Hello'\n",
    "    elif lang == 'f':\n",
    "        greeting = 'Salut'\n",
    "    else:\n",
    "        greeting = '###' # Unknown language\n",
    "    print(greeting + ' ' + name + '!')\n",
    "\n",
    "say_hello() # Error, arguments are missing"
   ]
  },
  {
   "cell_type": "code",
   "execution_count": 209,
   "metadata": {},
   "outputs": [
    {
     "ename": "TypeError",
     "evalue": "say_hello() missing 1 required positional argument: 'lang'",
     "output_type": "error",
     "traceback": [
      "\u001b[0;31m---------------------------------------------------------------------------\u001b[0m",
      "\u001b[0;31mTypeError\u001b[0m                                 Traceback (most recent call last)",
      "\u001b[0;32m<ipython-input-209-2165fdb57cca>\u001b[0m in \u001b[0;36m<module>\u001b[0;34m\u001b[0m\n\u001b[0;32m----> 1\u001b[0;31m \u001b[0msay_hello\u001b[0m\u001b[0;34m(\u001b[0m\u001b[0;34m'Bobby'\u001b[0m\u001b[0;34m)\u001b[0m \u001b[0;31m# Error, an argument is missing\u001b[0m\u001b[0;34m\u001b[0m\u001b[0;34m\u001b[0m\u001b[0m\n\u001b[0m",
      "\u001b[0;31mTypeError\u001b[0m: say_hello() missing 1 required positional argument: 'lang'"
     ]
    }
   ],
   "source": [
    "say_hello('Bobby') # Error, an argument is missing"
   ]
  },
  {
   "cell_type": "code",
   "execution_count": 210,
   "metadata": {},
   "outputs": [
    {
     "name": "stdout",
     "output_type": "stream",
     "text": [
      "Salut Bobby!\n"
     ]
    }
   ],
   "source": [
    "say_hello('Bobby', 'f') # It works!"
   ]
  },
  {
   "cell_type": "code",
   "execution_count": 211,
   "metadata": {},
   "outputs": [
    {
     "ename": "TypeError",
     "evalue": "say_hello() takes 2 positional arguments but 3 were given",
     "output_type": "error",
     "traceback": [
      "\u001b[0;31m---------------------------------------------------------------------------\u001b[0m",
      "\u001b[0;31mTypeError\u001b[0m                                 Traceback (most recent call last)",
      "\u001b[0;32m<ipython-input-211-cad9182b65fd>\u001b[0m in \u001b[0;36m<module>\u001b[0;34m\u001b[0m\n\u001b[0;32m----> 1\u001b[0;31m \u001b[0msay_hello\u001b[0m\u001b[0;34m(\u001b[0m\u001b[0;34m'Bobby'\u001b[0m\u001b[0;34m,\u001b[0m \u001b[0;34m'f'\u001b[0m\u001b[0;34m,\u001b[0m \u001b[0;36m42\u001b[0m\u001b[0;34m)\u001b[0m \u001b[0;31m# Error, too much arguments\u001b[0m\u001b[0;34m\u001b[0m\u001b[0;34m\u001b[0m\u001b[0m\n\u001b[0m",
      "\u001b[0;31mTypeError\u001b[0m: say_hello() takes 2 positional arguments but 3 were given"
     ]
    }
   ],
   "source": [
    "say_hello('Bobby', 'f', 42) # Error, too much arguments"
   ]
  },
  {
   "cell_type": "code",
   "execution_count": 212,
   "metadata": {},
   "outputs": [
    {
     "name": "stdout",
     "output_type": "stream",
     "text": [
      "### e!\n"
     ]
    }
   ],
   "source": [
    "say_hello('e', 'Bobby') # Order of arguments is important"
   ]
  },
  {
   "cell_type": "code",
   "execution_count": 213,
   "metadata": {},
   "outputs": [
    {
     "name": "stdout",
     "output_type": "stream",
     "text": [
      "Hello Bobby!\n"
     ]
    }
   ],
   "source": [
    "say_hello(lang='e', name='Bobby') # But they can be explicitly named"
   ]
  },
  {
   "cell_type": "markdown",
   "metadata": {},
   "source": [
    "Our function `say_hello` prints some greeting string but this string can not be assigned to a\n",
    "variable (for being used elsewhere, for instance). To return a value, we use the word `return`:"
   ]
  },
  {
   "cell_type": "code",
   "execution_count": 214,
   "metadata": {},
   "outputs": [
    {
     "name": "stdout",
     "output_type": "stream",
     "text": [
      "Salut Bobby!\n",
      "None\n"
     ]
    }
   ],
   "source": [
    "s = say_hello('Bobby', 'f') # Greeting is displayed...\n",
    "print(s) # ... but s is None"
   ]
  },
  {
   "cell_type": "code",
   "execution_count": 215,
   "metadata": {},
   "outputs": [
    {
     "name": "stdout",
     "output_type": "stream",
     "text": [
      "Salut Bobby!\n"
     ]
    }
   ],
   "source": [
    "# New definition of say_hello\n",
    "def say_hello(name, lang='e'):\n",
    "    if lang == 'e':\n",
    "        greeting = 'Hello'\n",
    "    elif lang == 'f':\n",
    "        greeting = 'Salut'\n",
    "    else:\n",
    "        greeting = '###' # Unknown language\n",
    "    return greeting + ' ' + name + '!' # Return the string\n",
    "\n",
    "s = say_hello('Bobby', 'f') # Greeting is no more displayed\n",
    "print(s) # Greeting is in s now!"
   ]
  },
  {
   "cell_type": "markdown",
   "metadata": {},
   "source": [
    "A function can return only one object but a tuple is an object. The tuples are commonly used\n",
    "to return more than one value and allow a nice code syntax by omitting the parentheses:"
   ]
  },
  {
   "cell_type": "code",
   "execution_count": 216,
   "metadata": {},
   "outputs": [
    {
     "name": "stdout",
     "output_type": "stream",
     "text": [
      "140261154190512\n",
      "<class 'complex'>\n",
      "(17+8j)\n"
     ]
    }
   ],
   "source": [
    "def tell_me_more_about(x):\n",
    "    return id(x), type(x), repr(x) # Return three values in tuple\n",
    "\n",
    "# Get the three values in one line\n",
    "a, b, c = tell_me_more_about(17+8j)\n",
    "print(a); print(b); print(c)"
   ]
  },
  {
   "cell_type": "markdown",
   "metadata": {},
   "source": [
    "As you noticed, if an argument is expected for some function, it has to be passed. Some-\n",
    "times, this point can be disturbing and default value can be given. An argument with a default value can then be omitted when calling the function:"
   ]
  },
  {
   "cell_type": "code",
   "execution_count": 217,
   "metadata": {},
   "outputs": [
    {
     "name": "stdout",
     "output_type": "stream",
     "text": [
      "Hello Bobby!\n",
      "Salut Bobby!\n"
     ]
    }
   ],
   "source": [
    "# By default, argument lang is 'e'\n",
    "def say_hello(name, lang='e'):\n",
    "    if lang == 'e':\n",
    "        greeting = 'Hello'\n",
    "    elif lang == 'f':\n",
    "        greeting = 'Salut'\n",
    "    else:\n",
    "        greeting = '###' # Unknown language\n",
    "    print(greeting + ' ' + name + '!')\n",
    "\n",
    "say_hello('Bobby') # Now, it works\n",
    "say_hello('Bobby', 'f') # Argument can still be used, of course"
   ]
  },
  {
   "cell_type": "markdown",
   "metadata": {},
   "source": [
    "It must be pay attention to mutable default value. Actually, the default value is evaluated\n",
    "only once during a run of a script. This does not matter for immutable objects because their\n",
    "content won’t change but the one of mutable objects can be modified. This can be useful\n",
    "sometimes but it can also lead to unexpected effects:"
   ]
  },
  {
   "cell_type": "code",
   "execution_count": 1,
   "metadata": {},
   "outputs": [
    {
     "name": "stdout",
     "output_type": "stream",
     "text": [
      "[1]\n",
      "[1, 2]\n",
      "[1, 2, 3]\n"
     ]
    }
   ],
   "source": [
    "# Default value for l is mutable\n",
    "def list_builder(x, l=[]):\n",
    "    l.append(x)\n",
    "    return l\n",
    "\n",
    "# Notice the special behavior\n",
    "print(list_builder(1))\n",
    "print(list_builder(2))\n",
    "print(list_builder(3))"
   ]
  },
  {
   "cell_type": "code",
   "execution_count": 219,
   "metadata": {},
   "outputs": [
    {
     "name": "stdout",
     "output_type": "stream",
     "text": [
      "[1]\n",
      "[2]\n",
      "[3]\n"
     ]
    }
   ],
   "source": [
    "# To avoid such a feature, use None and a test for the default\n",
    "def list_builder(x, l=None):\n",
    "    if l is None:\n",
    "        l = [] # Default value\n",
    "    l.append(x)\n",
    "    return l\n",
    "\n",
    "# More standard behavior\n",
    "print(list_builder(1))\n",
    "print(list_builder(2))\n",
    "print(list_builder(3))"
   ]
  },
  {
   "cell_type": "markdown",
   "metadata": {},
   "source": [
    "Finally, a good habit when writing functions in Python is to document them. We have\n",
    "already met documentation string, called *docstring*, which are used to give informations about\n",
    "a function. Such strings are surrounded with triple quotes `\"\"\"` and may span multiple lines.\n",
    "Commonly, to document a function, the docstring comes directly after the `def` statement, a\n",
    "first line is used to give a brief summary of what the function does and, after an empty line,\n",
    "we put some additional specifications (arguments, default values, . . . ). Lot of details about\n",
    "docstring conventions can be found in the [PEP 257](https://www.python.org/dev/peps/pep-0257/)."
   ]
  },
  {
   "cell_type": "code",
   "execution_count": 1,
   "metadata": {},
   "outputs": [],
   "source": [
    "def say_hello(name, lang='e'):\n",
    "    \"\"\"Return a greeting string.\n",
    "    \n",
    "    Parameters:\n",
    "        name (str): Name to be greeted\n",
    "        lang (str): Language, 'e' for english or 'f' for french (defaults to 'e')\n",
    "    \n",
    "    Returns:\n",
    "        str: a string containing a greeting or '###' if unknown language\n",
    "\n",
    "    \"\"\"\n",
    "    if lang == 'e':\n",
    "        greeting = 'Hello'\n",
    "    elif lang == 'f':\n",
    "        greeting = 'Salut'\n",
    "    else:\n",
    "        greeting = '###' # Unknown language\n",
    "    print(greeting + ' ' + name + '!')"
   ]
  },
  {
   "cell_type": "code",
   "execution_count": 2,
   "metadata": {},
   "outputs": [
    {
     "name": "stdout",
     "output_type": "stream",
     "text": [
      "Return a greeting string.\n",
      "    \n",
      "    Parameters:\n",
      "        name (str): Name to be greeted\n",
      "        lang (str): Language, 'e' for english or 'f' for french (defaults to 'e')\n",
      "    \n",
      "    Returns:\n",
      "        str: a string containing a greeting or '###' if unknown language\n",
      "\n",
      "    \n"
     ]
    }
   ],
   "source": [
    "# The docstring belongs to the function\n",
    "print(say_hello.__doc__)"
   ]
  },
  {
   "cell_type": "code",
   "execution_count": 3,
   "metadata": {},
   "outputs": [
    {
     "name": "stdout",
     "output_type": "stream",
     "text": [
      "Help on function say_hello in module __main__:\n",
      "\n",
      "say_hello(name, lang='e')\n",
      "    Return a greeting string.\n",
      "    \n",
      "    Parameters:\n",
      "        name (str): Name to be greeted\n",
      "        lang (str): Language, 'e' for english or 'f' for french (defaults to 'e')\n",
      "    \n",
      "    Returns:\n",
      "        str: a string containing a greeting or '###' if unknown language\n",
      "\n"
     ]
    }
   ],
   "source": [
    "# Python uses the docstrings to build the documentation\n",
    "help(say_hello)"
   ]
  },
  {
   "cell_type": "code",
   "execution_count": 4,
   "metadata": {},
   "outputs": [
    {
     "name": "stdout",
     "output_type": "stream",
     "text": [
      "Hello Bob!\n"
     ]
    }
   ],
   "source": [
    "say_hello(\"Bob\")"
   ]
  },
  {
   "cell_type": "markdown",
   "metadata": {},
   "source": [
    "**Questions**\n",
    "\n",
    "- Read the documentation about the function `input` we use in the first implementation\n",
    "of `say_hello`.\n",
    "- With the help of the [documentation](https://docs.python.org/3/library/functions.html), find a built-in function to compute the sum of the\n",
    "numeric items of a list.\n",
    "- Write a function `draw_pine` that take one integer argument `n` and that draw a pine\n",
    "with n levels of characters `*` and a character `#` for the trunk similar to what you did in\n",
    "exercises about loops. See below for an example:\n",
    "\n",
    "```\n",
    ">>> draw_pine(4)\n",
    "*\n",
    "***\n",
    "*****\n",
    "*******\n",
    "#\n",
    ">>>\n",
    "```\n",
    "\n",
    "- Do the following improvements for the function draw_pine:\n",
    "    - Properly manage negative value of n or non integer value.\n",
    "    - Give a default value of 5 to n.\n",
    "    - Add two arguments leaf and trunk with default values that are supposed to be the characters used to draw the pine. Manage non character values for these arguments.\n",
    "    - Modify the function to return a string containing the pine in addition to drawing it.\n",
    "    - Add a boolean argument verbose to print or not the pine with a default value and correct behavior if a non boolean value is given.\n",
    "    - Document your function."
   ]
  },
  {
   "cell_type": "code",
   "execution_count": 63,
   "metadata": {},
   "outputs": [
    {
     "name": "stdout",
     "output_type": "stream",
     "text": [
      "\"Bob\"\n",
      "Hello \"Bob\"!\n"
     ]
    }
   ],
   "source": [
    "# Question1\n",
    "name=input()\n",
    "say_hello(name)"
   ]
  },
  {
   "cell_type": "code",
   "execution_count": 65,
   "metadata": {},
   "outputs": [
    {
     "name": "stdout",
     "output_type": "stream",
     "text": [
      "*\n",
      "***\n",
      "*****\n",
      "*******\n",
      "*********\n",
      "***********\n",
      "#\n"
     ]
    }
   ],
   "source": [
    "# Question2\n",
    "def draw_pine(n):\n",
    "    if n == 1:\n",
    "        s=['*']\n",
    "    elif n>1:\n",
    "        s=[i*'*' for i in range(1,2*n,2)]\n",
    "    s.append('#')\n",
    "    for i in range(len(s)):\n",
    "        print(s[i]) \n",
    "draw_pine(6)"
   ]
  },
  {
   "cell_type": "code",
   "execution_count": 108,
   "metadata": {},
   "outputs": [],
   "source": [
    "# improvements\n",
    "def imp(n=5,dif=2,trunk=1,verbose=True):\n",
    "    \"\"\"Return a description of pine, picture or string.\n",
    "    \n",
    "    Parameters:\n",
    "        n (str): level of pine leaf\n",
    "        dif (str): difference for each level of pine leaf\n",
    "        trunk (skr): width of pine trunk\n",
    "        verbose (boolean): type of result, True for words description and False for a vivid drawing\n",
    "    \n",
    "    Returns:\n",
    "        str: description for the elements of this pine\n",
    "        nonetype: pine drawing with \"*\" as leaf and \"#\" ans trunk\n",
    "\n",
    "    \"\"\"\n",
    "    if type(n) is not int or n<=0:\n",
    "        print(\"n needs to be positive integer.\")\n",
    "    else:\n",
    "        if n==1:\n",
    "            s=['*']\n",
    "        else:\n",
    "            s=[i*'*' for i in range(1,dif*n,dif)]\n",
    "        s.append('#'*trunk)\n",
    "        for i in range(len(s)):\n",
    "            if verbose==False:\n",
    "                print(s[i])\n",
    "    if verbose==True:\n",
    "        print(\"Pine, {} level of leaf with the difference of {} for each of them and a {} width trunk\".format(n,dif,trunk))"
   ]
  },
  {
   "cell_type": "code",
   "execution_count": 109,
   "metadata": {},
   "outputs": [
    {
     "name": "stdout",
     "output_type": "stream",
     "text": [
      "Pine, 5 level of leaf with the difference of 2 for each of them and a 1 width trunk\n"
     ]
    }
   ],
   "source": [
    "imp()"
   ]
  },
  {
   "cell_type": "code",
   "execution_count": 110,
   "metadata": {
    "scrolled": true
   },
   "outputs": [
    {
     "name": "stdout",
     "output_type": "stream",
     "text": [
      "*\n",
      "****\n",
      "*******\n",
      "**********\n",
      "*************\n",
      "****************\n",
      "*******************\n",
      "#####\n"
     ]
    }
   ],
   "source": [
    "imp(7,3,5,False)"
   ]
  },
  {
   "cell_type": "code",
   "execution_count": 111,
   "metadata": {},
   "outputs": [
    {
     "name": "stdout",
     "output_type": "stream",
     "text": [
      "Pine, 7 level of leaf with the difference of 3 for each of them and a 5 width trunk\n"
     ]
    }
   ],
   "source": [
    "imp(7,3,5,True)"
   ]
  },
  {
   "cell_type": "code",
   "execution_count": 113,
   "metadata": {},
   "outputs": [
    {
     "name": "stdout",
     "output_type": "stream",
     "text": [
      "Return a description of pine, picture or string.\n",
      "    \n",
      "    Parameters:\n",
      "        n (str): level of pine leaf\n",
      "        dif (str): difference for each level of pine leaf\n",
      "        trunk (skr): width of pine trunk\n",
      "        verbose (boolean): type of result, True for words description and False for a vivid drawing\n",
      "    \n",
      "    Returns:\n",
      "        str: description for the elements of this pine\n",
      "        nonetype: pine drawing with \"*\" as leaf and \"#\" ans trunk\n",
      "\n",
      "    \n"
     ]
    }
   ],
   "source": [
    "print(imp.__doc__)"
   ]
  },
  {
   "cell_type": "markdown",
   "metadata": {},
   "source": [
    "### More about function arguments"
   ]
  },
  {
   "cell_type": "markdown",
   "metadata": {},
   "source": [
    "We introduce here some advanced concepts related to Python functions. They may be skipped\n",
    "in first reading but these features will be useful in the sequel."
   ]
  },
  {
   "cell_type": "markdown",
   "metadata": {},
   "source": [
    "#### Unpacking arguments"
   ]
  },
  {
   "cell_type": "markdown",
   "metadata": {},
   "source": [
    "It is sometimes useful to pass arguments to a function through a list or a dictionary rather\n",
    "than explicitely. Although this is not considered as a good practice because it does not really\n",
    "improve code readability, these tricks are not deprecated because they make easier passing\n",
    "arguments to a subfunction, for instance."
   ]
  },
  {
   "cell_type": "code",
   "execution_count": 114,
   "metadata": {},
   "outputs": [
    {
     "data": {
      "text/plain": [
       "[17, 20, 23, 26, 29, 32, 35, 38, 41]"
      ]
     },
     "execution_count": 114,
     "metadata": {},
     "output_type": "execute_result"
    }
   ],
   "source": [
    "# Unpacking a list with *\n",
    "args = [17, 42, 3]\n",
    "list(range(*args))"
   ]
  },
  {
   "cell_type": "code",
   "execution_count": 116,
   "metadata": {},
   "outputs": [
    {
     "name": "stdout",
     "output_type": "stream",
     "text": [
      "Salut Teddy!\n"
     ]
    }
   ],
   "source": [
    "# Unpacking a dictionary with **\n",
    "args = {'name': 'Teddy', 'lang': 'f'}\n",
    "say_hello(**args)"
   ]
  },
  {
   "cell_type": "markdown",
   "metadata": {},
   "source": [
    "#### Arbitrary argument lists\n",
    "\n",
    "An other practical mechanism with function arguments is to allow them to be arbitrary and to\n",
    "properly manage what the user pass to a function. To introduce that, we have to distinguish\n",
    "two kinds of arguments: *positional argument* and *keyword argument*. A positional argument\n",
    "is not explicitely named when it is passed to a function whereas a keyword argument has a\n",
    "name. For example, in `f(42, msg='Hi!')`, the number `42` is a positional argument and `msg` is\n",
    "the key of a keyword argument. A set of positional argument can be seen as a tuple and a set\n",
    "of keyword arguments as a dictionary. As mentioned previously, using keyword arguments,\n",
    "you can modify the order of the arguments when calling the function but positional arguments\n",
    "always have to be placed before keyword arguments.\n",
    "\n",
    "To handle arbitrary positional arguments in a function, you must add a specific arguments\n",
    "of the form `*args` that receives a tuple containing the values of positional arguments:"
   ]
  },
  {
   "cell_type": "code",
   "execution_count": 225,
   "metadata": {},
   "outputs": [
    {
     "name": "stdout",
     "output_type": "stream",
     "text": [
      "No argument\n",
      "Argument: Tobby\n",
      "Argument: 42\n"
     ]
    }
   ],
   "source": [
    "# A function with arbitrary positional arguments\n",
    "def posarg(*args):\n",
    "    if len(args) == 0:\n",
    "        print('No argument')\n",
    "    else:\n",
    "        for arg in args:\n",
    "            print('Argument: {}'.format(arg))\n",
    "\n",
    "posarg()\n",
    "posarg('Tobby', 42)"
   ]
  },
  {
   "cell_type": "markdown",
   "metadata": {},
   "source": [
    "For keyword arguments, the same principle is used but with a special argument `**kwargs`\n",
    "that receives a dictionary:"
   ]
  },
  {
   "cell_type": "code",
   "execution_count": 226,
   "metadata": {},
   "outputs": [
    {
     "name": "stdout",
     "output_type": "stream",
     "text": [
      "No argument\n",
      "Argument 'name': Tobby\n",
      "Argument 'number': 42\n"
     ]
    }
   ],
   "source": [
    "# A function with arbitrary keyword arguments\n",
    "def keyarg(**kwargs):\n",
    "    if len(kwargs) == 0:\n",
    "        print('No argument')\n",
    "    else:\n",
    "        for key, val in kwargs.items():\n",
    "            print(\"Argument '{}': {}\".format(key, val))\n",
    "\n",
    "keyarg()\n",
    "keyarg(name='Tobby', number=42)"
   ]
  },
  {
   "cell_type": "markdown",
   "metadata": {},
   "source": [
    "Of course, this is feasible to mix positional arguments and keyword arguments as long as\n",
    "positional ones occur before keyword ones."
   ]
  },
  {
   "cell_type": "code",
   "execution_count": 227,
   "metadata": {},
   "outputs": [],
   "source": [
    "def add_movie(title, *comments, **data):\n",
    "    print('Title: {}'.format(title))\n",
    "    for key, val in data.items():\n",
    "        print('{}: {}'.format(key, val))\n",
    "        print('-' * 42)\n",
    "    \n",
    "    for comment in comments:\n",
    "        print('\"{}\"'.format(comment))"
   ]
  },
  {
   "cell_type": "code",
   "execution_count": 228,
   "metadata": {},
   "outputs": [
    {
     "ename": "TypeError",
     "evalue": "add_movie() missing 1 required positional argument: 'title'",
     "output_type": "error",
     "traceback": [
      "\u001b[0;31m---------------------------------------------------------------------------\u001b[0m",
      "\u001b[0;31mTypeError\u001b[0m                                 Traceback (most recent call last)",
      "\u001b[0;32m<ipython-input-228-5db0ec2f6772>\u001b[0m in \u001b[0;36m<module>\u001b[0;34m\u001b[0m\n\u001b[0;32m----> 1\u001b[0;31m \u001b[0madd_movie\u001b[0m\u001b[0;34m(\u001b[0m\u001b[0;34m)\u001b[0m \u001b[0;31m# Argument title is mandatory\u001b[0m\u001b[0;34m\u001b[0m\u001b[0;34m\u001b[0m\u001b[0m\n\u001b[0m",
      "\u001b[0;31mTypeError\u001b[0m: add_movie() missing 1 required positional argument: 'title'"
     ]
    }
   ],
   "source": [
    "add_movie() # Argument title is mandatory"
   ]
  },
  {
   "cell_type": "code",
   "execution_count": 229,
   "metadata": {},
   "outputs": [
    {
     "name": "stdout",
     "output_type": "stream",
     "text": [
      "Title: Back to the Future\n"
     ]
    }
   ],
   "source": [
    "add_movie('Back to the Future') # Without optional argument"
   ]
  },
  {
   "cell_type": "code",
   "execution_count": 230,
   "metadata": {},
   "outputs": [
    {
     "name": "stdout",
     "output_type": "stream",
     "text": [
      "Title: Back to the Future\n",
      "\"Amazing!\"\n",
      "\"One of the greatest movies ever made\"\n"
     ]
    }
   ],
   "source": [
    "add_movie('Back to the Future',\n",
    "    'Amazing!',\n",
    "    'One of the greatest movies ever made'\n",
    ") # Positional only\n",
    "# format list"
   ]
  },
  {
   "cell_type": "code",
   "execution_count": 231,
   "metadata": {},
   "outputs": [
    {
     "name": "stdout",
     "output_type": "stream",
     "text": [
      "Title: Back to the Future\n",
      "Year: 1985\n",
      "------------------------------------------\n",
      "Runtime: 1h56\n",
      "------------------------------------------\n"
     ]
    }
   ],
   "source": [
    "add_movie('Back to the Future',\n",
    "    Year=1985,\n",
    "    Runtime='1h56'\n",
    ") # Keyword only\n",
    "# format dictionary"
   ]
  },
  {
   "cell_type": "code",
   "execution_count": 232,
   "metadata": {},
   "outputs": [
    {
     "name": "stdout",
     "output_type": "stream",
     "text": [
      "Title: Back to the Future\n",
      "Year: 1985\n",
      "------------------------------------------\n",
      "Runtime: 1h56\n",
      "------------------------------------------\n",
      "\"Amazing!\"\n",
      "\"One of the greatest movies ever made\"\n"
     ]
    }
   ],
   "source": [
    "add_movie('Back to the Future',\n",
    "    'Amazing!',\n",
    "    'One of the greatest movies ever made',\n",
    "    Year=1985,\n",
    "    Runtime='1h56'\n",
    ") # Both argument types"
   ]
  },
  {
   "cell_type": "markdown",
   "metadata": {},
   "source": [
    "### Exceptions"
   ]
  },
  {
   "cell_type": "markdown",
   "metadata": {},
   "source": [
    "An error detected during execution of some Python code is called an exception. We have seen\n",
    "some examples previously without discussing about them. If an exception is not handled, it\n",
    "commonly leads to end the current script and to output some error message. Typically, such\n",
    "a message contains the name of the exception and some details about what happened:"
   ]
  },
  {
   "cell_type": "code",
   "execution_count": 233,
   "metadata": {},
   "outputs": [
    {
     "ename": "ZeroDivisionError",
     "evalue": "division by zero",
     "output_type": "error",
     "traceback": [
      "\u001b[0;31m---------------------------------------------------------------------------\u001b[0m",
      "\u001b[0;31mZeroDivisionError\u001b[0m                         Traceback (most recent call last)",
      "\u001b[0;32m<ipython-input-233-bc757c3fda29>\u001b[0m in \u001b[0;36m<module>\u001b[0;34m\u001b[0m\n\u001b[0;32m----> 1\u001b[0;31m \u001b[0;36m1\u001b[0m \u001b[0;34m/\u001b[0m \u001b[0;36m0\u001b[0m\u001b[0;34m\u001b[0m\u001b[0;34m\u001b[0m\u001b[0m\n\u001b[0m",
      "\u001b[0;31mZeroDivisionError\u001b[0m: division by zero"
     ]
    }
   ],
   "source": [
    "1 / 0"
   ]
  },
  {
   "cell_type": "code",
   "execution_count": 234,
   "metadata": {},
   "outputs": [
    {
     "ename": "NameError",
     "evalue": "name 'undefined_variable' is not defined",
     "output_type": "error",
     "traceback": [
      "\u001b[0;31m---------------------------------------------------------------------------\u001b[0m",
      "\u001b[0;31mNameError\u001b[0m                                 Traceback (most recent call last)",
      "\u001b[0;32m<ipython-input-234-b3b3b04032c5>\u001b[0m in \u001b[0;36m<module>\u001b[0;34m\u001b[0m\n\u001b[0;32m----> 1\u001b[0;31m \u001b[0mprint\u001b[0m\u001b[0;34m(\u001b[0m\u001b[0mundefined_variable\u001b[0m\u001b[0;34m)\u001b[0m\u001b[0;34m\u001b[0m\u001b[0;34m\u001b[0m\u001b[0m\n\u001b[0m",
      "\u001b[0;31mNameError\u001b[0m: name 'undefined_variable' is not defined"
     ]
    }
   ],
   "source": [
    "print(undefined_variable)"
   ]
  },
  {
   "cell_type": "code",
   "execution_count": 117,
   "metadata": {},
   "outputs": [
    {
     "ename": "TypeError",
     "evalue": "unsupported operand type(s) for +: 'int' and 'str'",
     "output_type": "error",
     "traceback": [
      "\u001b[1;31m---------------------------------------------------------------------------\u001b[0m",
      "\u001b[1;31mTypeError\u001b[0m                                 Traceback (most recent call last)",
      "\u001b[1;32m<ipython-input-117-7ff5cb60d31b>\u001b[0m in \u001b[0;36m<module>\u001b[1;34m\u001b[0m\n\u001b[1;32m----> 1\u001b[1;33m \u001b[1;36m1\u001b[0m \u001b[1;33m+\u001b[0m \u001b[1;34m'1'\u001b[0m\u001b[1;33m\u001b[0m\u001b[1;33m\u001b[0m\u001b[0m\n\u001b[0m",
      "\u001b[1;31mTypeError\u001b[0m: unsupported operand type(s) for +: 'int' and 'str'"
     ]
    }
   ],
   "source": [
    "1 + '1'"
   ]
  },
  {
   "cell_type": "markdown",
   "metadata": {},
   "source": [
    "In these examples, the names of the exceptions are `ZeroDivisionError`, `NameError` and\n",
    "`TypeError`. These exception names are quite explicit and you can get the whole list of built-\n",
    "in exceptions in the [documentation](https://docs.python.org/3/library/exceptions.html).\n",
    "\n",
    "Although an unhandled *exception* stops the current execution, exceptions are not uncon-\n",
    "ditionally fatal and we can handle them. To do it, we use a `try ... except` statement:"
   ]
  },
  {
   "cell_type": "code",
   "execution_count": 235,
   "metadata": {},
   "outputs": [
    {
     "name": "stdout",
     "output_type": "stream",
     "text": [
      "Error, division by zero!\n"
     ]
    }
   ],
   "source": [
    "a = 0\n",
    "\n",
    "try:\n",
    "    inv = 1 / a\n",
    "except ZeroDivisionError:\n",
    "    print('Error, division by zero!')"
   ]
  },
  {
   "cell_type": "markdown",
   "metadata": {},
   "source": [
    "First, the block of code between the try and except keywords is executed. If an exception\n",
    "occurs during this execution, the remainder of the code is skipped and, if the exception type\n",
    "matches the name after except, the associated clause is executed. Otherwise, execution of\n",
    "the try statement is finished and the block of code after except is skipped. Such a statement\n",
    "can have more than one except clause:"
   ]
  },
  {
   "cell_type": "code",
   "execution_count": 236,
   "metadata": {},
   "outputs": [
    {
     "name": "stdout",
     "output_type": "stream",
     "text": [
      "Wow, division by zero!\n"
     ]
    }
   ],
   "source": [
    "def some_function():\n",
    "    return 1 / 0\n",
    "\n",
    "\n",
    "def some_other_function():\n",
    "    return [1, 2, 3][4]\n",
    "\n",
    "\n",
    "try:\n",
    "    # Run some commands which can produce exceptions\n",
    "    some_function()\n",
    "    some_other_function()\n",
    "except ZeroDivisionError:\n",
    "    print('Wow, division by zero!')\n",
    "except IndexError:\n",
    "    print('Argh, out of range!')\n",
    "except KeyboardInterrupt:\n",
    "    print('Why did you stop me?')"
   ]
  },
  {
   "cell_type": "code",
   "execution_count": 237,
   "metadata": {},
   "outputs": [
    {
     "name": "stdout",
     "output_type": "stream",
     "text": [
      "Oops, something happened!\n"
     ]
    }
   ],
   "source": [
    "try:\n",
    "    some_function()\n",
    "except (ZeroDivisionError, IndexError, KeyboardInterrupt):\n",
    "    # More than one type can be handled in one clause\n",
    "    print('Oops, something happened!')"
   ]
  },
  {
   "cell_type": "markdown",
   "metadata": {},
   "source": [
    "When an `except` statement is executed, we say that the exception has been *catched*. If\n",
    "an exception is not catched by none `except` statement, it remains unhandled. Note that a\n",
    "catched exception can be handled as any other object with the help of `as`:"
   ]
  },
  {
   "cell_type": "code",
   "execution_count": 238,
   "metadata": {},
   "outputs": [
    {
     "name": "stdout",
     "output_type": "stream",
     "text": [
      "<class 'ZeroDivisionError'>\n",
      "division by zero\n"
     ]
    }
   ],
   "source": [
    "try:\n",
    "    1 / 0\n",
    "except ZeroDivisionError as e:\n",
    "    print(type(e)) # Exception type\n",
    "    print(e) # Message about what happened"
   ]
  },
  {
   "cell_type": "markdown",
   "metadata": {},
   "source": [
    "We have seen how to catch exceptions, let now see how we can raise them. The `raise`\n",
    "statement is used to force a specified exception to occur:"
   ]
  },
  {
   "cell_type": "code",
   "execution_count": 239,
   "metadata": {},
   "outputs": [
    {
     "ename": "NameError",
     "evalue": "Bobby",
     "output_type": "error",
     "traceback": [
      "\u001b[0;31m---------------------------------------------------------------------------\u001b[0m",
      "\u001b[0;31mNameError\u001b[0m                                 Traceback (most recent call last)",
      "\u001b[0;32m<ipython-input-239-93714b213e60>\u001b[0m in \u001b[0;36m<module>\u001b[0;34m\u001b[0m\n\u001b[0;32m----> 1\u001b[0;31m \u001b[0;32mraise\u001b[0m \u001b[0mNameError\u001b[0m\u001b[0;34m(\u001b[0m\u001b[0;34m'Bobby'\u001b[0m\u001b[0;34m)\u001b[0m\u001b[0;34m\u001b[0m\u001b[0;34m\u001b[0m\u001b[0m\n\u001b[0m",
      "\u001b[0;31mNameError\u001b[0m: Bobby"
     ]
    }
   ],
   "source": [
    "raise NameError('Bobby')"
   ]
  },
  {
   "cell_type": "markdown",
   "metadata": {},
   "source": [
    "You can raise built-in exception types to deal with errors in your scripts. Usually, an exception\n",
    "takes only one argument and this is its associated message. For instance, the exception type\n",
    "`TypeError` is commonly used to indicate an inappropriate type:"
   ]
  },
  {
   "cell_type": "code",
   "execution_count": 119,
   "metadata": {},
   "outputs": [
    {
     "ename": "TypeError",
     "evalue": "n has to be an integer",
     "output_type": "error",
     "traceback": [
      "\u001b[1;31m---------------------------------------------------------------------------\u001b[0m",
      "\u001b[1;31mTypeError\u001b[0m                                 Traceback (most recent call last)",
      "\u001b[1;32m<ipython-input-119-ac429068524e>\u001b[0m in \u001b[0;36m<module>\u001b[1;34m\u001b[0m\n\u001b[0;32m      4\u001b[0m     \u001b[0mprint\u001b[0m\u001b[1;33m(\u001b[0m\u001b[1;34m'I got an integer! This is {}'\u001b[0m\u001b[1;33m.\u001b[0m\u001b[0mformat\u001b[0m\u001b[1;33m(\u001b[0m\u001b[0mn\u001b[0m\u001b[1;33m)\u001b[0m\u001b[1;33m)\u001b[0m\u001b[1;33m\u001b[0m\u001b[1;33m\u001b[0m\u001b[0m\n\u001b[0;32m      5\u001b[0m \u001b[1;33m\u001b[0m\u001b[0m\n\u001b[1;32m----> 6\u001b[1;33m \u001b[0mi_want_integer\u001b[0m\u001b[1;33m(\u001b[0m\u001b[1;34m'Hi!'\u001b[0m\u001b[1;33m)\u001b[0m\u001b[1;33m\u001b[0m\u001b[1;33m\u001b[0m\u001b[0m\n\u001b[0m",
      "\u001b[1;32m<ipython-input-119-ac429068524e>\u001b[0m in \u001b[0;36mi_want_integer\u001b[1;34m(n)\u001b[0m\n\u001b[0;32m      1\u001b[0m \u001b[1;32mdef\u001b[0m \u001b[0mi_want_integer\u001b[0m\u001b[1;33m(\u001b[0m\u001b[0mn\u001b[0m\u001b[1;33m)\u001b[0m\u001b[1;33m:\u001b[0m\u001b[1;33m\u001b[0m\u001b[1;33m\u001b[0m\u001b[0m\n\u001b[0;32m      2\u001b[0m     \u001b[1;32mif\u001b[0m \u001b[1;32mnot\u001b[0m \u001b[0misinstance\u001b[0m\u001b[1;33m(\u001b[0m\u001b[0mn\u001b[0m\u001b[1;33m,\u001b[0m \u001b[0mint\u001b[0m\u001b[1;33m)\u001b[0m\u001b[1;33m:\u001b[0m\u001b[1;33m\u001b[0m\u001b[1;33m\u001b[0m\u001b[0m\n\u001b[1;32m----> 3\u001b[1;33m         \u001b[1;32mraise\u001b[0m \u001b[0mTypeError\u001b[0m\u001b[1;33m(\u001b[0m\u001b[1;34m'n has to be an integer'\u001b[0m\u001b[1;33m)\u001b[0m\u001b[1;33m\u001b[0m\u001b[1;33m\u001b[0m\u001b[0m\n\u001b[0m\u001b[0;32m      4\u001b[0m     \u001b[0mprint\u001b[0m\u001b[1;33m(\u001b[0m\u001b[1;34m'I got an integer! This is {}'\u001b[0m\u001b[1;33m.\u001b[0m\u001b[0mformat\u001b[0m\u001b[1;33m(\u001b[0m\u001b[0mn\u001b[0m\u001b[1;33m)\u001b[0m\u001b[1;33m)\u001b[0m\u001b[1;33m\u001b[0m\u001b[1;33m\u001b[0m\u001b[0m\n\u001b[0;32m      5\u001b[0m \u001b[1;33m\u001b[0m\u001b[0m\n",
      "\u001b[1;31mTypeError\u001b[0m: n has to be an integer"
     ]
    }
   ],
   "source": [
    "def i_want_integer(n):\n",
    "    if not isinstance(n, int):\n",
    "        raise TypeError('n has to be an integer')\n",
    "    print('I got an integer! This is {}'.format(n))\n",
    "\n",
    "i_want_integer('Hi!')"
   ]
  },
  {
   "cell_type": "code",
   "execution_count": 120,
   "metadata": {},
   "outputs": [
    {
     "name": "stdout",
     "output_type": "stream",
     "text": [
      "I got an integer! This is 42\n"
     ]
    }
   ],
   "source": [
    "i_want_integer(42)"
   ]
  },
  {
   "cell_type": "markdown",
   "metadata": {},
   "source": [
    "For now, we cannot build custom exception types because we need to introduce the concept\n",
    "of classes before (see further). However, we can introduce the basic type for any custom\n",
    "exception, the aptly named `Exception`. Creating such an object, we can pass an arbitrary\n",
    "arguments list and, handling it, these arguments are available as a tuple:"
   ]
  },
  {
   "cell_type": "code",
   "execution_count": 124,
   "metadata": {},
   "outputs": [
    {
     "name": "stdout",
     "output_type": "stream",
     "text": [
      "<class 'Exception'>\n",
      "('Cindy', 81)\n",
      "('Cindy', 81)\n"
     ]
    }
   ],
   "source": [
    "try:\n",
    "    # Force an Exception to occur\n",
    "    raise Exception('Cindy', 81)\n",
    "except Exception as e:\n",
    "    print(type(e))\n",
    "    print(e.args) # Arguments stored in .args\n",
    "    print(e) # Print arguments"
   ]
  },
  {
   "cell_type": "markdown",
   "metadata": {},
   "source": [
    "### Input and output"
   ]
  },
  {
   "cell_type": "markdown",
   "metadata": {},
   "source": [
    "Allowing the user to interact with a script is a very common feature. In order to get values\n",
    "from the user, we have already seen the built-in function `input`. In the other way, to display\n",
    "some informations, we can use the function `print` and the method `format` of the strings. The\n",
    "interested reader is encouraged to look for more details about string methods (`str.ljust`,\n",
    "`str.center`, `str.rjust`, `str.zfill`, ...).\n",
    "\n",
    "We now focus on handling files with Python. Before using it, a file has to be opened with\n",
    "open which return a file object. This function takes two arguments, the name of the file to\n",
    "open and the *mode* to use. The mode involves announcing what we want to do with the file:\n",
    "`'r'` when the file will only be read, `'w'` for only writing (an existing file with the same name\n",
    "will be erased), `'a'` opens the file for appending to the end and `'r+'` opens the file for both reading and writing. By default, a file is opened in read only mode. At the end, the file object\n",
    "can be closed with `close`."
   ]
  },
  {
   "cell_type": "code",
   "execution_count": 29,
   "metadata": {},
   "outputs": [
    {
     "ename": "FileNotFoundError",
     "evalue": "[Errno 2] No such file or directory: 'my_text_file.txt'",
     "output_type": "error",
     "traceback": [
      "\u001b[0;31m---------------------------------------------------------------------------\u001b[0m",
      "\u001b[0;31mFileNotFoundError\u001b[0m                         Traceback (most recent call last)",
      "\u001b[0;32m<ipython-input-29-d882086529be>\u001b[0m in \u001b[0;36m<module>\u001b[0;34m\u001b[0m\n\u001b[1;32m      1\u001b[0m \u001b[0;31m# Try to open some nonexistent file\u001b[0m\u001b[0;34m\u001b[0m\u001b[0;34m\u001b[0m\u001b[0;34m\u001b[0m\u001b[0m\n\u001b[0;32m----> 2\u001b[0;31m \u001b[0mf\u001b[0m \u001b[0;34m=\u001b[0m \u001b[0mopen\u001b[0m\u001b[0;34m(\u001b[0m\u001b[0;34m'my_text_file.txt'\u001b[0m\u001b[0;34m)\u001b[0m \u001b[0;31m# FileNotFoundError\u001b[0m\u001b[0;34m\u001b[0m\u001b[0;34m\u001b[0m\u001b[0m\n\u001b[0m",
      "\u001b[0;31mFileNotFoundError\u001b[0m: [Errno 2] No such file or directory: 'my_text_file.txt'"
     ]
    }
   ],
   "source": [
    "# Try to open some nonexistent file\n",
    "f = open('my_text_file.txt') # FileNotFoundError"
   ]
  },
  {
   "cell_type": "code",
   "execution_count": 2,
   "metadata": {},
   "outputs": [],
   "source": [
    "# Create and open a text file\n",
    "!touch my_text_file.txt"
   ]
  },
  {
   "cell_type": "code",
   "execution_count": 30,
   "metadata": {},
   "outputs": [
    {
     "name": "stdout",
     "output_type": "stream",
     "text": [
      "<class '_io.TextIOWrapper'>\n"
     ]
    }
   ],
   "source": [
    "# A new file appears in the working directory\n",
    "f = open('my_text_file.txt', 'w')\n",
    "print(type(f))\n",
    "f.close() # Close the file"
   ]
  },
  {
   "cell_type": "code",
   "execution_count": 31,
   "metadata": {},
   "outputs": [],
   "source": [
    "# Reopen the file in read/write mode\n",
    "f = open('my_text_file.txt', 'r+')\n",
    "f.close()"
   ]
  },
  {
   "cell_type": "markdown",
   "metadata": {},
   "source": [
    "We do not mention binary files here. Indeed, opening files like the above example implicitly\n",
    "considers that the file is a text file. This mainly matters for dealing with line endings but it\n",
    "can be tragic if you want to handle binary files like JPEG files, for instance. We do not give\n",
    "more details about that in this document but you can refer to the [documentation](https://docs.python.org/3.4/library/functions.html#open) about the\n",
    "function `open`.\n",
    "\n",
    "The method `read` reads the whole file and returns a string with its content. To write a\n",
    "string to a file, the method `write` is used. Be careful that `write` can only write strings, so\n",
    "any non string data has to be converted to a string before being written."
   ]
  },
  {
   "cell_type": "code",
   "execution_count": 16,
   "metadata": {},
   "outputs": [
    {
     "name": "stdout",
     "output_type": "stream",
     "text": [
      "\n"
     ]
    }
   ],
   "source": [
    "f = open('my_text_file.txt', 'r+')\n",
    "content = f.read()\n",
    "print(content) # An empty string for an empty file"
   ]
  },
  {
   "cell_type": "code",
   "execution_count": 17,
   "metadata": {},
   "outputs": [
    {
     "data": {
      "text/plain": [
       "15"
      ]
     },
     "execution_count": 17,
     "metadata": {},
     "output_type": "execute_result"
    }
   ],
   "source": [
    "f.write('Hi Pythonista!\\n')"
   ]
  },
  {
   "cell_type": "code",
   "execution_count": 18,
   "metadata": {},
   "outputs": [
    {
     "data": {
      "text/plain": [
       "13"
      ]
     },
     "execution_count": 18,
     "metadata": {},
     "output_type": "execute_result"
    }
   ],
   "source": [
    "f.write('How are you?\\n')"
   ]
  },
  {
   "cell_type": "code",
   "execution_count": 19,
   "metadata": {},
   "outputs": [
    {
     "data": {
      "text/plain": [
       "4"
      ]
     },
     "execution_count": 19,
     "metadata": {},
     "output_type": "execute_result"
    }
   ],
   "source": [
    "f.write('Bye\\n')"
   ]
  },
  {
   "cell_type": "code",
   "execution_count": 20,
   "metadata": {},
   "outputs": [
    {
     "ename": "TypeError",
     "evalue": "write() argument must be str, not int",
     "output_type": "error",
     "traceback": [
      "\u001b[0;31m---------------------------------------------------------------------------\u001b[0m",
      "\u001b[0;31mTypeError\u001b[0m                                 Traceback (most recent call last)",
      "\u001b[0;32m<ipython-input-20-a352a9ef0490>\u001b[0m in \u001b[0;36m<module>\u001b[0;34m\u001b[0m\n\u001b[0;32m----> 1\u001b[0;31m \u001b[0mf\u001b[0m\u001b[0;34m.\u001b[0m\u001b[0mwrite\u001b[0m\u001b[0;34m(\u001b[0m\u001b[0;36m42\u001b[0m\u001b[0;34m)\u001b[0m \u001b[0;31m# Error, write only string!\u001b[0m\u001b[0;34m\u001b[0m\u001b[0;34m\u001b[0m\u001b[0m\n\u001b[0m",
      "\u001b[0;31mTypeError\u001b[0m: write() argument must be str, not int"
     ]
    }
   ],
   "source": [
    "f.write(42) # Error, write only string!"
   ]
  },
  {
   "cell_type": "code",
   "execution_count": 21,
   "metadata": {},
   "outputs": [],
   "source": [
    "f.write(str(42)) # OK\n",
    "f.close() # Open the file with a text editor to see its content"
   ]
  },
  {
   "cell_type": "code",
   "execution_count": 22,
   "metadata": {},
   "outputs": [
    {
     "name": "stdout",
     "output_type": "stream",
     "text": [
      "Hi Pythonista!\n",
      "How are you?\n",
      "Bye\n",
      "42\n"
     ]
    }
   ],
   "source": [
    "f = open('my_text_file.txt', 'r') # Reopen in read only\n",
    "content = f.read()\n",
    "print(content)"
   ]
  },
  {
   "cell_type": "markdown",
   "metadata": {},
   "source": [
    "To read a file line by line, there is the method `readline` but you can also use the file as an\n",
    "iterable object and directly plug it into a `for` loop!"
   ]
  },
  {
   "cell_type": "code",
   "execution_count": 251,
   "metadata": {},
   "outputs": [
    {
     "data": {
      "text/plain": [
       "'Hi Pythonista!\\n'"
      ]
     },
     "execution_count": 251,
     "metadata": {},
     "output_type": "execute_result"
    }
   ],
   "source": [
    "f = open('my_text_file.txt', 'r')\n",
    "f.readline()"
   ]
  },
  {
   "cell_type": "code",
   "execution_count": 252,
   "metadata": {},
   "outputs": [
    {
     "data": {
      "text/plain": [
       "'How are you?\\n'"
      ]
     },
     "execution_count": 252,
     "metadata": {},
     "output_type": "execute_result"
    }
   ],
   "source": [
    "f.readline()"
   ]
  },
  {
   "cell_type": "code",
   "execution_count": 253,
   "metadata": {},
   "outputs": [
    {
     "data": {
      "text/plain": [
       "'Bye\\n'"
      ]
     },
     "execution_count": 253,
     "metadata": {},
     "output_type": "execute_result"
    }
   ],
   "source": [
    "f.readline()"
   ]
  },
  {
   "cell_type": "code",
   "execution_count": 254,
   "metadata": {},
   "outputs": [],
   "source": [
    "f.close()"
   ]
  },
  {
   "cell_type": "code",
   "execution_count": 255,
   "metadata": {},
   "outputs": [
    {
     "name": "stdout",
     "output_type": "stream",
     "text": [
      "Line 1: Hi Pythonista!\n",
      "\n",
      "Line 2: How are you?\n",
      "\n",
      "Line 3: Bye\n",
      "\n",
      "Line 4: 42\n"
     ]
    }
   ],
   "source": [
    "f = open('my_text_file.txt', 'r')\n",
    "i = 1\n",
    "\n",
    "for line in f:\n",
    "    print('Line {}: {}'.format(i, line))\n",
    "    i += 1\n",
    "\n",
    "f.close()"
   ]
  },
  {
   "cell_type": "markdown",
   "metadata": {},
   "source": [
    "When you deal with a file, you silently use an object that contain the current position in the\n",
    "file, *i.e.* the position where the next read will occur. You do not really need to take care of\n",
    "that in a first time but, if you want to get this position, you can ask with the method `tell`\n",
    "and modify it with `seek`."
   ]
  },
  {
   "cell_type": "code",
   "execution_count": 256,
   "metadata": {},
   "outputs": [
    {
     "data": {
      "text/plain": [
       "0"
      ]
     },
     "execution_count": 256,
     "metadata": {},
     "output_type": "execute_result"
    }
   ],
   "source": [
    "f = open('my_text_file.txt', 'r')\n",
    "f.tell()"
   ]
  },
  {
   "cell_type": "code",
   "execution_count": 257,
   "metadata": {},
   "outputs": [
    {
     "data": {
      "text/plain": [
       "'Hi Pythonista!\\n'"
      ]
     },
     "execution_count": 257,
     "metadata": {},
     "output_type": "execute_result"
    }
   ],
   "source": [
    "f.readline()"
   ]
  },
  {
   "cell_type": "code",
   "execution_count": 258,
   "metadata": {},
   "outputs": [
    {
     "data": {
      "text/plain": [
       "15"
      ]
     },
     "execution_count": 258,
     "metadata": {},
     "output_type": "execute_result"
    }
   ],
   "source": [
    "f.tell()"
   ]
  },
  {
   "cell_type": "code",
   "execution_count": 259,
   "metadata": {},
   "outputs": [
    {
     "data": {
      "text/plain": [
       "0"
      ]
     },
     "execution_count": 259,
     "metadata": {},
     "output_type": "execute_result"
    }
   ],
   "source": [
    "f.seek(0) # Back to the beginning"
   ]
  },
  {
   "cell_type": "code",
   "execution_count": 260,
   "metadata": {},
   "outputs": [
    {
     "data": {
      "text/plain": [
       "'Hi Pythonista!\\n'"
      ]
     },
     "execution_count": 260,
     "metadata": {},
     "output_type": "execute_result"
    }
   ],
   "source": [
    "f.readline() # First line again"
   ]
  },
  {
   "cell_type": "code",
   "execution_count": 261,
   "metadata": {},
   "outputs": [
    {
     "data": {
      "text/plain": [
       "10"
      ]
     },
     "execution_count": 261,
     "metadata": {},
     "output_type": "execute_result"
    }
   ],
   "source": [
    "f.seek(10) # Next read starts at position 10"
   ]
  },
  {
   "cell_type": "code",
   "execution_count": 262,
   "metadata": {},
   "outputs": [
    {
     "data": {
      "text/plain": [
       "'sta!\\n'"
      ]
     },
     "execution_count": 262,
     "metadata": {},
     "output_type": "execute_result"
    }
   ],
   "source": [
    "f.readline()"
   ]
  },
  {
   "cell_type": "markdown",
   "metadata": {},
   "source": [
    "As you can see, a file has to be closed after use. If you forget it, the file will remain open\n",
    "and it can be problematic. To automate the closing and make it easier to handle files, the file\n",
    "object offers a mechanism called a *context*. We will see later how to create such a mechanism\n",
    "for our objects but this is a very useful feature that you can use with a `with ... as` statement."
   ]
  },
  {
   "cell_type": "code",
   "execution_count": 263,
   "metadata": {},
   "outputs": [
    {
     "name": "stdout",
     "output_type": "stream",
     "text": [
      "Hi Pythonista!\n",
      "How are you?\n",
      "Bye\n",
      "42\n"
     ]
    },
    {
     "data": {
      "text/plain": [
       "True"
      ]
     },
     "execution_count": 263,
     "metadata": {},
     "output_type": "execute_result"
    }
   ],
   "source": [
    "with open('my_text_file.txt', 'r') as f:\n",
    "    content = f.read()\n",
    "\n",
    "print(content)\n",
    "f.closed # File has been silently and properly closed"
   ]
  },
  {
   "cell_type": "markdown",
   "metadata": {},
   "source": [
    "**Questions**\n",
    "\n",
    "- What is returned by the method write?\n",
    "- Understand how the line endings are handled.\n",
    "- Read the [documentation](https://docs.python.org/3.4/library/io.html?highlight=seek#io.TextIOBase.seek) about `seek`. How can you set a position from the end of the file?\n",
    "- Add an option to your function `draw_pine` to draw into a file.\n",
    "- Write a function `draw_pine_from_file` to draw a pine with options read from a file."
   ]
  },
  {
   "cell_type": "code",
   "execution_count": null,
   "metadata": {},
   "outputs": [],
   "source": []
  },
  {
   "cell_type": "markdown",
   "metadata": {},
   "source": [
    "### Classes"
   ]
  },
  {
   "cell_type": "markdown",
   "metadata": {},
   "source": [
    "This is beyond the scope of this document to provide a complete introduction to object\n",
    "oriented programming. In this section, we simply introduce the basics to define classes and\n",
    "create custom objects in Python.\n",
    "\n",
    "To say it simply, a class is a structure which can contain variables, called *attributes*, and\n",
    "functions, called *methods*, which can be accessed with a dot `.` symbol. A class is used as\n",
    "template to contruct objects, we say that an object *instantiates* a class. A class can be\n",
    "documented with the help of a docstring in the same way we described previously."
   ]
  },
  {
   "cell_type": "code",
   "execution_count": 264,
   "metadata": {},
   "outputs": [],
   "source": [
    "class MyClass:\n",
    "    \"\"\"Documentation goes here.\"\"\"\n",
    "\n",
    "    n = 42 # An attribute\n",
    "\n",
    "    def f(self): # A method, see further for self\n",
    "        return 'I am a method'\n",
    "\n",
    "# Two instances our class\n",
    "obj1 = MyClass()\n",
    "obj2 = MyClass()"
   ]
  },
  {
   "cell_type": "code",
   "execution_count": 265,
   "metadata": {},
   "outputs": [
    {
     "data": {
      "text/plain": [
       "__main__.MyClass"
      ]
     },
     "execution_count": 265,
     "metadata": {},
     "output_type": "execute_result"
    }
   ],
   "source": [
    "# Object type\n",
    "type(obj1)"
   ]
  },
  {
   "cell_type": "code",
   "execution_count": 266,
   "metadata": {},
   "outputs": [
    {
     "name": "stdout",
     "output_type": "stream",
     "text": [
      "42\n"
     ]
    }
   ],
   "source": [
    "# Use the attribute\n",
    "print(obj1.n)"
   ]
  },
  {
   "cell_type": "code",
   "execution_count": 267,
   "metadata": {},
   "outputs": [
    {
     "name": "stdout",
     "output_type": "stream",
     "text": [
      "17\n"
     ]
    }
   ],
   "source": [
    "obj1.n = 17\n",
    "print(obj1.n)"
   ]
  },
  {
   "cell_type": "code",
   "execution_count": 268,
   "metadata": {},
   "outputs": [
    {
     "name": "stdout",
     "output_type": "stream",
     "text": [
      "42\n"
     ]
    }
   ],
   "source": [
    "# Value is in the scope of the instance, not the one of the class\n",
    "print(obj2.n)"
   ]
  },
  {
   "cell_type": "code",
   "execution_count": 269,
   "metadata": {},
   "outputs": [
    {
     "data": {
      "text/plain": [
       "'I am a method'"
      ]
     },
     "execution_count": 269,
     "metadata": {},
     "output_type": "execute_result"
    }
   ],
   "source": [
    "# Call the method\n",
    "obj1.f()"
   ]
  },
  {
   "cell_type": "markdown",
   "metadata": {},
   "source": [
    "The role of a class is to *encapsulate* values and mechanisms to provide an interface to the user\n",
    "for some specific purpose. Before giving more details about classes, we have to note some\n",
    "special syntactic features in the class definition. Such a definition is introduced by the word\n",
    "`class` followed by the name of the class. Then, you can define attributes and methods. As illustrated in the example, an attribute is a variable defined in the scope of the instance. This\n",
    "point is important and actually not well illustrated by our class `MyClass`. Indeed, defining\n",
    "an attribute in the class definition like we did for `n` provide a reference to the class that can\n",
    "be overwritten in an instance. This can be problematic for mutable types as we explained\n",
    "previously."
   ]
  },
  {
   "cell_type": "code",
   "execution_count": 270,
   "metadata": {},
   "outputs": [
    {
     "name": "stdout",
     "output_type": "stream",
     "text": [
      "42\n",
      "[1, 2, 3]\n"
     ]
    }
   ],
   "source": [
    "class ClassWithAttributes:\n",
    "    n = 42\n",
    "    v = [1, 2, 3] # Mutable attribute\n",
    "\n",
    "# Class-level attributes\n",
    "print(ClassWithAttributes.n)\n",
    "print(ClassWithAttributes.v)"
   ]
  },
  {
   "cell_type": "code",
   "execution_count": 271,
   "metadata": {},
   "outputs": [
    {
     "name": "stdout",
     "output_type": "stream",
     "text": [
      "42\n",
      "[1, 2, 3]\n"
     ]
    }
   ],
   "source": [
    "# Instance-level attributes\n",
    "x = ClassWithAttributes()\n",
    "print(x.n)\n",
    "print(x.v)"
   ]
  },
  {
   "cell_type": "code",
   "execution_count": 272,
   "metadata": {},
   "outputs": [
    {
     "name": "stdout",
     "output_type": "stream",
     "text": [
      "17\n",
      "42\n"
     ]
    }
   ],
   "source": [
    "# Attributes can be overwritten ...\n",
    "x.n = 17\n",
    "print(x.n) # Instance-level\n",
    "print(ClassWithAttributes.n) # Class-level"
   ]
  },
  {
   "cell_type": "code",
   "execution_count": 273,
   "metadata": {},
   "outputs": [
    {
     "name": "stdout",
     "output_type": "stream",
     "text": [
      "[1, 17, 3]\n",
      "[1, 17, 3]\n"
     ]
    }
   ],
   "source": [
    "# ... but be careful with mutable types\n",
    "x.v[1] = 17\n",
    "print(x.v) # Instance-level\n",
    "print(ClassWithAttributes.v) # Class-level"
   ]
  },
  {
   "cell_type": "markdown",
   "metadata": {},
   "source": [
    "Class-level attributes can be useful for specific role but to avoid problems like the one\n",
    "illustrated in the previous example, the attributes should be defined at instance-level. To do\n",
    "it, we need a reference to the instance itself which has not already been created . . . it is a\n",
    "vicious circle! The solution is based on the statement usually denoted by `self` (this word is\n",
    "a simple convention) which is used to precisely designate this reference to an instance. The\n",
    "common way to define instance-level attributes is to do it in a special method `__init__`, called\n",
    "constructor, that receives `self` as **first** argument, potentially followed by other arguments,\n",
    "and that is silently called when the object is created."
   ]
  },
  {
   "cell_type": "code",
   "execution_count": 125,
   "metadata": {},
   "outputs": [],
   "source": [
    "class ClassWithConstructor:\n",
    "    \n",
    "    def __init__(self):\n",
    "        self.n = 42 # Instance-level attribute"
   ]
  },
  {
   "cell_type": "code",
   "execution_count": 126,
   "metadata": {},
   "outputs": [
    {
     "data": {
      "text/plain": [
       "42"
      ]
     },
     "execution_count": 126,
     "metadata": {},
     "output_type": "execute_result"
    }
   ],
   "source": [
    "ClassWithConstructor().n"
   ]
  },
  {
   "cell_type": "code",
   "execution_count": 275,
   "metadata": {},
   "outputs": [
    {
     "ename": "AttributeError",
     "evalue": "type object 'ClassWithConstructor' has no attribute 'n'",
     "output_type": "error",
     "traceback": [
      "\u001b[0;31m---------------------------------------------------------------------------\u001b[0m",
      "\u001b[0;31mAttributeError\u001b[0m                            Traceback (most recent call last)",
      "\u001b[0;32m<ipython-input-275-08cf96eed704>\u001b[0m in \u001b[0;36m<module>\u001b[0;34m\u001b[0m\n\u001b[1;32m      1\u001b[0m \u001b[0;31m# No more class-level attribute\u001b[0m\u001b[0;34m\u001b[0m\u001b[0;34m\u001b[0m\u001b[0;34m\u001b[0m\u001b[0m\n\u001b[0;32m----> 2\u001b[0;31m \u001b[0mprint\u001b[0m\u001b[0;34m(\u001b[0m\u001b[0mClassWithConstructor\u001b[0m\u001b[0;34m.\u001b[0m\u001b[0mn\u001b[0m\u001b[0;34m)\u001b[0m\u001b[0;34m\u001b[0m\u001b[0;34m\u001b[0m\u001b[0m\n\u001b[0m",
      "\u001b[0;31mAttributeError\u001b[0m: type object 'ClassWithConstructor' has no attribute 'n'"
     ]
    }
   ],
   "source": [
    "# No more class-level attribute\n",
    "print(ClassWithConstructor.n)"
   ]
  },
  {
   "cell_type": "code",
   "execution_count": 276,
   "metadata": {},
   "outputs": [
    {
     "name": "stdout",
     "output_type": "stream",
     "text": [
      "42\n",
      "17\n"
     ]
    }
   ],
   "source": [
    "x = ClassWithConstructor() # Silent call to __init__(self)\n",
    "print(x.n)\n",
    "x.n = 17\n",
    "print(x.n)"
   ]
  },
  {
   "cell_type": "code",
   "execution_count": 277,
   "metadata": {},
   "outputs": [
    {
     "name": "stdout",
     "output_type": "stream",
     "text": [
      "42\n",
      "Hello\n"
     ]
    }
   ],
   "source": [
    "# Constructor can have arguments\n",
    "class ClassWithArgs:\n",
    "    \n",
    "    def __init__(self, a, b='Hello'): # First self, then arguments\n",
    "        self.a = a\n",
    "        self.message = b\n",
    "\n",
    "y = ClassWithArgs(42)\n",
    "print(y.a)\n",
    "print(y.message)"
   ]
  },
  {
   "cell_type": "code",
   "execution_count": 278,
   "metadata": {},
   "outputs": [
    {
     "name": "stdout",
     "output_type": "stream",
     "text": [
      "42\n",
      "Oh yeah!\n"
     ]
    }
   ],
   "source": [
    "z = ClassWithArgs(42, 'Oh yeah!')\n",
    "print(z.a)\n",
    "print(z.message)"
   ]
  },
  {
   "cell_type": "markdown",
   "metadata": {},
   "source": [
    "In our first class example, you can note that we have already use `self` as argument for\n",
    "the method `f`. Similarly, if you omit it, the method is defined at class-level but, with it, the\n",
    "method is defined at instance-level which is usually what we want."
   ]
  },
  {
   "cell_type": "code",
   "execution_count": 127,
   "metadata": {},
   "outputs": [
    {
     "name": "stdout",
     "output_type": "stream",
     "text": [
      "Value: 42\n"
     ]
    }
   ],
   "source": [
    "class ClassWithMethods:\n",
    "    \n",
    "    # Constructor\n",
    "    def __init__(self, x):\n",
    "        self.value = x\n",
    "\n",
    "    # Instance-level method\n",
    "    def f1(self):\n",
    "        # Here, self exists because instance exists\n",
    "        print('Value: {}'.format(self.value))\n",
    "\n",
    "    # Class-level method\n",
    "    def f2():\n",
    "        # Here, self does not exist\n",
    "        print('I am at class-level')\n",
    "\n",
    "x = ClassWithMethods(42)\n",
    "x.f1()"
   ]
  },
  {
   "cell_type": "code",
   "execution_count": 280,
   "metadata": {},
   "outputs": [
    {
     "ename": "TypeError",
     "evalue": "f1() missing 1 required positional argument: 'self'",
     "output_type": "error",
     "traceback": [
      "\u001b[0;31m---------------------------------------------------------------------------\u001b[0m",
      "\u001b[0;31mTypeError\u001b[0m                                 Traceback (most recent call last)",
      "\u001b[0;32m<ipython-input-280-a2750c9bb824>\u001b[0m in \u001b[0;36m<module>\u001b[0;34m\u001b[0m\n\u001b[0;32m----> 1\u001b[0;31m \u001b[0mClassWithMethods\u001b[0m\u001b[0;34m.\u001b[0m\u001b[0mf1\u001b[0m\u001b[0;34m(\u001b[0m\u001b[0;34m)\u001b[0m \u001b[0;31m# Error\u001b[0m\u001b[0;34m\u001b[0m\u001b[0;34m\u001b[0m\u001b[0m\n\u001b[0m",
      "\u001b[0;31mTypeError\u001b[0m: f1() missing 1 required positional argument: 'self'"
     ]
    }
   ],
   "source": [
    "ClassWithMethods.f1() # Error"
   ]
  },
  {
   "cell_type": "code",
   "execution_count": 281,
   "metadata": {},
   "outputs": [
    {
     "ename": "TypeError",
     "evalue": "f2() takes 0 positional arguments but 1 was given",
     "output_type": "error",
     "traceback": [
      "\u001b[0;31m---------------------------------------------------------------------------\u001b[0m",
      "\u001b[0;31mTypeError\u001b[0m                                 Traceback (most recent call last)",
      "\u001b[0;32m<ipython-input-281-4e09695f4af7>\u001b[0m in \u001b[0;36m<module>\u001b[0;34m\u001b[0m\n\u001b[0;32m----> 1\u001b[0;31m \u001b[0mx\u001b[0m\u001b[0;34m.\u001b[0m\u001b[0mf2\u001b[0m\u001b[0;34m(\u001b[0m\u001b[0;34m)\u001b[0m \u001b[0;31m# Error\u001b[0m\u001b[0;34m\u001b[0m\u001b[0;34m\u001b[0m\u001b[0m\n\u001b[0m",
      "\u001b[0;31mTypeError\u001b[0m: f2() takes 0 positional arguments but 1 was given"
     ]
    }
   ],
   "source": [
    "x.f2() # Error"
   ]
  },
  {
   "cell_type": "code",
   "execution_count": 130,
   "metadata": {},
   "outputs": [
    {
     "name": "stdout",
     "output_type": "stream",
     "text": [
      "I am at class-level\n"
     ]
    }
   ],
   "source": [
    "ClassWithMethods.f2()"
   ]
  },
  {
   "cell_type": "markdown",
   "metadata": {},
   "source": [
    "For vocabulary, class-level attributes or methods are said to be static.\n",
    "\n",
    "We have seen that an exception is raised when an error occurs. What happens when an\n",
    "unhandled exception is raised in a constructor? The question is not naive because it is related\n",
    "to the existence of an object. Actually, if an unhandled exception is raised in a constructor,\n",
    "the object is not created and the statement is simply ignored. Then, if the variable already\n",
    "exists, it is not modified."
   ]
  },
  {
   "cell_type": "code",
   "execution_count": 133,
   "metadata": {},
   "outputs": [
    {
     "name": "stdout",
     "output_type": "stream",
     "text": [
      "22968184\n",
      "0.5\n"
     ]
    }
   ],
   "source": [
    "class Inverse:\n",
    "\n",
    "    def __init__(self, x):\n",
    "        self.value = 1 / x # Ready to raise exception\n",
    "\n",
    "        \n",
    "x = Inverse(2) # No problem\n",
    "print(id(x)); print(x.value) # Object x exists"
   ]
  },
  {
   "cell_type": "code",
   "execution_count": 134,
   "metadata": {},
   "outputs": [
    {
     "ename": "ZeroDivisionError",
     "evalue": "division by zero",
     "output_type": "error",
     "traceback": [
      "\u001b[1;31m---------------------------------------------------------------------------\u001b[0m",
      "\u001b[1;31mZeroDivisionError\u001b[0m                         Traceback (most recent call last)",
      "\u001b[1;32m<ipython-input-134-d85077dd5056>\u001b[0m in \u001b[0;36m<module>\u001b[1;34m\u001b[0m\n\u001b[1;32m----> 1\u001b[1;33m \u001b[0mxx\u001b[0m \u001b[1;33m=\u001b[0m \u001b[0mInverse\u001b[0m\u001b[1;33m(\u001b[0m\u001b[1;36m0\u001b[0m\u001b[1;33m)\u001b[0m \u001b[1;31m# Exception is raised\u001b[0m\u001b[1;33m\u001b[0m\u001b[1;33m\u001b[0m\u001b[0m\n\u001b[0m",
      "\u001b[1;32m<ipython-input-133-577e39ba279c>\u001b[0m in \u001b[0;36m__init__\u001b[1;34m(self, x)\u001b[0m\n\u001b[0;32m      2\u001b[0m \u001b[1;33m\u001b[0m\u001b[0m\n\u001b[0;32m      3\u001b[0m     \u001b[1;32mdef\u001b[0m \u001b[0m__init__\u001b[0m\u001b[1;33m(\u001b[0m\u001b[0mself\u001b[0m\u001b[1;33m,\u001b[0m \u001b[0mx\u001b[0m\u001b[1;33m)\u001b[0m\u001b[1;33m:\u001b[0m\u001b[1;33m\u001b[0m\u001b[1;33m\u001b[0m\u001b[0m\n\u001b[1;32m----> 4\u001b[1;33m         \u001b[0mself\u001b[0m\u001b[1;33m.\u001b[0m\u001b[0mvalue\u001b[0m \u001b[1;33m=\u001b[0m \u001b[1;36m1\u001b[0m \u001b[1;33m/\u001b[0m \u001b[0mx\u001b[0m \u001b[1;31m# Ready to raise exception\u001b[0m\u001b[1;33m\u001b[0m\u001b[1;33m\u001b[0m\u001b[0m\n\u001b[0m\u001b[0;32m      5\u001b[0m \u001b[1;33m\u001b[0m\u001b[0m\n\u001b[0;32m      6\u001b[0m \u001b[1;33m\u001b[0m\u001b[0m\n",
      "\u001b[1;31mZeroDivisionError\u001b[0m: division by zero"
     ]
    }
   ],
   "source": [
    "xx = Inverse(0) # Exception is raised"
   ]
  },
  {
   "cell_type": "code",
   "execution_count": 135,
   "metadata": {},
   "outputs": [
    {
     "ename": "NameError",
     "evalue": "name 'xx' is not defined",
     "output_type": "error",
     "traceback": [
      "\u001b[1;31m---------------------------------------------------------------------------\u001b[0m",
      "\u001b[1;31mNameError\u001b[0m                                 Traceback (most recent call last)",
      "\u001b[1;32m<ipython-input-135-6d5305df830b>\u001b[0m in \u001b[0;36m<module>\u001b[1;34m\u001b[0m\n\u001b[1;32m----> 1\u001b[1;33m \u001b[0mid\u001b[0m\u001b[1;33m(\u001b[0m\u001b[0mxx\u001b[0m\u001b[1;33m)\u001b[0m \u001b[1;31m# Object y has not been created\u001b[0m\u001b[1;33m\u001b[0m\u001b[1;33m\u001b[0m\u001b[0m\n\u001b[0m",
      "\u001b[1;31mNameError\u001b[0m: name 'xx' is not defined"
     ]
    }
   ],
   "source": [
    "id(xx) # Object y has not been created"
   ]
  },
  {
   "cell_type": "code",
   "execution_count": 136,
   "metadata": {
    "scrolled": true
   },
   "outputs": [
    {
     "ename": "ZeroDivisionError",
     "evalue": "division by zero",
     "output_type": "error",
     "traceback": [
      "\u001b[1;31m---------------------------------------------------------------------------\u001b[0m",
      "\u001b[1;31mZeroDivisionError\u001b[0m                         Traceback (most recent call last)",
      "\u001b[1;32m<ipython-input-136-44371e057916>\u001b[0m in \u001b[0;36m<module>\u001b[1;34m\u001b[0m\n\u001b[1;32m----> 1\u001b[1;33m \u001b[0mx\u001b[0m \u001b[1;33m=\u001b[0m \u001b[0mInverse\u001b[0m\u001b[1;33m(\u001b[0m\u001b[1;36m0\u001b[0m\u001b[1;33m)\u001b[0m \u001b[1;31m# Try to replace x but exception is raised\u001b[0m\u001b[1;33m\u001b[0m\u001b[1;33m\u001b[0m\u001b[0m\n\u001b[0m",
      "\u001b[1;32m<ipython-input-133-577e39ba279c>\u001b[0m in \u001b[0;36m__init__\u001b[1;34m(self, x)\u001b[0m\n\u001b[0;32m      2\u001b[0m \u001b[1;33m\u001b[0m\u001b[0m\n\u001b[0;32m      3\u001b[0m     \u001b[1;32mdef\u001b[0m \u001b[0m__init__\u001b[0m\u001b[1;33m(\u001b[0m\u001b[0mself\u001b[0m\u001b[1;33m,\u001b[0m \u001b[0mx\u001b[0m\u001b[1;33m)\u001b[0m\u001b[1;33m:\u001b[0m\u001b[1;33m\u001b[0m\u001b[1;33m\u001b[0m\u001b[0m\n\u001b[1;32m----> 4\u001b[1;33m         \u001b[0mself\u001b[0m\u001b[1;33m.\u001b[0m\u001b[0mvalue\u001b[0m \u001b[1;33m=\u001b[0m \u001b[1;36m1\u001b[0m \u001b[1;33m/\u001b[0m \u001b[0mx\u001b[0m \u001b[1;31m# Ready to raise exception\u001b[0m\u001b[1;33m\u001b[0m\u001b[1;33m\u001b[0m\u001b[0m\n\u001b[0m\u001b[0;32m      5\u001b[0m \u001b[1;33m\u001b[0m\u001b[0m\n\u001b[0;32m      6\u001b[0m \u001b[1;33m\u001b[0m\u001b[0m\n",
      "\u001b[1;31mZeroDivisionError\u001b[0m: division by zero"
     ]
    }
   ],
   "source": [
    "x = Inverse(0) # Try to replace x but exception is raised"
   ]
  },
  {
   "cell_type": "code",
   "execution_count": 137,
   "metadata": {},
   "outputs": [
    {
     "name": "stdout",
     "output_type": "stream",
     "text": [
      "22968184\n",
      "0.5\n"
     ]
    }
   ],
   "source": [
    "print(id(x)); print(x.value) # Previous line is ignored, x does not change"
   ]
  },
  {
   "cell_type": "markdown",
   "metadata": {},
   "source": [
    "The power of object oriented programming mainly comes from the *inheritance* principle.\n",
    "Indeed, we can derive a class from some existing base class in order to adapt it or to enhance\n",
    "it for a specific purpose, for instance. To use this mechanism, you just have to mention the\n",
    "name of the base class between parentheses when you define the derived class."
   ]
  },
  {
   "cell_type": "code",
   "execution_count": 138,
   "metadata": {},
   "outputs": [
    {
     "name": "stdout",
     "output_type": "stream",
     "text": [
      "Base constructor\n"
     ]
    }
   ],
   "source": [
    "# Base class definition\n",
    "class Base:\n",
    "\n",
    "    def __init__(self):\n",
    "        print('Base constructor')\n",
    "        self.value = 42\n",
    "\n",
    "    def print_value(self):\n",
    "        print('My value is {}'.format(self.value))\n",
    "\n",
    "    def say_hello(self):\n",
    "        print('Hello !')\n",
    "\n",
    "base = Base()"
   ]
  },
  {
   "cell_type": "code",
   "execution_count": 139,
   "metadata": {},
   "outputs": [
    {
     "name": "stdout",
     "output_type": "stream",
     "text": [
      "My value is 42\n"
     ]
    }
   ],
   "source": [
    "base.print_value()"
   ]
  },
  {
   "cell_type": "code",
   "execution_count": 287,
   "metadata": {},
   "outputs": [
    {
     "name": "stdout",
     "output_type": "stream",
     "text": [
      "Hello !\n"
     ]
    }
   ],
   "source": [
    "base.say_hello()"
   ]
  },
  {
   "cell_type": "code",
   "execution_count": 142,
   "metadata": {},
   "outputs": [
    {
     "name": "stdout",
     "output_type": "stream",
     "text": [
      "Derived1 constructor\n"
     ]
    }
   ],
   "source": [
    "# A derived class\n",
    "class Derived1(Base): # Derived inherits from Base\n",
    "\n",
    "    def __init__(self, value):\n",
    "        print('Derived1 constructor')\n",
    "        self.value = value\n",
    "        \n",
    "        \n",
    "derived = Derived1(123) # Note that parent constructor is not called"
   ]
  },
  {
   "cell_type": "code",
   "execution_count": 143,
   "metadata": {},
   "outputs": [
    {
     "name": "stdout",
     "output_type": "stream",
     "text": [
      "123\n"
     ]
    }
   ],
   "source": [
    "# Attributes and methods from Base are available\n",
    "print(derived.value)"
   ]
  },
  {
   "cell_type": "code",
   "execution_count": 144,
   "metadata": {},
   "outputs": [
    {
     "name": "stdout",
     "output_type": "stream",
     "text": [
      "My value is 123\n"
     ]
    }
   ],
   "source": [
    "derived.print_value()"
   ]
  },
  {
   "cell_type": "code",
   "execution_count": 145,
   "metadata": {},
   "outputs": [
    {
     "name": "stdout",
     "output_type": "stream",
     "text": [
      "Hello !\n"
     ]
    }
   ],
   "source": [
    "derived.say_hello()"
   ]
  },
  {
   "cell_type": "code",
   "execution_count": 291,
   "metadata": {},
   "outputs": [
    {
     "name": "stdout",
     "output_type": "stream",
     "text": [
      "Derived2 constructor\n"
     ]
    }
   ],
   "source": [
    "# An other derived class\n",
    "class Derived2(Base):\n",
    "\n",
    "    def __init__(self, value):\n",
    "        print('Derived2 constructor')\n",
    "        self.value = value\n",
    "\n",
    "    def print_value(self): # Methods can be overwritten\n",
    "        print('### Value : {} ###'.format(self.value))\n",
    "\n",
    "\n",
    "derived = Derived2(456)"
   ]
  },
  {
   "cell_type": "code",
   "execution_count": 292,
   "metadata": {},
   "outputs": [
    {
     "name": "stdout",
     "output_type": "stream",
     "text": [
      "### Value : 456 ###\n"
     ]
    }
   ],
   "source": [
    "derived.print_value() # Overwritten method"
   ]
  },
  {
   "cell_type": "code",
   "execution_count": 293,
   "metadata": {},
   "outputs": [
    {
     "name": "stdout",
     "output_type": "stream",
     "text": [
      "Hello !\n"
     ]
    }
   ],
   "source": [
    "derived.say_hello() # Original method"
   ]
  },
  {
   "cell_type": "code",
   "execution_count": 294,
   "metadata": {},
   "outputs": [
    {
     "name": "stdout",
     "output_type": "stream",
     "text": [
      "Base constructor\n",
      "Derived3 constructor\n"
     ]
    }
   ],
   "source": [
    "# Again a derived class\n",
    "class Derived3(Base):\n",
    "\n",
    "    def __init__(self):\n",
    "        # Parent constructor has to be explicitly called, if needed\n",
    "        super().__init__()\n",
    "        print('Derived3 constructor')\n",
    "        \n",
    "\n",
    "derived = Derived3()"
   ]
  },
  {
   "cell_type": "code",
   "execution_count": 295,
   "metadata": {},
   "outputs": [
    {
     "name": "stdout",
     "output_type": "stream",
     "text": [
      "My value is 42\n"
     ]
    }
   ],
   "source": [
    "derived.print_value()"
   ]
  },
  {
   "cell_type": "code",
   "execution_count": 296,
   "metadata": {},
   "outputs": [
    {
     "name": "stdout",
     "output_type": "stream",
     "text": [
      "Hello !\n"
     ]
    }
   ],
   "source": [
    "derived.say_hello()"
   ]
  },
  {
   "cell_type": "markdown",
   "metadata": {},
   "source": [
    "This is quite common to check if some object has a given type or if a class inherits from an\n",
    "other given class. The built-in functions `isinstance` and `issubclass` are available for that."
   ]
  },
  {
   "cell_type": "code",
   "execution_count": 297,
   "metadata": {},
   "outputs": [
    {
     "data": {
      "text/plain": [
       "True"
      ]
     },
     "execution_count": 297,
     "metadata": {},
     "output_type": "execute_result"
    }
   ],
   "source": [
    "isinstance(base, Base)"
   ]
  },
  {
   "cell_type": "code",
   "execution_count": 298,
   "metadata": {},
   "outputs": [
    {
     "data": {
      "text/plain": [
       "True"
      ]
     },
     "execution_count": 298,
     "metadata": {},
     "output_type": "execute_result"
    }
   ],
   "source": [
    "isinstance(derived, Base) # Derived inherits from Base"
   ]
  },
  {
   "cell_type": "code",
   "execution_count": 299,
   "metadata": {},
   "outputs": [
    {
     "data": {
      "text/plain": [
       "True"
      ]
     },
     "execution_count": 299,
     "metadata": {},
     "output_type": "execute_result"
    }
   ],
   "source": [
    "issubclass(Derived1, Base)"
   ]
  },
  {
   "cell_type": "code",
   "execution_count": 300,
   "metadata": {},
   "outputs": [
    {
     "data": {
      "text/plain": [
       "True"
      ]
     },
     "execution_count": 300,
     "metadata": {},
     "output_type": "execute_result"
    }
   ],
   "source": [
    "# Note that a class is considered a subclass of itself\n",
    "issubclass(Base, Base)"
   ]
  },
  {
   "cell_type": "markdown",
   "metadata": {},
   "source": [
    "Of course, we do not have to always inherit from custom classes and we can derive from\n",
    "built-in classes. To illustrate that, let us give a useful example to derive custom exception\n",
    "classes. We have already introduced the [base class](https://docs.python.org/3.4/library/exceptions.html#Exception) `Exception` from which any custom exception class should be derived."
   ]
  },
  {
   "cell_type": "code",
   "execution_count": 301,
   "metadata": {},
   "outputs": [
    {
     "name": "stdout",
     "output_type": "stream",
     "text": [
      "MyException catched!\n",
      "Argument is 42\n",
      "I am a custom exception\n",
      "*** Message : in a bottle\n",
      "*** Argument: 42\n",
      "\n"
     ]
    }
   ],
   "source": [
    "class MyException(Exception):\n",
    "\n",
    "    def __init__(self, message, other_arg):\n",
    "        # Calling base constructor allows standard behavior\n",
    "        super().__init__('I am a custom exception\\n'\n",
    "            + '*** Message : {}\\n'.format(message)\n",
    "            + '*** Argument: {}\\n'.format(other_arg)\n",
    "        )\n",
    "        \n",
    "        # Some attributes\n",
    "        self.arg = other_arg\n",
    "        self.message = message\n",
    "\n",
    "def f():\n",
    "    # Custom exception can be raised as other ones\n",
    "    raise MyException('in a bottle', 42)\n",
    "try:\n",
    "    f()\n",
    "except MyException as e:\n",
    "    print('MyException catched!')\n",
    "    print('Argument is {}'.format(e.arg))\n",
    "    print(e) # Inheritance power!"
   ]
  },
  {
   "cell_type": "markdown",
   "metadata": {},
   "source": [
    "We have seen the special method `__init__` which defines the class constructor. Actually,\n",
    "there are a lot of other special methods that can be defined in a class to give it some specific\n",
    "behaviors. These data models are described in a devoted [documentation page](https://docs.python.org/3/reference/datamodel.html) and it would\n",
    "be beyond the scope of this document to make an exhaustive review. The special methods are\n",
    "all surrounded by double underscores `__` and are listed in [Section 3.3](https://docs.python.org/3.4/reference/datamodel.html#special-method-names) of the documentation\n",
    "page. Hereafter, we give some examples of such methods."
   ]
  },
  {
   "cell_type": "code",
   "execution_count": 302,
   "metadata": {},
   "outputs": [
    {
     "name": "stdout",
     "output_type": "stream",
     "text": [
      "A object (140261153723336)\n"
     ]
    }
   ],
   "source": [
    "# A class that can be converted as a string\n",
    "class A:\n",
    "    \n",
    "    def __str__(self):\n",
    "        return 'A object ({})'.format(id(self))\n",
    "\n",
    "a = A()\n",
    "str(a) # Explicit conversion\n",
    "print(a) # Silent call to a.__str__()"
   ]
  },
  {
   "cell_type": "code",
   "execution_count": 146,
   "metadata": {},
   "outputs": [
    {
     "name": "stdout",
     "output_type": "stream",
     "text": [
      "42\n"
     ]
    }
   ],
   "source": [
    "# A (very) minimal and stupid sequence-like class\n",
    "class B:\n",
    "    \n",
    "    def __len__(self):\n",
    "        # Fixed length of 42 ...\n",
    "        return 42\n",
    "\n",
    "    def __getitem__(self, key):\n",
    "        # Implement read-only self[key]\n",
    "        if isinstance(key, int):\n",
    "            # Dummy content\n",
    "            return key % 2\n",
    "        else:\n",
    "            # Integer key only\n",
    "            raise TypeError('B class allows only integers')\n",
    "\n",
    "b = B()\n",
    "print(len(b))"
   ]
  },
  {
   "cell_type": "code",
   "execution_count": 147,
   "metadata": {},
   "outputs": [
    {
     "ename": "TypeError",
     "evalue": "B class allows only integers",
     "output_type": "error",
     "traceback": [
      "\u001b[1;31m---------------------------------------------------------------------------\u001b[0m",
      "\u001b[1;31mTypeError\u001b[0m                                 Traceback (most recent call last)",
      "\u001b[1;32m<ipython-input-147-01923494edb8>\u001b[0m in \u001b[0;36m<module>\u001b[1;34m\u001b[0m\n\u001b[1;32m----> 1\u001b[1;33m \u001b[0mprint\u001b[0m\u001b[1;33m(\u001b[0m\u001b[0mb\u001b[0m\u001b[1;33m[\u001b[0m\u001b[1;34m'Ni'\u001b[0m\u001b[1;33m]\u001b[0m\u001b[1;33m)\u001b[0m\u001b[1;33m\u001b[0m\u001b[1;33m\u001b[0m\u001b[0m\n\u001b[0m",
      "\u001b[1;32m<ipython-input-146-20507712a376>\u001b[0m in \u001b[0;36m__getitem__\u001b[1;34m(self, key)\u001b[0m\n\u001b[0;32m     13\u001b[0m         \u001b[1;32melse\u001b[0m\u001b[1;33m:\u001b[0m\u001b[1;33m\u001b[0m\u001b[1;33m\u001b[0m\u001b[0m\n\u001b[0;32m     14\u001b[0m             \u001b[1;31m# Integer key only\u001b[0m\u001b[1;33m\u001b[0m\u001b[1;33m\u001b[0m\u001b[1;33m\u001b[0m\u001b[0m\n\u001b[1;32m---> 15\u001b[1;33m             \u001b[1;32mraise\u001b[0m \u001b[0mTypeError\u001b[0m\u001b[1;33m(\u001b[0m\u001b[1;34m'B class allows only integers'\u001b[0m\u001b[1;33m)\u001b[0m\u001b[1;33m\u001b[0m\u001b[1;33m\u001b[0m\u001b[0m\n\u001b[0m\u001b[0;32m     16\u001b[0m \u001b[1;33m\u001b[0m\u001b[0m\n\u001b[0;32m     17\u001b[0m \u001b[0mb\u001b[0m \u001b[1;33m=\u001b[0m \u001b[0mB\u001b[0m\u001b[1;33m(\u001b[0m\u001b[1;33m)\u001b[0m\u001b[1;33m\u001b[0m\u001b[1;33m\u001b[0m\u001b[0m\n",
      "\u001b[1;31mTypeError\u001b[0m: B class allows only integers"
     ]
    }
   ],
   "source": [
    "print(b['Ni'])"
   ]
  },
  {
   "cell_type": "code",
   "execution_count": 149,
   "metadata": {
    "scrolled": false
   },
   "outputs": [
    {
     "name": "stdout",
     "output_type": "stream",
     "text": [
      "1\n"
     ]
    }
   ],
   "source": [
    "print(b[17])"
   ]
  },
  {
   "cell_type": "code",
   "execution_count": 151,
   "metadata": {},
   "outputs": [
    {
     "ename": "TypeError",
     "evalue": "'B' object is not callable",
     "output_type": "error",
     "traceback": [
      "\u001b[1;31m---------------------------------------------------------------------------\u001b[0m",
      "\u001b[1;31mTypeError\u001b[0m                                 Traceback (most recent call last)",
      "\u001b[1;32m<ipython-input-151-3f2acd4d66cf>\u001b[0m in \u001b[0;36m<module>\u001b[1;34m\u001b[0m\n\u001b[1;32m----> 1\u001b[1;33m \u001b[0mb\u001b[0m\u001b[1;33m(\u001b[0m\u001b[1;36m17\u001b[0m\u001b[1;33m)\u001b[0m\u001b[1;33m\u001b[0m\u001b[1;33m\u001b[0m\u001b[0m\n\u001b[0m",
      "\u001b[1;31mTypeError\u001b[0m: 'B' object is not callable"
     ]
    }
   ],
   "source": [
    "b(17)"
   ]
  },
  {
   "cell_type": "markdown",
   "metadata": {},
   "source": [
    "**Questions**\n",
    "\n",
    "- Create a class `Pet` which contains two attributes `age` and `name` and a method `get_info` that returns a string with informations about the pet. You should also provide a proper constructor.\n",
    "- Derive two classes `Cat` and `Dog` from Pet and improve the method `get_info` in these specific cases.\n",
    "- Create a custom exception `BadPetAge` to be raised when an error about the age occurs.\n",
    "- Enhance the constructor of `Pet` to raise a `BadPetAge` if `age` is negative.\n",
    "- Add comparison methods to the class `Pet` to order them according to their age. Here are some example behaviours:\n",
    "\n",
    "```python\n",
    "# Example of comparisons\n",
    "felix = Cat('Felix', 5)\n",
    "puppy = Dog('Puppy', 3)\n",
    "\n",
    "felix > puppy # Should return True\n",
    "puppy > puppy # Should return False\n",
    "felix <= puppy # Should return False\n",
    "```\n",
    "\n",
    "- Find in the documentation how to allow your class to be used through a context `with ... as`."
   ]
  },
  {
   "cell_type": "code",
   "execution_count": 46,
   "metadata": {},
   "outputs": [
    {
     "name": "stdout",
     "output_type": "stream",
     "text": [
      "Pet named Puppy at 3 years old\n",
      "Pet named Felix at 5 years old\n",
      "False: Puppy is older than Felix\n",
      "True: Puppy is younger than Felix\n",
      "False: Puppy's age is as same as Felix\n"
     ]
    }
   ],
   "source": [
    "class Pet:\n",
    "    \n",
    "    def __init__(self,name,age):\n",
    "        self.name = name\n",
    "        self.age = age\n",
    "        \n",
    "    def get_info(self):\n",
    "        print(\"Pet named {} at {} years old\".format(self.name,self.age))\n",
    "    \n",
    "    def __gt__(self,other):\n",
    "        return self.age > other.age\n",
    "    def __eq__(self,other):\n",
    "        return self.age == other.age\n",
    "    def __lt__(self,other):\n",
    "        return self.age < other.age\n",
    "\n",
    "puppy = Pet(name='Puppy',age=3)\n",
    "felix = Pet(name='Felix',age=5)\n",
    "Pet.get_info(puppy), Pet.get_info(felix)\n",
    "print(\"{}: Puppy is older than Felix\".format(puppy>felix))\n",
    "print(\"{}: Puppy is younger than Felix\".format(puppy<felix))\n",
    "print(\"{}: Puppy's age is as same as Felix\".format(puppy==felix))"
   ]
  },
  {
   "cell_type": "code",
   "execution_count": null,
   "metadata": {},
   "outputs": [],
   "source": []
  },
  {
   "cell_type": "code",
   "execution_count": 48,
   "metadata": {},
   "outputs": [
    {
     "name": "stdout",
     "output_type": "stream",
     "text": [
      "Cat\n",
      "Pet named Felix at 5 years old\n"
     ]
    }
   ],
   "source": [
    "class Cat(Pet):\n",
    "    \n",
    "    def __init__(self, name, age):\n",
    "        print('Cat')\n",
    "        self.name=name\n",
    "        self.age=age\n",
    "        \n",
    "c=Cat(\"Felix\",5)\n",
    "c.get_info()"
   ]
  },
  {
   "cell_type": "code",
   "execution_count": 195,
   "metadata": {},
   "outputs": [
    {
     "name": "stdout",
     "output_type": "stream",
     "text": [
      "Dog\n",
      "Pet named Felix at 5 years old\n"
     ]
    }
   ],
   "source": [
    "class Dog(Pet):\n",
    "    \n",
    "    def __init__(self, name, age):\n",
    "        print('Dog')\n",
    "        self.name=name\n",
    "        self.age=age\n",
    "        \n",
    "d=Dog(\"Felix\",5)\n",
    "d.get_info()"
   ]
  },
  {
   "cell_type": "code",
   "execution_count": 200,
   "metadata": {},
   "outputs": [
    {
     "name": "stdout",
     "output_type": "stream",
     "text": [
      "A bad negative pet age!\n",
      "\n"
     ]
    }
   ],
   "source": [
    "class BadPetAge(Exception):\n",
    "    \n",
    "    def __init__(self, age):\n",
    "        super().__init__('A bad negative pet age!\\n')\n",
    "        \n",
    "def f():\n",
    "    raise BadPetAge(-4)\n",
    "try:\n",
    "    f()\n",
    "except BadPetAge as bpa:\n",
    "    print(bpa)"
   ]
  },
  {
   "cell_type": "markdown",
   "metadata": {},
   "source": [
    "## Extending Python with modules"
   ]
  },
  {
   "cell_type": "markdown",
   "metadata": {},
   "source": [
    "### What is a Python module?"
   ]
  },
  {
   "cell_type": "markdown",
   "metadata": {},
   "source": [
    "If we restrict ourselves to built-in types and functions, we will have to define a lot of things\n",
    "and, most importantly, to do it in all our scripts. Of course, we do not do it and, when a\n",
    "program gets longer, we split it into several files. This practice makes code maintenance easier\n",
    "and helps us to organize our code. Then, to use some handy function or class located in a\n",
    "file, we just have to tell Python to look for the definition in this file. Such a file containing\n",
    "definitions is called a *module* and we say that we *import* it.\n",
    "\n",
    "A module is nothing else than a Python file and the file name is the module name with\n",
    "the suffix `.py` appended. Within a module, the module’s name is available as a string through\n",
    "the global variable `__name__`. To serve as an example, consider the module `my_sequences`\n",
    "given by a file `my_sequences.py` as follows:"
   ]
  },
  {
   "cell_type": "code",
   "execution_count": 306,
   "metadata": {},
   "outputs": [],
   "source": [
    "# Fibonacci sequence\n",
    "def fibonacci(n):\n",
    "    s = [0]\n",
    "    a, b = 0, 1\n",
    "    while len(s) < n:\n",
    "        s.append(b)\n",
    "        a, b = b, a + b\n",
    "    return s\n",
    "\n",
    "\n",
    "# Syracuse sequence\n",
    "def syracuse(n):\n",
    "    s = []\n",
    "    u = n\n",
    "    while u != 1:\n",
    "        s.append(u)\n",
    "        u = u // 2 if u % 2 == 0 else 3 * u + 1\n",
    "    s.append(1)\n",
    "    return s"
   ]
  },
  {
   "cell_type": "markdown",
   "metadata": {},
   "source": [
    "### Importing from a module"
   ]
  },
  {
   "cell_type": "markdown",
   "metadata": {},
   "source": [
    "The easiest way to import all the definitions contained in a module is to use `import` with the\n",
    "name of the module (the files have to be in the same directory). Then, objects defined in the\n",
    "module are available but in a *namespace* named like the module:"
   ]
  },
  {
   "cell_type": "code",
   "execution_count": 307,
   "metadata": {},
   "outputs": [
    {
     "data": {
      "text/plain": [
       "[0, 1, 1, 2, 3, 5, 8, 13, 21, 34]"
      ]
     },
     "execution_count": 307,
     "metadata": {},
     "output_type": "execute_result"
    }
   ],
   "source": [
    "import my_sequences\n",
    "\n",
    "fibonacci(10) # Error, fibonacci is not in global scope"
   ]
  },
  {
   "cell_type": "code",
   "execution_count": 308,
   "metadata": {},
   "outputs": [
    {
     "data": {
      "text/plain": [
       "[0, 1, 1, 2, 3, 5, 8, 13, 21, 34]"
      ]
     },
     "execution_count": 308,
     "metadata": {},
     "output_type": "execute_result"
    }
   ],
   "source": [
    "my_sequences.fibonacci(10) # Call fibonacci in my_sequences namespace"
   ]
  },
  {
   "cell_type": "code",
   "execution_count": 309,
   "metadata": {},
   "outputs": [
    {
     "data": {
      "text/plain": [
       "[10, 5, 16, 8, 4, 2, 1]"
      ]
     },
     "execution_count": 309,
     "metadata": {},
     "output_type": "execute_result"
    }
   ],
   "source": [
    "my_sequences.syracuse(10) # Idem with syracuse"
   ]
  },
  {
   "cell_type": "code",
   "execution_count": 310,
   "metadata": {},
   "outputs": [
    {
     "data": {
      "text/plain": [
       "'my_sequences'"
      ]
     },
     "execution_count": 310,
     "metadata": {},
     "output_type": "execute_result"
    }
   ],
   "source": [
    "# You can get the module name with __name__\n",
    "my_sequences.__name__"
   ]
  },
  {
   "cell_type": "markdown",
   "metadata": {},
   "source": [
    "Sometimes, a module name (or a package name, see further) can be long to repeat again and\n",
    "again in the content of the code. Typing it is boring and does not make the code easier to\n",
    "read. For that, Python provides an alias mechanism based on statement `as`:"
   ]
  },
  {
   "cell_type": "code",
   "execution_count": 311,
   "metadata": {},
   "outputs": [
    {
     "data": {
      "text/plain": [
       "[42, 21, 64, 32, 16, 8, 4, 2, 1]"
      ]
     },
     "execution_count": 311,
     "metadata": {},
     "output_type": "execute_result"
    }
   ],
   "source": [
    "import my_sequences as ms\n",
    "\n",
    "ms.syracuse(42) # Shorter, isn't it?"
   ]
  },
  {
   "cell_type": "markdown",
   "metadata": {},
   "source": [
    "If you need it, you can also import elements from a modules in the global scope (*i.e.*\n",
    "without namespace) by naming them explicitly with `from ... import ...` However, this\n",
    "practice is not encouraged because it makes code harder to read because of the presence of\n",
    "not standard functions."
   ]
  },
  {
   "cell_type": "code",
   "execution_count": 312,
   "metadata": {},
   "outputs": [
    {
     "data": {
      "text/plain": [
       "[10, 5, 16, 8, 4, 2, 1]"
      ]
     },
     "execution_count": 312,
     "metadata": {},
     "output_type": "execute_result"
    }
   ],
   "source": [
    "from my_sequences import fibonacci, syracuse\n",
    "\n",
    "syracuse(10) # Function is now global"
   ]
  },
  {
   "cell_type": "markdown",
   "metadata": {},
   "source": [
    "You can also import everything from a module in the global scope with the wildcard `*` but this\n",
    "is definitively not recommended because it can silently overwrite definitions (`e.g.` function\n",
    "`open` with standard module `os`). Such a practice should only be used for testing purposes."
   ]
  },
  {
   "cell_type": "code",
   "execution_count": 313,
   "metadata": {},
   "outputs": [
    {
     "data": {
      "text/plain": [
       "[0, 1, 1, 2, 3, 5, 8, 13, 21, 34]"
      ]
     },
     "execution_count": 313,
     "metadata": {},
     "output_type": "execute_result"
    }
   ],
   "source": [
    "from my_sequences import *\n",
    "\n",
    "fibonacci(10) # All is global"
   ]
  },
  {
   "cell_type": "markdown",
   "metadata": {},
   "source": [
    "### Packages"
   ]
  },
  {
   "cell_type": "markdown",
   "metadata": {},
   "source": [
    "When a project gets larger, we naturally split the code into several modules, each one being\n",
    "adpated for a specific purpose (getting the data, computing statistics, producing outputs,\n",
    "... ). A *package* is a collection of such modules simply based on directory hierarchy.\n",
    "\n",
    "Let start with a basic package called `my_package`. Create a directory named `my_package`\n",
    "an put the module `my_sequences.py` inside it. Moreover, create a file `__init__.py` in\n",
    "`my_package`. Your directory should be as follows:\n",
    "\n",
    "```\n",
    "my_package/\n",
    "    __init__.py\n",
    "    my_sequences.py\n",
    "```\n",
    "\n",
    "The special file `__init__.py` is required to treat the directory as a package. This file can be\n",
    "left empty but it can contain code to initialize the package. We are not going into details\n",
    "about this file (see the documentation) and we simply use it to load the module `my_sequences`\n",
    "on initialization. So, putting `from . import my_sequences` in `__init__.py` is sufficient for\n",
    "now. The statement `from . ...` stands for importing directly from current directory."
   ]
  },
  {
   "cell_type": "code",
   "execution_count": 314,
   "metadata": {},
   "outputs": [
    {
     "data": {
      "text/plain": [
       "[0, 1, 1, 2, 3, 5, 8, 13, 21, 34]"
      ]
     },
     "execution_count": 314,
     "metadata": {},
     "output_type": "execute_result"
    }
   ],
   "source": [
    "# Import a package like a module\n",
    "import my_package\n",
    "\n",
    "# Functions are in module's namespace, nested in package's namespace\n",
    "# (automated by __init__.py)\n",
    "my_package.my_sequences.fibonacci(10)"
   ]
  },
  {
   "cell_type": "code",
   "execution_count": 315,
   "metadata": {},
   "outputs": [
    {
     "data": {
      "text/plain": [
       "[17, 52, 26, 13, 40, 20, 10, 5, 16, 8, 4, 2, 1]"
      ]
     },
     "execution_count": 315,
     "metadata": {},
     "output_type": "execute_result"
    }
   ],
   "source": [
    "# Import just a module (with a saving alias)\n",
    "import my_package.my_sequences as mpseq\n",
    "mpseq.syracuse(17)"
   ]
  },
  {
   "cell_type": "code",
   "execution_count": 316,
   "metadata": {},
   "outputs": [
    {
     "data": {
      "text/plain": [
       "[10, 5, 16, 8, 4, 2, 1]"
      ]
     },
     "execution_count": 316,
     "metadata": {},
     "output_type": "execute_result"
    }
   ],
   "source": [
    "# Importing in global scope from a package\n",
    "from my_package.my_sequences import syracuse\n",
    "syracuse(10)"
   ]
  },
  {
   "cell_type": "markdown",
   "metadata": {},
   "source": [
    "With only one module, a package is useless but it becomes more interesting when you\n",
    "collect various modules and *subpackages*. Consider the follwing file hierarchy:\n",
    "\n",
    "```\n",
    "my_package/\n",
    "    __init__.py\n",
    "    tools/\n",
    "        __init__.py\n",
    "        one_amazing_module.py\n",
    "        an_other_module.py\n",
    "    sequences/\n",
    "        __init__.py\n",
    "        fibonacci.py\n",
    "        syracuse.py\n",
    "    some_stuff.py\n",
    "    other_stuff.py\n",
    "```\n",
    "\n",
    "Filling the modules and `__init__.py` files, you will learn how to properly organize a Python\n",
    "project for your future developments."
   ]
  },
  {
   "cell_type": "markdown",
   "metadata": {},
   "source": [
    "### The Python standard library"
   ]
  },
  {
   "cell_type": "markdown",
   "metadata": {},
   "source": [
    "Python comes with a lot of standard modules which form the [Python standard library](https://docs.python.org/3/library/index.html). This\n",
    "is definitively one of the great strengths of Python to offer a so rich standard library. It would\n",
    "not be possible to present all these modules and packages but the clear and well organized\n",
    "documentation is here to help you in finding the ones you need. A good habit before trying\n",
    "to reinvent the wheel is to have first a look in these documentation pages. Hereafter, we\n",
    "introduce some parts of the standard library (with links to the documentation pages for\n",
    "further readings) which we consider useful but with no claim of exhaustiveness."
   ]
  },
  {
   "cell_type": "markdown",
   "metadata": {},
   "source": [
    "#### A bit of math"
   ]
  },
  {
   "cell_type": "markdown",
   "metadata": {},
   "source": [
    "More advanced mathematical packages are presented further but, for basic mathematics, the\n",
    "standard module `math` already offers several useful definitions. Among them, we can start\n",
    "with the constants $π$ and $e$:"
   ]
  },
  {
   "cell_type": "code",
   "execution_count": 317,
   "metadata": {},
   "outputs": [
    {
     "name": "stdout",
     "output_type": "stream",
     "text": [
      "3.141592653589793\n",
      "2.718281828459045\n"
     ]
    }
   ],
   "source": [
    "import math\n",
    "\n",
    "print(math.pi)\n",
    "print(math.e)"
   ]
  },
  {
   "cell_type": "markdown",
   "metadata": {},
   "source": [
    "Common mathematical functions are also provided:"
   ]
  },
  {
   "cell_type": "code",
   "execution_count": 318,
   "metadata": {},
   "outputs": [
    {
     "name": "stdout",
     "output_type": "stream",
     "text": [
      "4.2\n",
      "66.68633104092515\n",
      "1.4350845252893227\n",
      "2.04939015319192\n",
      "-0.4902608213406994 -0.8715757724135882 1.7777797745088417\n"
     ]
    }
   ],
   "source": [
    "x = 4.2\n",
    "print(math.fabs(x)) # Absolute value\n",
    "print(math.exp(x)) # Exponential\n",
    "print(math.log(x)) # Logarithm\n",
    "print(math.sqrt(x)) # Square root\n",
    "print(math.cos(x), math.sin(x), math.tan(x)) # Trigonometry\n",
    "# Et cetera..."
   ]
  },
  {
   "cell_type": "markdown",
   "metadata": {},
   "source": [
    "It is also better to keep in mind that the functions provided by math are usually more accurate\n",
    "than standard functions."
   ]
  },
  {
   "cell_type": "code",
   "execution_count": 319,
   "metadata": {},
   "outputs": [
    {
     "data": {
      "text/plain": [
       "0.9999999999999999"
      ]
     },
     "execution_count": 319,
     "metadata": {},
     "output_type": "execute_result"
    }
   ],
   "source": [
    "x = [0.1] * 10\n",
    "sum(x)"
   ]
  },
  {
   "cell_type": "code",
   "execution_count": 320,
   "metadata": {},
   "outputs": [
    {
     "data": {
      "text/plain": [
       "1.0"
      ]
     },
     "execution_count": 320,
     "metadata": {},
     "output_type": "execute_result"
    }
   ],
   "source": [
    "math.fsum(x)"
   ]
  },
  {
   "cell_type": "markdown",
   "metadata": {},
   "source": [
    "An other useful mathematical tool is a (pseudo-)random number generator. The module\n",
    "`random` offers generators for various distributions."
   ]
  },
  {
   "cell_type": "code",
   "execution_count": 321,
   "metadata": {},
   "outputs": [
    {
     "name": "stdout",
     "output_type": "stream",
     "text": [
      "6\n",
      "0.0007434780007332664\n",
      "2.2793642888530696\n",
      "-1.9546037190379186\n"
     ]
    }
   ],
   "source": [
    "import random\n",
    "\n",
    "# Random integer between 4 and 9\n",
    "print(random.randint(4, 9))\n",
    "# Uniform distribution in [0, 1)\n",
    "print(random.random())\n",
    "# Uniform distribution in [1.7, 4.2)\n",
    "print(random.uniform(1.7, 4.2))\n",
    "# Gaussian distribution with mean -8.1 and standard deviation 4.2\n",
    "print(random.gauss(-8.1, 4.2))"
   ]
  },
  {
   "cell_type": "code",
   "execution_count": 322,
   "metadata": {},
   "outputs": [
    {
     "name": "stdout",
     "output_type": "stream",
     "text": [
      "[4, 3, 0, 8, 2, 9, 5, 6, 1, 7]\n",
      "[4, 0, 9, 7]\n"
     ]
    }
   ],
   "source": [
    "# Et cetera...\n",
    "# Some useful tools on set (subsampling, for instance)\n",
    "x = [i for i in range(10)]\n",
    "random.shuffle(x); print(x)\n",
    "print(random.sample(x, 4))"
   ]
  },
  {
   "cell_type": "markdown",
   "metadata": {},
   "source": [
    "To conclude this brief review of mathematical tools in standard library, we mention the\n",
    "module `statistics` which provides (very) basic statistical functions."
   ]
  },
  {
   "cell_type": "code",
   "execution_count": 323,
   "metadata": {},
   "outputs": [
    {
     "name": "stdout",
     "output_type": "stream",
     "text": [
      "-0.07132027732426277\n",
      "-0.09693389461141644\n",
      "0.7109771484749244\n"
     ]
    }
   ],
   "source": [
    "import statistics\n",
    "\n",
    "x = [random.gauss(0, 1) for i in range(50)]\n",
    "print(statistics.mean(x))\n",
    "print(statistics.median(x))\n",
    "print(statistics.variance(x))"
   ]
  },
  {
   "cell_type": "markdown",
   "metadata": {},
   "source": [
    "*Documentation pages:*\n",
    "\n",
    "- [math](https://docs.python.org/3/library/math.html)\n",
    "- [random](https://docs.python.org/3/library/random.html)\n",
    "- [statistics](https://docs.python.org/3/library/statistics.html)"
   ]
  },
  {
   "cell_type": "markdown",
   "metadata": {},
   "source": [
    "#### System interfaces"
   ]
  },
  {
   "cell_type": "markdown",
   "metadata": {},
   "source": [
    "Some standard modules provide portable ways to interact with the underlying system. Maybe\n",
    "not the easiest to use, the module `os` offers a lot of low-level functions wherein some allow to\n",
    "deal with the current working directory."
   ]
  },
  {
   "cell_type": "code",
   "execution_count": 201,
   "metadata": {},
   "outputs": [
    {
     "name": "stdout",
     "output_type": "stream",
     "text": [
      "E:\\TSE\\Statistical Softwares for data scientists\\M2S1\\Python\n"
     ]
    }
   ],
   "source": [
    "import os\n",
    "\n",
    "# Get the working directory\n",
    "print(os.getcwd())"
   ]
  },
  {
   "cell_type": "code",
   "execution_count": 202,
   "metadata": {},
   "outputs": [
    {
     "name": "stdout",
     "output_type": "stream",
     "text": [
      "['.ipynb_checkpoints', 'Introduction to Python.ipynb']\n"
     ]
    }
   ],
   "source": [
    "# List the content of the working directory\n",
    "print(os.listdir())"
   ]
  },
  {
   "cell_type": "code",
   "execution_count": 326,
   "metadata": {},
   "outputs": [],
   "source": [
    "# Create a directory in the working directory\n",
    "os.mkdir('test_dir')"
   ]
  },
  {
   "cell_type": "code",
   "execution_count": 327,
   "metadata": {},
   "outputs": [
    {
     "name": "stdout",
     "output_type": "stream",
     "text": [
      "/home/max/projects/cours-python/test_dir\n"
     ]
    }
   ],
   "source": [
    "# Change the working directory\n",
    "os.chdir('test_dir')\n",
    "print(os.getcwd())"
   ]
  },
  {
   "cell_type": "code",
   "execution_count": 328,
   "metadata": {},
   "outputs": [
    {
     "name": "stdout",
     "output_type": "stream",
     "text": [
      "/home/max/projects/cours-python\n"
     ]
    }
   ],
   "source": [
    "os.chdir('..')\n",
    "print(os.getcwd())"
   ]
  },
  {
   "cell_type": "code",
   "execution_count": 329,
   "metadata": {},
   "outputs": [],
   "source": [
    "# Remove a directory\n",
    "os.rmdir('test_dir')\n",
    "# Et cetera..."
   ]
  },
  {
   "cell_type": "code",
   "execution_count": 330,
   "metadata": {},
   "outputs": [
    {
     "name": "stdout",
     "output_type": "stream",
     "text": [
      "/home/max/projects/cours-python\n"
     ]
    }
   ],
   "source": [
    "print(os.getcwd())"
   ]
  },
  {
   "cell_type": "markdown",
   "metadata": {},
   "source": [
    "When you need to handle path names, the module `os.path` is your best friend. It allows\n",
    "you to extract the base name of a file with `os.path.basename`, to test if a path exists with\n",
    "`os.path.exists`, ... and especially to manage path names with `os.path.join` in a portable\n",
    "way:"
   ]
  },
  {
   "cell_type": "code",
   "execution_count": 331,
   "metadata": {},
   "outputs": [
    {
     "name": "stdout",
     "output_type": "stream",
     "text": [
      "hobbit/home/land\n"
     ]
    }
   ],
   "source": [
    "import os.path\n",
    "\n",
    "# Content of shire varies from an operating system to an other\n",
    "shire = os.path.join('hobbit', 'home', 'land')\n",
    "print(shire)"
   ]
  },
  {
   "cell_type": "markdown",
   "metadata": {},
   "source": [
    "Finally, the module sys provides system tools which are not dependent of the operating\n",
    "system."
   ]
  },
  {
   "cell_type": "code",
   "execution_count": 203,
   "metadata": {},
   "outputs": [
    {
     "name": "stdout",
     "output_type": "stream",
     "text": [
      "win32\n"
     ]
    }
   ],
   "source": [
    "import sys\n",
    "\n",
    "# Get a platform identifier\n",
    "print(sys.platform)"
   ]
  },
  {
   "cell_type": "code",
   "execution_count": 204,
   "metadata": {},
   "outputs": [
    {
     "ename": "SystemExit",
     "evalue": "Before I die...",
     "output_type": "error",
     "traceback": [
      "An exception has occurred, use %tb to see the full traceback.\n",
      "\u001b[1;31mSystemExit\u001b[0m\u001b[1;31m:\u001b[0m Before I die...\n"
     ]
    },
    {
     "name": "stderr",
     "output_type": "stream",
     "text": [
      "C:\\Users\\王梦琦\\AppData\\Roaming\\Python\\Python38\\site-packages\\IPython\\core\\interactiveshell.py:3351: UserWarning: To exit: use 'exit', 'quit', or Ctrl-D.\n",
      "  warn(\"To exit: use 'exit', 'quit', or Ctrl-D.\", stacklevel=1)\n"
     ]
    }
   ],
   "source": [
    "# A quick way to exit a program\n",
    "sys.exit('Before I die...')"
   ]
  },
  {
   "cell_type": "markdown",
   "metadata": {},
   "source": [
    "*Documentation pages*:\n",
    "\n",
    "- [os](https://docs.python.org/3.4/library/os.html)\n",
    "- [os.path](https://docs.python.org/3.4/library/os.path.html)\n",
    "- [sys](https://docs.python.org/3.4/library/sys.html)"
   ]
  },
  {
   "cell_type": "markdown",
   "metadata": {},
   "source": [
    "#### Data formats"
   ]
  },
  {
   "cell_type": "markdown",
   "metadata": {},
   "source": [
    "We now browse some usual data formats and ways to import and export data with Python.\n",
    "The module `datetime` supplies classes for manipulating dates and times. This module offers\n",
    "advanced tools to handle dates and times but we restrict our introduction to the simplest\n",
    "one, namely `datetime.datetime` class (read the documentation to get more informations)."
   ]
  },
  {
   "cell_type": "code",
   "execution_count": 205,
   "metadata": {},
   "outputs": [
    {
     "name": "stdout",
     "output_type": "stream",
     "text": [
      "2022-09-28 21:01:21.182562\n"
     ]
    }
   ],
   "source": [
    "import datetime\n",
    "\n",
    "now = datetime.datetime.now()\n",
    "print(str(now)) # Date and time as a string"
   ]
  },
  {
   "cell_type": "code",
   "execution_count": 206,
   "metadata": {},
   "outputs": [
    {
     "name": "stdout",
     "output_type": "stream",
     "text": [
      "2\n"
     ]
    }
   ],
   "source": [
    "print(now.weekday()) # 0 is Monday, 1 is Tuesday, ..."
   ]
  },
  {
   "cell_type": "code",
   "execution_count": 207,
   "metadata": {},
   "outputs": [
    {
     "name": "stdout",
     "output_type": "stream",
     "text": [
      "2022\n",
      "9\n",
      "28\n",
      "21\n",
      "1\n",
      "21\n",
      "182562\n"
     ]
    }
   ],
   "source": [
    "# Direct access to the attributes\n",
    "print(now.year)\n",
    "print(now.month)\n",
    "print(now.day)\n",
    "print(now.hour)\n",
    "print(now.minute)\n",
    "print(now.second)\n",
    "print(now.microsecond)"
   ]
  },
  {
   "cell_type": "code",
   "execution_count": 208,
   "metadata": {},
   "outputs": [
    {
     "name": "stdout",
     "output_type": "stream",
     "text": [
      "2023-08-06 12:04:29.183643\n",
      "2021-01-13 14:55:05.180400\n"
     ]
    }
   ],
   "source": [
    "# Time arithmetic\n",
    "delta = datetime.timedelta(days=17,\n",
    "seconds=8,\n",
    "microseconds=81,\n",
    "milliseconds=1,\n",
    "minutes=3,\n",
    "hours=15,\n",
    "weeks=42)\n",
    "print(str(now + delta))\n",
    "print(str(now - 2*delta))"
   ]
  },
  {
   "cell_type": "markdown",
   "metadata": {},
   "source": [
    "Standard library offers several ways to import and export data. Such mechanisms are\n",
    "useful to save data into files and load them some time after. Module `pickle` supplies `dump`\n",
    "and `load` to these ends. Pay attention to the fact that `pickle` uses binary files (`'wb'` and\n",
    "`'rb'` in the following examples), this is similar to what we have seen previously but with\n",
    "bytes instead of characters."
   ]
  },
  {
   "cell_type": "code",
   "execution_count": 338,
   "metadata": {},
   "outputs": [
    {
     "name": "stdout",
     "output_type": "stream",
     "text": [
      "{'Baggins': ('Bilbo', 'Frodo'), 'Gamgee': ('Samwise',), 'Brandybuck': ('Meriadoc',)}\n"
     ]
    }
   ],
   "source": [
    "import pickle\n",
    "\n",
    "amazing_object = {\n",
    "    'Baggins': ('Bilbo', 'Frodo'),\n",
    "    'Gamgee': ('Samwise',),\n",
    "    'Brandybuck': ('Meriadoc',)\n",
    "}\n",
    "\n",
    "# Write an object to a binary file\n",
    "with open('amazing.data', 'wb') as f:\n",
    "    pickle.dump(amazing_object, f)\n",
    "\n",
    "# Delete the object to simulate a new session (or quit)\n",
    "del amazing_object\n",
    "\n",
    "# Load an object from a binary file\n",
    "with open('amazing.data', 'rb') as f:\n",
    "    amazing_object = pickle.load(f)\n",
    "\n",
    "print(amazing_object)"
   ]
  },
  {
   "cell_type": "markdown",
   "metadata": {},
   "source": [
    "An other common way to serialize data is the [JSON format](https://www.wikiwand.com/en/JSON). The module json offers a handsome interface to deal with files in such a format."
   ]
  },
  {
   "cell_type": "code",
   "execution_count": 339,
   "metadata": {},
   "outputs": [
    {
     "name": "stdout",
     "output_type": "stream",
     "text": [
      "{\"Baggins\": [\"Bilbo\", \"Frodo\"], \"Gamgee\": [\"Samwise\"], \"Brandybuck\": [\"Meriadoc\"]}\n"
     ]
    }
   ],
   "source": [
    "import json\n",
    "\n",
    "amazing_object = {\n",
    "    'Baggins': ('Bilbo', 'Frodo'),\n",
    "    'Gamgee': ('Samwise',),\n",
    "    'Brandybuck': ('Meriadoc',)\n",
    "}\n",
    "\n",
    "# See it in JSON format\n",
    "print(json.dumps(amazing_object))"
   ]
  },
  {
   "cell_type": "code",
   "execution_count": 340,
   "metadata": {},
   "outputs": [
    {
     "name": "stdout",
     "output_type": "stream",
     "text": [
      "{\n",
      "    \"Baggins\": [\n",
      "        \"Bilbo\",\n",
      "        \"Frodo\"\n",
      "    ],\n",
      "    \"Gamgee\": [\n",
      "        \"Samwise\"\n",
      "    ],\n",
      "    \"Brandybuck\": [\n",
      "        \"Meriadoc\"\n",
      "    ]\n",
      "}\n"
     ]
    }
   ],
   "source": [
    "print(json.dumps(amazing_object, indent=4)) # Prettier"
   ]
  },
  {
   "cell_type": "code",
   "execution_count": 341,
   "metadata": {},
   "outputs": [
    {
     "name": "stdout",
     "output_type": "stream",
     "text": [
      "['gandalf', {'is': ['amazing', None, 1.7]}]\n"
     ]
    },
    {
     "data": {
      "text/plain": [
       "list"
      ]
     },
     "execution_count": 341,
     "metadata": {},
     "output_type": "execute_result"
    }
   ],
   "source": [
    "# Load from a string\n",
    "my_object = json.loads('[\"gandalf\", {\"is\":[\"amazing\", null, 1.7]}]')\n",
    "print(my_object); type(my_object)"
   ]
  },
  {
   "cell_type": "code",
   "execution_count": 342,
   "metadata": {},
   "outputs": [
    {
     "name": "stdout",
     "output_type": "stream",
     "text": [
      "{'Baggins': ['Bilbo', 'Frodo'], 'Gamgee': ['Samwise'], 'Brandybuck': ['Meriadoc']}\n"
     ]
    }
   ],
   "source": [
    "# Export to a file\n",
    "with open('amazing.json', 'w') as f:\n",
    "    f.write(json.dumps(amazing_object))\n",
    "    del amazing_object # Simulate again\n",
    "\n",
    "# Load from a file\n",
    "with open('amazing.json', 'r') as f:\n",
    "    amazing_object = json.loads(f.read())\n",
    "print(amazing_object)"
   ]
  },
  {
   "cell_type": "markdown",
   "metadata": {},
   "source": [
    "*Documentation pages:*\n",
    "\n",
    "- [datetime](https://docs.python.org/3/library/datetime.html)\n",
    "- [pickle](https://docs.python.org/3/library/pickle.html)\n",
    "- [json](https://docs.python.org/3/library/json.html)"
   ]
  },
  {
   "cell_type": "markdown",
   "metadata": {},
   "source": [
    "## Graphics with Matplotlib"
   ]
  },
  {
   "cell_type": "markdown",
   "metadata": {},
   "source": [
    "### Introduction"
   ]
  },
  {
   "cell_type": "markdown",
   "metadata": {},
   "source": [
    "[Matplotlib](https://matplotlib.org/) is a plotting library originally wrote by John D. Hunter and distributed under a\n",
    "BSD compatible licence (Matplotlib is a free software).\n",
    "\n",
    "Hereafter, we propose an introduction to basic concepts underlying the Matplotlib pack-\n",
    "age. To experiment the following examples, we recommend to work in a Python console rather\n",
    "than a IPython one. Indeed, this latter integrates graphics in its own way and is not handy\n",
    "for an introduction."
   ]
  },
  {
   "cell_type": "markdown",
   "metadata": {},
   "source": [
    "### Simple graphs"
   ]
  },
  {
   "cell_type": "markdown",
   "metadata": {},
   "source": [
    "Because we are in a Jupyter Notebook/Lab environment, we have to tell our interpreter to render figures inline."
   ]
  },
  {
   "cell_type": "code",
   "execution_count": 343,
   "metadata": {},
   "outputs": [],
   "source": [
    "%matplotlib inline"
   ]
  },
  {
   "cell_type": "markdown",
   "metadata": {},
   "source": [
    "To create figures, Matplotlib supplies the module `pyplot`. To avoid long commands, we use\n",
    "the common alias `plt` for this module."
   ]
  },
  {
   "cell_type": "code",
   "execution_count": 344,
   "metadata": {},
   "outputs": [],
   "source": [
    "import matplotlib.pyplot as plt"
   ]
  },
  {
   "cell_type": "markdown",
   "metadata": {},
   "source": [
    "The most basic graph consists in plotting some points considering their x and y coordinates\n",
    "with `plot`. If you work with Spyder, a special window containing the graph appears after the\n",
    "call to the `plot` function. However, if you work with a raw Python console, you will have to\n",
    "call explicitly the function `show` to see this window which allows you to handle some graphics\n",
    "parameters. To adjust thes axes, you can also deal with the function `axis`."
   ]
  },
  {
   "cell_type": "code",
   "execution_count": 345,
   "metadata": {},
   "outputs": [
    {
     "data": {
      "image/png": "[encoded data removed]",
      "text/plain": [
       "<Figure size 432x288 with 1 Axes>"
      ]
     },
     "metadata": {
      "needs_background": "light"
     },
     "output_type": "display_data"
    }
   ],
   "source": [
    "plt.plot([15, 3, 1, 5], [42, 17, 8, 5])\n",
    "\n",
    "# Modify the axes\n",
    "plt.axis([-5, 20, 0, 50]); # [xmin, xmax, ymin, ymax]"
   ]
  },
  {
   "cell_type": "markdown",
   "metadata": {},
   "source": [
    "If you call again the function `plot`, you see that the new points are plotted in the same\n",
    "figure. This is one way for plotting several graphs together but you can also call `plot` with\n",
    "all the points to plot in one time. To distinguish the plots, use format strings after each pair\n",
    "of points sequences (see the [documentation](https://matplotlib.org/2.0.0/api/pyplot_api.html#matplotlib.pyplot.plot) for details). When you want to restart the figure,\n",
    "you can clean it with `clf` or simply call `close` and start a new one. Alternatively, if you want\n",
    "to keep the existing one for further manipulations, call `figure` to create a new device."
   ]
  },
  {
   "cell_type": "code",
   "execution_count": 346,
   "metadata": {},
   "outputs": [
    {
     "data": {
      "image/png": "[encoded data removed]",
      "text/plain": [
       "<Figure size 432x288 with 1 Axes>"
      ]
     },
     "metadata": {
      "needs_background": "light"
     },
     "output_type": "display_data"
    }
   ],
   "source": [
    "# Clean the current figure\n",
    "plt.clf()\n",
    "\n",
    "# Cyan star markers\n",
    "plt.plot([15, 3, 1, 5], [42, 17, 8, 5], 'c*');"
   ]
  },
  {
   "cell_type": "code",
   "execution_count": 347,
   "metadata": {},
   "outputs": [
    {
     "data": {
      "image/png": "[encoded data removed]",
      "text/plain": [
       "<Figure size 432x288 with 1 Axes>"
      ]
     },
     "metadata": {
      "needs_background": "light"
     },
     "output_type": "display_data"
    },
    {
     "data": {
      "image/png": "[encoded data removed]",
      "text/plain": [
       "<Figure size 432x288 with 1 Axes>"
      ]
     },
     "metadata": {
      "needs_background": "light"
     },
     "output_type": "display_data"
    }
   ],
   "source": [
    "# End the previous figure\n",
    "plt.close()\n",
    "\n",
    "# Red square markers\n",
    "plt.plot([15, 3, 1, 5], [42, 17, 8, 5], 'rs')\n",
    "\n",
    "# Additional plot with green dash-dot line and circle markers\n",
    "plt.plot([0, 5, 10, 15], [42, 17, 8, 5], 'go-.')\n",
    "\n",
    "# Open a new figure\n",
    "plt.figure()\n",
    "\n",
    "# Same graph as above created in one command\n",
    "plt.plot(\n",
    "    [15, 3, 1, 5], [42, 17, 8, 5], 'rs',\n",
    "    [0, 5, 10, 15], [42, 17, 8, 5], 'go-.'\n",
    ");"
   ]
  },
  {
   "cell_type": "markdown",
   "metadata": {},
   "source": [
    "The function plot produces an `Line2D` object which permits to control line properties.\n",
    "These properties can be set at the creation or later with the help of `setp` (again, see the\n",
    "[documentation](https://matplotlib.org/2.0.0/api/pyplot_api.html#matplotlib.pyplot.plot))."
   ]
  },
  {
   "cell_type": "code",
   "execution_count": 348,
   "metadata": {},
   "outputs": [
    {
     "data": {
      "image/png": "[encoded data removed]",
      "text/plain": [
       "<Figure size 432x288 with 1 Axes>"
      ]
     },
     "metadata": {
      "needs_background": "light"
     },
     "output_type": "display_data"
    }
   ],
   "source": [
    "# With properties\n",
    "my_line = plt.plot([0, 5, 10, 15], [17, 8, 42, 5],\n",
    "    color='green',\n",
    "    linestyle='dashed',\n",
    "    marker='o',\n",
    "    markerfacecolor='blue',\n",
    "    markersize=12\n",
    ")\n",
    "\n",
    "# Change some properties\n",
    "plt.setp(my_line, 'color', 'red', 'linewidth', 2.0)\n",
    "\n",
    "# With more than one line, a list is returned\n",
    "my_lines = plt.plot(\n",
    "    [15, 3, 1, 5], [42, 17, 8, 5], 'rs',\n",
    "    [0, 5, 10, 15], [42, 17, 8, 5], 'go-.'\n",
    ")\n",
    "\n",
    "plt.setp(my_lines[0], 'color', 'cyan')\n",
    "plt.setp(my_lines[1], 'marker', 'D');"
   ]
  },
  {
   "cell_type": "markdown",
   "metadata": {},
   "source": [
    "An other common decoration of a graph is text with title, labels and comments. The\n",
    "functions `title`, `xlabel`, `ylabel` and `text` are supplied to this end."
   ]
  },
  {
   "cell_type": "code",
   "execution_count": 349,
   "metadata": {},
   "outputs": [
    {
     "data": {
      "image/png": "[encoded data removed]",
      "text/plain": [
       "<Figure size 432x288 with 1 Axes>"
      ]
     },
     "metadata": {
      "needs_background": "light"
     },
     "output_type": "display_data"
    }
   ],
   "source": [
    "import math\n",
    "\n",
    "# Some parameters\n",
    "mu = -2.5\n",
    "sigma = 3\n",
    "\n",
    "# Gaussian density\n",
    "def gaussian_density(t, m=0, s=1):\n",
    "    return math.exp(-(t-m)**2 / (2*s**2)) / math.sqrt(2*math.pi*s**2)\n",
    "\n",
    "# Some data\n",
    "n = 256\n",
    "x = [mu + 4 * sigma * i / n for i in range(-n, n+1)]\n",
    "y = [gaussian_density(t, mu, sigma) for t in x]\n",
    "\n",
    "plt.plot(x, y, 'r--')\n",
    "\n",
    "# Add a title\n",
    "plt.title('Gaussian density')\n",
    "\n",
    "# Add labels for the axes\n",
    "plt.xlabel('Abscissa')\n",
    "plt.ylabel('Ordinate')\n",
    "\n",
    "# Add some text\n",
    "plt.text(mu, 1 / math.sqrt(8 * math.pi * sigma**2), 'Hello Gauss!');"
   ]
  },
  {
   "cell_type": "markdown",
   "metadata": {},
   "source": [
    "If you need to include mathematical notations in the text, you can write a TeX expression\n",
    "surrounded by dollar signs:"
   ]
  },
  {
   "cell_type": "code",
   "execution_count": 350,
   "metadata": {},
   "outputs": [
    {
     "data": {
      "image/png": "[encoded data removed]",
      "text/plain": [
       "<Figure size 432x288 with 1 Axes>"
      ]
     },
     "metadata": {
      "needs_background": "light"
     },
     "output_type": "display_data"
    }
   ],
   "source": [
    "plt.title(\n",
    "    'Gaussian density with $\\mu$={} and $\\sigma$={}'.format(mu, sigma)\n",
    ");"
   ]
  },
  {
   "cell_type": "markdown",
   "metadata": {},
   "source": [
    "### Adding elements"
   ]
  },
  {
   "cell_type": "markdown",
   "metadata": {},
   "source": [
    "We had just a brief look on all the options offered by Matplotlib to produce figures. Reading\n",
    "the documentation, you see that adding common elements is quite straightforward. Hereafter,\n",
    "we give some examples and we encourage you to browse the [Matplotlib beginner's guide](https://matplotlib.org/2.0.0/users/beginner.html)."
   ]
  },
  {
   "cell_type": "code",
   "execution_count": 351,
   "metadata": {},
   "outputs": [
    {
     "data": {
      "image/png": "[encoded data removed]",
      "text/plain": [
       "<Figure size 432x288 with 1 Axes>"
      ]
     },
     "metadata": {
      "needs_background": "light"
     },
     "output_type": "display_data"
    }
   ],
   "source": [
    "z = [gaussian_density(t, mu, sigma/2) for t in x]\n",
    "\n",
    "# Lines with labels\n",
    "plt.plot(x, y, 'r--', label='$\\sigma$={}'.format(sigma))\n",
    "plt.plot(x, z, 'g-.', label='$\\sigma$={}'.format(sigma / 2))\n",
    "\n",
    "# Add a legend based on labels\n",
    "plt.legend()\n",
    "\n",
    "# Add a grid\n",
    "plt.grid()"
   ]
  },
  {
   "cell_type": "markdown",
   "metadata": {},
   "source": [
    "### Other graphs"
   ]
  },
  {
   "cell_type": "markdown",
   "metadata": {},
   "source": [
    "Of course, Matplotlib is not restricted to plot simple sequences of points and to the module\n",
    "`pyplot`. The package supplies a lot of graphical representations and tools and it would be\n",
    "beyond the scope of this document to make an exhaustive review. We give below an insight\n",
    "about the possibilities. If you are interested in data visualization, you should have a look to\n",
    "the [Matplotlib examples](https://matplotlib.org/examples/index.html)."
   ]
  },
  {
   "cell_type": "code",
   "execution_count": 210,
   "metadata": {},
   "outputs": [
    {
     "data": {
      "image/png": "[encoded data removed]",
      "text/plain": [
       "<Figure size 432x288 with 1 Axes>"
      ]
     },
     "metadata": {
      "needs_background": "light"
     },
     "output_type": "display_data"
    },
    {
     "data": {
      "text/plain": [
       "<Figure size 432x288 with 0 Axes>"
      ]
     },
     "metadata": {},
     "output_type": "display_data"
    }
   ],
   "source": [
    "import math\n",
    "import random\n",
    "import matplotlib.pyplot as plt\n",
    "\n",
    "# Scatter plot\n",
    "n = 256\n",
    "x = [random.gauss(0, 1) for i in range(n)]\n",
    "y = [random.gauss(0, 1) for i in range(n)]\n",
    "color = [random.randint(0, 50) for i in range(n)]\n",
    "size = [100 * random.random() for i in range(n)]\n",
    "plt.scatter(x, y, c=color, s=size, alpha=0.5)\n",
    "plt.figure();"
   ]
  },
  {
   "cell_type": "code",
   "execution_count": 353,
   "metadata": {},
   "outputs": [
    {
     "data": {
      "image/png": "[encoded data removed]",
      "text/plain": [
       "<Figure size 432x288 with 1 Axes>"
      ]
     },
     "metadata": {
      "needs_background": "light"
     },
     "output_type": "display_data"
    },
    {
     "data": {
      "text/plain": [
       "<Figure size 432x288 with 0 Axes>"
      ]
     },
     "metadata": {},
     "output_type": "display_data"
    }
   ],
   "source": [
    "# Histogram\n",
    "n = 2048\n",
    "x = [random.gauss(0, 1) for i in range(n)]\n",
    "u = [4 * i / n for i in range(-n, n + 1)]\n",
    "v = [math.exp(-t**2/2) / math.sqrt(2*math.pi) for t in u]\n",
    "plt.hist(x, bins=50, density=True, color='orange')\n",
    "plt.plot(u, v, 'r-', linewidth=2)\n",
    "plt.figure();"
   ]
  },
  {
   "cell_type": "code",
   "execution_count": 213,
   "metadata": {},
   "outputs": [
    {
     "data": {
      "image/png": "[encoded data removed]",
      "text/plain": [
       "<Figure size 432x288 with 1 Axes>"
      ]
     },
     "metadata": {},
     "output_type": "display_data"
    },
    {
     "data": {
      "text/plain": [
       "<Figure size 432x288 with 0 Axes>"
      ]
     },
     "metadata": {},
     "output_type": "display_data"
    }
   ],
   "source": [
    "# Pie chart\n",
    "ore = ['Gold', 'Silver', 'Ore', 'Mithril']\n",
    "count = [31, 58, 93, 21]\n",
    "color = ['gold', 'silver', 'brown', 'lightskyblue']\n",
    "explode = (0, 0.1, 0, 0)\n",
    "plt.pie(count, labels=ore, colors=color, explode=explode, shadow=True, startangle=90)\n",
    "plt.figure();"
   ]
  },
  {
   "cell_type": "code",
   "execution_count": 355,
   "metadata": {},
   "outputs": [
    {
     "data": {
      "image/png": "[encoded data removed]",
      "text/plain": [
       "<Figure size 432x288 with 1 Axes>"
      ]
     },
     "metadata": {
      "needs_background": "light"
     },
     "output_type": "display_data"
    },
    {
     "data": {
      "text/plain": [
       "<Figure size 432x288 with 0 Axes>"
      ]
     },
     "metadata": {},
     "output_type": "display_data"
    }
   ],
   "source": [
    "# Boxplot\n",
    "n = 256\n",
    "x = [random.gauss(0, 1) for i in range(n)]\n",
    "y = [random.gauss(0, 1) for i in range(n)]\n",
    "plt.boxplot([x, y])\n",
    "plt.figure();"
   ]
  },
  {
   "cell_type": "code",
   "execution_count": 356,
   "metadata": {},
   "outputs": [
    {
     "data": {
      "image/png": "[encoded data removed]",
      "text/plain": [
       "<Figure size 432x288 with 1 Axes>"
      ]
     },
     "metadata": {
      "needs_background": "light"
     },
     "output_type": "display_data"
    }
   ],
   "source": [
    "# Violin plot\n",
    "plt.violinplot([x, y]);"
   ]
  },
  {
   "cell_type": "markdown",
   "metadata": {},
   "source": [
    "## Mathematics with NumPy"
   ]
  },
  {
   "cell_type": "markdown",
   "metadata": {},
   "source": [
    "### What is NumPy?"
   ]
  },
  {
   "cell_type": "markdown",
   "metadata": {},
   "source": [
    "[NumPy](https://www.numpy.org/) is a Python package which provides tools to work with multi-dimensional arrays and\n",
    "matrices, along with a large library of high-level mathematical functions to operate on these\n",
    "arrays. NumPy is distributed under the terms of a revised BSD license and is thus a free\n",
    "software.\n",
    "\n",
    "To shorten the commands of this section, we use the common alias `np` for `numpy` as follows:"
   ]
  },
  {
   "cell_type": "code",
   "execution_count": 215,
   "metadata": {},
   "outputs": [
    {
     "name": "stdout",
     "output_type": "stream",
     "text": [
      "3.141592653589793\n",
      "2.718281828459045\n"
     ]
    }
   ],
   "source": [
    "import numpy as np\n",
    "\n",
    "# NumPy supplies usual constants\n",
    "print(np.pi)\n",
    "print(np.e)"
   ]
  },
  {
   "cell_type": "markdown",
   "metadata": {},
   "source": [
    "### The array class"
   ]
  },
  {
   "cell_type": "markdown",
   "metadata": {},
   "source": [
    "The `array` class plays a central role in NumPy. Such an object can be instantiated with the\n",
    "function `array` from a list for a vector or a list of lists for a matrix."
   ]
  },
  {
   "cell_type": "code",
   "execution_count": 216,
   "metadata": {
    "scrolled": true
   },
   "outputs": [
    {
     "name": "stdout",
     "output_type": "stream",
     "text": [
      "[17.  42.   8.1 19. ] <class 'numpy.ndarray'>\n"
     ]
    }
   ],
   "source": [
    "# Vector\n",
    "v = np.array([17.0, 42.0, 8.1, 19.0])\n",
    "print(v, type(v))"
   ]
  },
  {
   "cell_type": "code",
   "execution_count": 359,
   "metadata": {},
   "outputs": [
    {
     "name": "stdout",
     "output_type": "stream",
     "text": [
      "[[1. 2. 3.]\n",
      " [4. 5. 6.]] <class 'numpy.ndarray'>\n"
     ]
    }
   ],
   "source": [
    "# Matrix (list of rows)\n",
    "m = np.array([[1.0, 2.0, 3.0],\n",
    "[4.0, 5.0, 6.0]])\n",
    "print(m, type(m))"
   ]
  },
  {
   "cell_type": "code",
   "execution_count": 360,
   "metadata": {},
   "outputs": [
    {
     "name": "stdout",
     "output_type": "stream",
     "text": [
      "[   0    1    2 ... 9997 9998 9999]\n"
     ]
    },
    {
     "data": {
      "text/plain": [
       "array([[  0,   1,   2, ..., 497, 498, 499],\n",
       "       [  0,   1,   2, ..., 497, 498, 499],\n",
       "       [  0,   1,   2, ..., 497, 498, 499],\n",
       "       ...,\n",
       "       [  0,   1,   2, ..., 497, 498, 499],\n",
       "       [  0,   1,   2, ..., 497, 498, 499],\n",
       "       [  0,   1,   2, ..., 497, 498, 499]])"
      ]
     },
     "execution_count": 360,
     "metadata": {},
     "output_type": "execute_result"
    }
   ],
   "source": [
    "# Function print behaves nicely with large arrays\n",
    "print(np.array(range(10000)))\n",
    "np.array([range(500) for i in range(500)])"
   ]
  },
  {
   "cell_type": "markdown",
   "metadata": {},
   "source": [
    "To access elements in an array, we use naturally a syntax based on square brackets `[]` and\n",
    "slicing."
   ]
  },
  {
   "cell_type": "code",
   "execution_count": 219,
   "metadata": {
    "scrolled": true
   },
   "outputs": [
    {
     "name": "stdout",
     "output_type": "stream",
     "text": [
      "17.0\n"
     ]
    }
   ],
   "source": [
    "print(v[0])"
   ]
  },
  {
   "cell_type": "code",
   "execution_count": 220,
   "metadata": {},
   "outputs": [
    {
     "name": "stdout",
     "output_type": "stream",
     "text": [
      "[42.   8.1]\n"
     ]
    }
   ],
   "source": [
    "print(v[1:3])"
   ]
  },
  {
   "cell_type": "code",
   "execution_count": 221,
   "metadata": {},
   "outputs": [
    {
     "name": "stdout",
     "output_type": "stream",
     "text": [
      "[17. 42. 15. 19.]\n"
     ]
    }
   ],
   "source": [
    "# Modify items\n",
    "v[2] = 15.0\n",
    "print(v)"
   ]
  },
  {
   "cell_type": "code",
   "execution_count": 222,
   "metadata": {},
   "outputs": [
    {
     "name": "stdout",
     "output_type": "stream",
     "text": [
      "[17.  0.  0. 19.]\n"
     ]
    }
   ],
   "source": [
    "v[1:3] = 0.0\n",
    "print(v)"
   ]
  },
  {
   "cell_type": "code",
   "execution_count": 365,
   "metadata": {},
   "outputs": [
    {
     "name": "stdout",
     "output_type": "stream",
     "text": [
      "2.0\n"
     ]
    }
   ],
   "source": [
    "# Idem for matrices\n",
    "print(m[0,1])"
   ]
  },
  {
   "cell_type": "code",
   "execution_count": 366,
   "metadata": {},
   "outputs": [
    {
     "name": "stdout",
     "output_type": "stream",
     "text": [
      "[3. 6.]\n"
     ]
    }
   ],
   "source": [
    "print(m[:,2])\n",
    "# Et cetera ..."
   ]
  },
  {
   "cell_type": "markdown",
   "metadata": {},
   "source": [
    "To get informations about the array dimensions and the number of rows, columns, ... the\n",
    "`array` class supplies an attribute `shape` which is a tuple. Moreover, the method `reshape`\n",
    "allows you to change the dimensions of an array."
   ]
  },
  {
   "cell_type": "code",
   "execution_count": 217,
   "metadata": {},
   "outputs": [
    {
     "name": "stdout",
     "output_type": "stream",
     "text": [
      "(4,)\n"
     ]
    }
   ],
   "source": [
    "print(v.shape)"
   ]
  },
  {
   "cell_type": "code",
   "execution_count": 368,
   "metadata": {},
   "outputs": [
    {
     "name": "stdout",
     "output_type": "stream",
     "text": [
      "(2, 3)\n"
     ]
    }
   ],
   "source": [
    "print(m.shape)"
   ]
  },
  {
   "cell_type": "code",
   "execution_count": 369,
   "metadata": {},
   "outputs": [
    {
     "name": "stdout",
     "output_type": "stream",
     "text": [
      "[[17.  0.]\n",
      " [ 0. 19.]]\n"
     ]
    }
   ],
   "source": [
    "m1 = v.reshape(2, 2)\n",
    "print(m1)"
   ]
  },
  {
   "cell_type": "code",
   "execution_count": 370,
   "metadata": {},
   "outputs": [
    {
     "name": "stdout",
     "output_type": "stream",
     "text": [
      "[[1. 2.]\n",
      " [3. 4.]\n",
      " [5. 6.]]\n"
     ]
    }
   ],
   "source": [
    "m2 = m.reshape(3, 2)\n",
    "print(m2)"
   ]
  },
  {
   "cell_type": "code",
   "execution_count": 371,
   "metadata": {},
   "outputs": [
    {
     "name": "stdout",
     "output_type": "stream",
     "text": [
      "[1. 2. 3. 4. 5. 6.]\n"
     ]
    }
   ],
   "source": [
    "v1 = m.reshape(6)\n",
    "print(v1)"
   ]
  },
  {
   "cell_type": "markdown",
   "metadata": {},
   "source": [
    "The `array` class offers several useful function to do basic computations with arrays. There\n",
    "are a lot of tools defined for arrays as you can see in the [index of the documentation](https://docs.scipy.org/doc/numpy/genindex.html). All\n",
    "these tools can be called as methods or as functions from the NumPy namespace."
   ]
  },
  {
   "cell_type": "code",
   "execution_count": 223,
   "metadata": {},
   "outputs": [
    {
     "data": {
      "text/plain": [
       "array([17.,  0.,  0., 19.])"
      ]
     },
     "execution_count": 223,
     "metadata": {},
     "output_type": "execute_result"
    }
   ],
   "source": [
    "v"
   ]
  },
  {
   "cell_type": "code",
   "execution_count": 224,
   "metadata": {},
   "outputs": [
    {
     "name": "stdout",
     "output_type": "stream",
     "text": [
      "36.0\n"
     ]
    }
   ],
   "source": [
    "# Sum of the elements\n",
    "s = v.sum()\n",
    "s = np.sum(v) # Equivalent to the previous one\n",
    "print(s)"
   ]
  },
  {
   "cell_type": "code",
   "execution_count": 225,
   "metadata": {},
   "outputs": [
    {
     "name": "stdout",
     "output_type": "stream",
     "text": [
      "[17. 17. 17. 36.]\n"
     ]
    }
   ],
   "source": [
    "# Cumulative sum of the elements\n",
    "cs = v.cumsum()\n",
    "cs = np.cumsum(v) # Equivalent to the previous one\n",
    "print(cs)"
   ]
  },
  {
   "cell_type": "code",
   "execution_count": 374,
   "metadata": {},
   "outputs": [
    {
     "name": "stdout",
     "output_type": "stream",
     "text": [
      "1.0 6.0\n"
     ]
    }
   ],
   "source": [
    "# Maximum and minimum\n",
    "print(m.min(), m.max())"
   ]
  },
  {
   "cell_type": "code",
   "execution_count": 375,
   "metadata": {},
   "outputs": [
    {
     "name": "stdout",
     "output_type": "stream",
     "text": [
      "1.0 6.0\n"
     ]
    }
   ],
   "source": [
    "print(np.min(m), np.max(m)) # Equivalent to the previous one"
   ]
  },
  {
   "cell_type": "code",
   "execution_count": 376,
   "metadata": {},
   "outputs": [
    {
     "name": "stdout",
     "output_type": "stream",
     "text": [
      "9.0\n",
      "2.9166666666666665\n"
     ]
    }
   ],
   "source": [
    "# Mean and variance\n",
    "print(v.mean()) # Or np.mean(v)\n",
    "print(m.var()) # Or np.var(m)"
   ]
  },
  {
   "cell_type": "markdown",
   "metadata": {},
   "source": [
    "An important advantage offered by NumPy arrays and functions is the capacity to apply\n",
    "a function to all the items of an array without a loop. Such a syntax makes definitively the\n",
    "code easier to read and is often used in the sequel."
   ]
  },
  {
   "cell_type": "code",
   "execution_count": 377,
   "metadata": {},
   "outputs": [
    {
     "name": "stdout",
     "output_type": "stream",
     "text": [
      "[ 1.          0.80901699  0.30901699 -0.30901699 -0.80901699 -1.        ]\n"
     ]
    }
   ],
   "source": [
    "n = 6\n",
    "x = np.array([np.pi * i / (n - 1) for i in range(n)])\n",
    "print(np.cos(x))"
   ]
  },
  {
   "cell_type": "markdown",
   "metadata": {},
   "source": [
    "It also works with common operations."
   ]
  },
  {
   "cell_type": "code",
   "execution_count": 378,
   "metadata": {},
   "outputs": [
    {
     "name": "stdout",
     "output_type": "stream",
     "text": [
      "[1.         1.62831853 2.25663706 2.88495559 3.51327412 4.14159265]\n"
     ]
    }
   ],
   "source": [
    "print(x + 1)"
   ]
  },
  {
   "cell_type": "code",
   "execution_count": 379,
   "metadata": {},
   "outputs": [
    {
     "name": "stdout",
     "output_type": "stream",
     "text": [
      "[0.         1.25663706 2.51327412 3.76991118 5.02654825 6.28318531]\n"
     ]
    }
   ],
   "source": [
    "print(2 * x)"
   ]
  },
  {
   "cell_type": "code",
   "execution_count": 380,
   "metadata": {},
   "outputs": [
    {
     "name": "stdout",
     "output_type": "stream",
     "text": [
      "[0.         0.12566371 0.25132741 0.37699112 0.50265482 0.62831853]\n"
     ]
    }
   ],
   "source": [
    "print(x / 5)"
   ]
  },
  {
   "cell_type": "code",
   "execution_count": 381,
   "metadata": {},
   "outputs": [
    {
     "ename": "TypeError",
     "evalue": "only size-1 arrays can be converted to Python scalars",
     "output_type": "error",
     "traceback": [
      "\u001b[0;31m---------------------------------------------------------------------------\u001b[0m",
      "\u001b[0;31mTypeError\u001b[0m                                 Traceback (most recent call last)",
      "\u001b[0;32m<ipython-input-381-a24749b8e7ca>\u001b[0m in \u001b[0;36m<module>\u001b[0;34m\u001b[0m\n\u001b[1;32m      1\u001b[0m \u001b[0;32mimport\u001b[0m \u001b[0mmath\u001b[0m\u001b[0;34m\u001b[0m\u001b[0;34m\u001b[0m\u001b[0m\n\u001b[1;32m      2\u001b[0m \u001b[0;34m\u001b[0m\u001b[0m\n\u001b[0;32m----> 3\u001b[0;31m \u001b[0mprint\u001b[0m\u001b[0;34m(\u001b[0m\u001b[0mmath\u001b[0m\u001b[0;34m.\u001b[0m\u001b[0mcos\u001b[0m\u001b[0;34m(\u001b[0m\u001b[0mx\u001b[0m\u001b[0;34m)\u001b[0m\u001b[0;34m)\u001b[0m \u001b[0;31m# Error, only available with NumPy functions\u001b[0m\u001b[0;34m\u001b[0m\u001b[0;34m\u001b[0m\u001b[0m\n\u001b[0m",
      "\u001b[0;31mTypeError\u001b[0m: only size-1 arrays can be converted to Python scalars"
     ]
    }
   ],
   "source": [
    "import math\n",
    "\n",
    "print(math.cos(x)) # Error, only available with NumPy functions"
   ]
  },
  {
   "cell_type": "markdown",
   "metadata": {},
   "source": [
    "As we mentioned before, we have to pay attention about copy operation when we manip-\n",
    "ulate arrays. Indeed, as mutable objects, the content of an array is sometimes copied and\n",
    "sometimes only passed as a reference."
   ]
  },
  {
   "cell_type": "code",
   "execution_count": 382,
   "metadata": {},
   "outputs": [
    {
     "name": "stdout",
     "output_type": "stream",
     "text": [
      "True\n"
     ]
    }
   ],
   "source": [
    "a = np.array([1, 2, 3, 4])\n",
    "# Simple assignment does not copy\n",
    "b = a\n",
    "print(b is a) # True"
   ]
  },
  {
   "cell_type": "code",
   "execution_count": 383,
   "metadata": {},
   "outputs": [
    {
     "name": "stdout",
     "output_type": "stream",
     "text": [
      "False\n"
     ]
    }
   ],
   "source": [
    "# Use copy method to copy arrays\n",
    "c = a.copy()\n",
    "print(c is a) # False"
   ]
  },
  {
   "cell_type": "markdown",
   "metadata": {},
   "source": [
    "### Creating arrays"
   ]
  },
  {
   "cell_type": "markdown",
   "metadata": {},
   "source": [
    "Fortunately, we do not have to create explicitly all our arrays and NumPy provides some\n",
    "functions to help us for the common situations."
   ]
  },
  {
   "cell_type": "code",
   "execution_count": 384,
   "metadata": {},
   "outputs": [
    {
     "name": "stdout",
     "output_type": "stream",
     "text": [
      "[0. 0. 0. 0. 0. 0. 0. 0. 0. 0. 0. 0. 0. 0. 0. 0. 0.]\n",
      "[[0. 0. 0. 0.]\n",
      " [0. 0. 0. 0.]\n",
      " [0. 0. 0. 0.]]\n"
     ]
    }
   ],
   "source": [
    "# Create arrays full of zeros\n",
    "v = np.zeros(17)\n",
    "m = np.zeros((3, 4)) # Note the tuple argument\n",
    "print(v); print(m)"
   ]
  },
  {
   "cell_type": "code",
   "execution_count": 385,
   "metadata": {},
   "outputs": [
    {
     "name": "stdout",
     "output_type": "stream",
     "text": [
      "[1. 1. 1. 1. 1. 1. 1. 1. 1. 1. 1. 1. 1. 1. 1. 1. 1.]\n",
      "[[1. 1. 1. 1.]\n",
      " [1. 1. 1. 1.]\n",
      " [1. 1. 1. 1.]]\n"
     ]
    }
   ],
   "source": [
    "# Create arrays full of ones\n",
    "v = np.ones(17)\n",
    "m = np.ones((3, 4))\n",
    "print(v); print(m)"
   ]
  },
  {
   "cell_type": "code",
   "execution_count": 386,
   "metadata": {},
   "outputs": [
    {
     "name": "stdout",
     "output_type": "stream",
     "text": [
      "[1. 1. 1. 1. 1. 1. 1. 1. 1. 1. 1. 1. 1. 1. 1. 1. 1.]\n",
      "[[1. 1. 1. 1.]\n",
      " [1. 1. 1. 1.]\n",
      " [1. 1. 1. 1.]]\n"
     ]
    }
   ],
   "source": [
    "# Create arrays with uninitialized entries\n",
    "v = np.empty(17)\n",
    "m = np.empty((3, 4))\n",
    "print(v); print(m)"
   ]
  },
  {
   "cell_type": "markdown",
   "metadata": {},
   "source": [
    "We have also at our disposal such tools for matrices:"
   ]
  },
  {
   "cell_type": "code",
   "execution_count": 387,
   "metadata": {},
   "outputs": [
    {
     "name": "stdout",
     "output_type": "stream",
     "text": [
      "[[1. 0. 0. 0. 0.]\n",
      " [0. 1. 0. 0. 0.]\n",
      " [0. 0. 1. 0. 0.]\n",
      " [0. 0. 0. 1. 0.]\n",
      " [0. 0. 0. 0. 1.]]\n"
     ]
    }
   ],
   "source": [
    "# Identity matrix\n",
    "m = np.identity(5)\n",
    "print(m)"
   ]
  },
  {
   "cell_type": "code",
   "execution_count": 388,
   "metadata": {},
   "outputs": [
    {
     "name": "stdout",
     "output_type": "stream",
     "text": [
      "[[1. 0. 0.]\n",
      " [0. 2. 0.]\n",
      " [0. 0. 3.]]\n"
     ]
    }
   ],
   "source": [
    "# Diagonal matrix from a vector\n",
    "v = np.array([1.0, 2.0, 3.0])\n",
    "m = np.diag(v)\n",
    "print(m)"
   ]
  },
  {
   "cell_type": "code",
   "execution_count": 227,
   "metadata": {},
   "outputs": [
    {
     "name": "stdout",
     "output_type": "stream",
     "text": [
      "[[1. 2.]\n",
      " [3. 4.]]\n",
      "[1. 4.]\n"
     ]
    }
   ],
   "source": [
    "# Vector from the matrix diagonal\n",
    "m = np.array([[1.0, 2.0],\n",
    "[3.0, 4.0]])\n",
    "v = m.diagonal() # Equivalent to n = np.diag(m)\n",
    "print(m)\n",
    "print(v)"
   ]
  },
  {
   "cell_type": "markdown",
   "metadata": {},
   "source": [
    "To avoid difficult commands based on `range` when creating arrays, NumPy provides two\n",
    "useful functions. The first one, `arange` is similar to `range` but the returned object is an array. The second function, `linspace`, returns an array of evenly spaced numbers over a specified\n",
    "interval. This second function is very useful to plot a function, for instance."
   ]
  },
  {
   "cell_type": "code",
   "execution_count": 390,
   "metadata": {},
   "outputs": [
    {
     "name": "stdout",
     "output_type": "stream",
     "text": [
      "[ 0  1  2  3  4  5  6  7  8  9 10 11 12 13 14 15 16]\n"
     ]
    }
   ],
   "source": [
    "# Create arrays in range style\n",
    "v = np.arange(17); print(v)"
   ]
  },
  {
   "cell_type": "code",
   "execution_count": 391,
   "metadata": {},
   "outputs": [
    {
     "name": "stdout",
     "output_type": "stream",
     "text": [
      "[ 8  9 10 11 12 13 14 15 16]\n"
     ]
    }
   ],
   "source": [
    "v = np.arange(8, 17); print(v)"
   ]
  },
  {
   "cell_type": "code",
   "execution_count": 392,
   "metadata": {},
   "outputs": [
    {
     "name": "stdout",
     "output_type": "stream",
     "text": [
      "[ 8 10 12 14 16]\n"
     ]
    }
   ],
   "source": [
    "v = np.arange(8, 17, 2); print(v)"
   ]
  },
  {
   "cell_type": "code",
   "execution_count": 393,
   "metadata": {},
   "outputs": [
    {
     "name": "stdout",
     "output_type": "stream",
     "text": [
      "[[ 8  9 10]\n",
      " [11 12 13]\n",
      " [14 15 16]]\n"
     ]
    }
   ],
   "source": [
    "# Useful for matrices too!\n",
    "m = np.arange(8, 17).reshape(3, 3)\n",
    "print(m)"
   ]
  },
  {
   "cell_type": "code",
   "execution_count": 394,
   "metadata": {},
   "outputs": [
    {
     "name": "stdout",
     "output_type": "stream",
     "text": [
      "[2.         2.11111111 2.22222222 2.33333333 2.44444444 2.55555556\n",
      " 2.66666667 2.77777778 2.88888889 3.        ]\n"
     ]
    }
   ],
   "source": [
    "# Evenly spaced numbers\n",
    "x = np.linspace(2, 3, 10); print(x)"
   ]
  },
  {
   "cell_type": "code",
   "execution_count": 395,
   "metadata": {},
   "outputs": [
    {
     "data": {
      "image/png": "[encoded data removed]",
      "text/plain": [
       "<Figure size 432x288 with 1 Axes>"
      ]
     },
     "metadata": {
      "needs_background": "light"
     },
     "output_type": "display_data"
    }
   ],
   "source": [
    "# Useful to plot a function\n",
    "import matplotlib.pyplot as plt\n",
    "\n",
    "x = np.linspace(0, 1, 256)\n",
    "plt.plot(x, np.sin(2 * np.pi * x), 'r-')\n",
    "plt.grid()"
   ]
  },
  {
   "cell_type": "markdown",
   "metadata": {},
   "source": [
    "### Indexing with boolean arrays"
   ]
  },
  {
   "cell_type": "markdown",
   "metadata": {},
   "source": [
    "NumPy offers a syntax based on boolean arrays to access some items in an array. This way\n",
    "can be very useful when we handle data sets and it is available to get values but also to modify\n",
    "them."
   ]
  },
  {
   "cell_type": "code",
   "execution_count": 229,
   "metadata": {},
   "outputs": [
    {
     "data": {
      "text/plain": [
       "array([0, 1, 2, 3, 4, 5, 6, 7, 8, 9, 8, 7, 6, 5, 4, 3, 2, 1, 0])"
      ]
     },
     "execution_count": 229,
     "metadata": {},
     "output_type": "execute_result"
    }
   ],
   "source": [
    "# Note the concatenation\n",
    "a = np.append(np.arange(10), np.arange(8, -1, -1))\n",
    "a"
   ]
  },
  {
   "cell_type": "code",
   "execution_count": 230,
   "metadata": {},
   "outputs": [
    {
     "name": "stdout",
     "output_type": "stream",
     "text": [
      "[1 2 4 5 7 8 8 7 5 4 2 1]\n"
     ]
    }
   ],
   "source": [
    "# Explicit boolean array ...\n",
    "b = [i % 3 != 0 for i in range(len(a))]\n",
    "print(a[b])"
   ]
  },
  {
   "cell_type": "code",
   "execution_count": 231,
   "metadata": {},
   "outputs": [
    {
     "name": "stdout",
     "output_type": "stream",
     "text": [
      "[7 8 9 8 7]\n"
     ]
    }
   ],
   "source": [
    "# ... or determined by conditions\n",
    "b = a >= 7\n",
    "print(a[b])"
   ]
  },
  {
   "cell_type": "code",
   "execution_count": 233,
   "metadata": {},
   "outputs": [
    {
     "data": {
      "image/png": "[encoded data removed]",
      "text/plain": [
       "<Figure size 432x288 with 1 Axes>"
      ]
     },
     "metadata": {
      "needs_background": "light"
     },
     "output_type": "display_data"
    }
   ],
   "source": [
    "# Useful to modify values\n",
    "import matplotlib.pyplot as plt\n",
    "\n",
    "x = np.linspace(-2 * np.pi, 2 * np.pi, 256)\n",
    "y = np.sin(x)\n",
    "y[y > 0.5] = 0.5 # Nice syntax, isn't it?\n",
    "plt.plot(x, y);"
   ]
  },
  {
   "cell_type": "code",
   "execution_count": 237,
   "metadata": {},
   "outputs": [
    {
     "data": {
      "text/plain": [
       "array([[ 4,  5,  6,  7],\n",
       "       [ 8,  9, 10, 11]])"
      ]
     },
     "execution_count": 237,
     "metadata": {},
     "output_type": "execute_result"
    }
   ],
   "source": [
    "# With matrices\n",
    "a = np.arange(12).reshape(3,4)\n",
    "b1 = np.array([False,True,True])\n",
    "b2 = np.array([True,False,True,False])\n",
    "a[b1, :] # Selecting rows"
   ]
  },
  {
   "cell_type": "code",
   "execution_count": 401,
   "metadata": {},
   "outputs": [
    {
     "data": {
      "text/plain": [
       "array([[ 0,  2],\n",
       "       [ 4,  6],\n",
       "       [ 8, 10]])"
      ]
     },
     "execution_count": 401,
     "metadata": {},
     "output_type": "execute_result"
    }
   ],
   "source": [
    "a[:, b2] # Selecting columns"
   ]
  },
  {
   "cell_type": "code",
   "execution_count": 402,
   "metadata": {},
   "outputs": [
    {
     "data": {
      "text/plain": [
       "array([ 4, 10])"
      ]
     },
     "execution_count": 402,
     "metadata": {},
     "output_type": "execute_result"
    }
   ],
   "source": [
    "a[b1, b2] # Selecting both"
   ]
  },
  {
   "cell_type": "markdown",
   "metadata": {},
   "source": [
    "### More with matrices"
   ]
  },
  {
   "cell_type": "markdown",
   "metadata": {},
   "source": [
    "When we are working with matrices, more specific operations and tools are needed. First,\n",
    "there are common matrices operations."
   ]
  },
  {
   "cell_type": "code",
   "execution_count": 243,
   "metadata": {},
   "outputs": [
    {
     "name": "stdout",
     "output_type": "stream",
     "text": [
      "[[3 1]\n",
      " [3 5]]\n"
     ]
    }
   ],
   "source": [
    "m1 = np.array([[1,1], [0,1]])\n",
    "m2 = np.array([[2,0], [3,4]])\n",
    "\n",
    "# Addition works as usual\n",
    "print(m1 + m2)"
   ]
  },
  {
   "cell_type": "code",
   "execution_count": 244,
   "metadata": {},
   "outputs": [
    {
     "name": "stdout",
     "output_type": "stream",
     "text": [
      "[[2 0]\n",
      " [0 4]]\n"
     ]
    }
   ],
   "source": [
    "# Be careful with multiplication!\n",
    "print(m1 * m2) # Item by item"
   ]
  },
  {
   "cell_type": "code",
   "execution_count": 245,
   "metadata": {
    "scrolled": true
   },
   "outputs": [
    {
     "name": "stdout",
     "output_type": "stream",
     "text": [
      "[[5 4]\n",
      " [3 4]]\n"
     ]
    }
   ],
   "source": [
    "print(m1.dot(m2)) # Right matrix multiplication"
   ]
  },
  {
   "cell_type": "code",
   "execution_count": 406,
   "metadata": {},
   "outputs": [
    {
     "name": "stdout",
     "output_type": "stream",
     "text": [
      "[[5 4]\n",
      " [3 4]]\n"
     ]
    }
   ],
   "source": [
    "print(np.dot(m1, m2)) # Idem from np namespace"
   ]
  },
  {
   "cell_type": "code",
   "execution_count": 407,
   "metadata": {},
   "outputs": [
    {
     "name": "stdout",
     "output_type": "stream",
     "text": [
      "3\n"
     ]
    }
   ],
   "source": [
    "# Many NumPy functions can be applied on axis (sum, mean, min, ...)\n",
    "print(m1.sum()) # Sum of all items"
   ]
  },
  {
   "cell_type": "code",
   "execution_count": 408,
   "metadata": {},
   "outputs": [
    {
     "name": "stdout",
     "output_type": "stream",
     "text": [
      "[1 2]\n"
     ]
    }
   ],
   "source": [
    "print(m1.sum(axis=0)) # Sum of each column"
   ]
  },
  {
   "cell_type": "code",
   "execution_count": 409,
   "metadata": {},
   "outputs": [
    {
     "name": "stdout",
     "output_type": "stream",
     "text": [
      "[2 1]\n"
     ]
    }
   ],
   "source": [
    "print(m1.sum(axis=1)) # Sum of each row"
   ]
  },
  {
   "cell_type": "markdown",
   "metadata": {},
   "source": [
    "Of course, NumPy also supplies tools to handle matrices as `array` objects in Python scripts."
   ]
  },
  {
   "cell_type": "code",
   "execution_count": 410,
   "metadata": {},
   "outputs": [
    {
     "name": "stdout",
     "output_type": "stream",
     "text": [
      "[[1 2 3]\n",
      " [4 5 6]]\n"
     ]
    }
   ],
   "source": [
    "# Stacking rows and columns\n",
    "v1 = np.array([1, 2, 3])\n",
    "v2 = np.array([4, 5, 6])\n",
    "m1 = np.vstack((v1, v2)) # Pay attention to tuple\n",
    "print(m1)"
   ]
  },
  {
   "cell_type": "code",
   "execution_count": 411,
   "metadata": {},
   "outputs": [
    {
     "name": "stdout",
     "output_type": "stream",
     "text": [
      "[1 2 3 4 5 6]\n"
     ]
    }
   ],
   "source": [
    "m2 = np.hstack((v1, v2)) # One line\n",
    "print(m2)"
   ]
  },
  {
   "cell_type": "code",
   "execution_count": 412,
   "metadata": {},
   "outputs": [
    {
     "name": "stdout",
     "output_type": "stream",
     "text": [
      "[[1 4]\n",
      " [2 5]\n",
      " [3 6]]\n"
     ]
    }
   ],
   "source": [
    "v1 = np.array([[1], [2], [3]])\n",
    "v2 = np.array([[4], [5], [6]])\n",
    "m3 = np.hstack((v1, v2)) # Three lines\n",
    "print(m3)"
   ]
  },
  {
   "cell_type": "code",
   "execution_count": 413,
   "metadata": {},
   "outputs": [
    {
     "name": "stdout",
     "output_type": "stream",
     "text": [
      "---> [1 4]\n",
      "---> [2 5]\n",
      "---> [3 6]\n"
     ]
    }
   ],
   "source": [
    "# Iterate on matrix rows\n",
    "for row in m3:\n",
    "    print('--->', row)"
   ]
  },
  {
   "cell_type": "code",
   "execution_count": 414,
   "metadata": {},
   "outputs": [
    {
     "name": "stdout",
     "output_type": "stream",
     "text": [
      "---> 1\n",
      "---> 4\n",
      "---> 2\n",
      "---> 5\n",
      "---> 3\n",
      "---> 6\n"
     ]
    }
   ],
   "source": [
    "# Iterate on matrix elements\n",
    "for item in m3.flat: # Operator flat\n",
    "    print('--->', item)"
   ]
  },
  {
   "cell_type": "markdown",
   "metadata": {},
   "source": [
    "Matrix calculation with NumPy is not restricted to such elementary operations and a\n",
    "large set of linear alegra tools are supplied. Note that some functions have to be taken from\n",
    "the submodule `numpy.linalg` (see [module documentation](https://docs.scipy.org/doc/numpy/reference/routines.linalg.html) for details)."
   ]
  },
  {
   "cell_type": "code",
   "execution_count": 415,
   "metadata": {},
   "outputs": [
    {
     "name": "stdout",
     "output_type": "stream",
     "text": [
      "[[ 0  4  8]\n",
      " [ 1  5  9]\n",
      " [ 2  6 10]\n",
      " [ 3  7 11]]\n",
      "[[ 0  4  8]\n",
      " [ 1  5  9]\n",
      " [ 2  6 10]\n",
      " [ 3  7 11]]\n",
      "[[ 0  4  8]\n",
      " [ 1  5  9]\n",
      " [ 2  6 10]\n",
      " [ 3  7 11]]\n"
     ]
    }
   ],
   "source": [
    "m1 = np.arange(12).reshape(3, 4)\n",
    "m2 = np.array([[3, 1, 2],\n",
    "               [2, 0, 5],\n",
    "               [1, 2, 3]])\n",
    "\n",
    "# Transpose operator\n",
    "print(m1.T)\n",
    "print(m1.transpose())\n",
    "print(np.transpose(m1))"
   ]
  },
  {
   "cell_type": "code",
   "execution_count": 416,
   "metadata": {},
   "outputs": [
    {
     "name": "stdout",
     "output_type": "stream",
     "text": [
      "-23.0\n",
      "6\n"
     ]
    }
   ],
   "source": [
    "# Determinant and trace operators\n",
    "print(np.linalg.det(m2))\n",
    "print(np.trace(m2)) # Or m2.trace()"
   ]
  },
  {
   "cell_type": "code",
   "execution_count": 417,
   "metadata": {},
   "outputs": [
    {
     "ename": "LinAlgError",
     "evalue": "Last 2 dimensions of the array must be square",
     "output_type": "error",
     "traceback": [
      "\u001b[0;31m---------------------------------------------------------------------------\u001b[0m",
      "\u001b[0;31mLinAlgError\u001b[0m                               Traceback (most recent call last)",
      "\u001b[0;32m<ipython-input-417-86a9534e488d>\u001b[0m in \u001b[0;36m<module>\u001b[0;34m\u001b[0m\n\u001b[1;32m      1\u001b[0m \u001b[0;31m# Inverse matrix\u001b[0m\u001b[0;34m\u001b[0m\u001b[0;34m\u001b[0m\u001b[0;34m\u001b[0m\u001b[0m\n\u001b[0;32m----> 2\u001b[0;31m \u001b[0mnp\u001b[0m\u001b[0;34m.\u001b[0m\u001b[0mlinalg\u001b[0m\u001b[0;34m.\u001b[0m\u001b[0minv\u001b[0m\u001b[0;34m(\u001b[0m\u001b[0mm1\u001b[0m\u001b[0;34m)\u001b[0m \u001b[0;31m# Raise a LinAlgError exception\u001b[0m\u001b[0;34m\u001b[0m\u001b[0;34m\u001b[0m\u001b[0m\n\u001b[0m",
      "\u001b[0;32m~/anaconda3/lib/python3.7/site-packages/numpy/linalg/linalg.py\u001b[0m in \u001b[0;36minv\u001b[0;34m(a)\u001b[0m\n\u001b[1;32m    544\u001b[0m     \u001b[0ma\u001b[0m\u001b[0;34m,\u001b[0m \u001b[0mwrap\u001b[0m \u001b[0;34m=\u001b[0m \u001b[0m_makearray\u001b[0m\u001b[0;34m(\u001b[0m\u001b[0ma\u001b[0m\u001b[0;34m)\u001b[0m\u001b[0;34m\u001b[0m\u001b[0;34m\u001b[0m\u001b[0m\n\u001b[1;32m    545\u001b[0m     \u001b[0m_assertRankAtLeast2\u001b[0m\u001b[0;34m(\u001b[0m\u001b[0ma\u001b[0m\u001b[0;34m)\u001b[0m\u001b[0;34m\u001b[0m\u001b[0;34m\u001b[0m\u001b[0m\n\u001b[0;32m--> 546\u001b[0;31m     \u001b[0m_assertNdSquareness\u001b[0m\u001b[0;34m(\u001b[0m\u001b[0ma\u001b[0m\u001b[0;34m)\u001b[0m\u001b[0;34m\u001b[0m\u001b[0;34m\u001b[0m\u001b[0m\n\u001b[0m\u001b[1;32m    547\u001b[0m     \u001b[0mt\u001b[0m\u001b[0;34m,\u001b[0m \u001b[0mresult_t\u001b[0m \u001b[0;34m=\u001b[0m \u001b[0m_commonType\u001b[0m\u001b[0;34m(\u001b[0m\u001b[0ma\u001b[0m\u001b[0;34m)\u001b[0m\u001b[0;34m\u001b[0m\u001b[0;34m\u001b[0m\u001b[0m\n\u001b[1;32m    548\u001b[0m \u001b[0;34m\u001b[0m\u001b[0m\n",
      "\u001b[0;32m~/anaconda3/lib/python3.7/site-packages/numpy/linalg/linalg.py\u001b[0m in \u001b[0;36m_assertNdSquareness\u001b[0;34m(*arrays)\u001b[0m\n\u001b[1;32m    211\u001b[0m         \u001b[0mm\u001b[0m\u001b[0;34m,\u001b[0m \u001b[0mn\u001b[0m \u001b[0;34m=\u001b[0m \u001b[0ma\u001b[0m\u001b[0;34m.\u001b[0m\u001b[0mshape\u001b[0m\u001b[0;34m[\u001b[0m\u001b[0;34m-\u001b[0m\u001b[0;36m2\u001b[0m\u001b[0;34m:\u001b[0m\u001b[0;34m]\u001b[0m\u001b[0;34m\u001b[0m\u001b[0;34m\u001b[0m\u001b[0m\n\u001b[1;32m    212\u001b[0m         \u001b[0;32mif\u001b[0m \u001b[0mm\u001b[0m \u001b[0;34m!=\u001b[0m \u001b[0mn\u001b[0m\u001b[0;34m:\u001b[0m\u001b[0;34m\u001b[0m\u001b[0;34m\u001b[0m\u001b[0m\n\u001b[0;32m--> 213\u001b[0;31m             \u001b[0;32mraise\u001b[0m \u001b[0mLinAlgError\u001b[0m\u001b[0;34m(\u001b[0m\u001b[0;34m'Last 2 dimensions of the array must be square'\u001b[0m\u001b[0;34m)\u001b[0m\u001b[0;34m\u001b[0m\u001b[0;34m\u001b[0m\u001b[0m\n\u001b[0m\u001b[1;32m    214\u001b[0m \u001b[0;34m\u001b[0m\u001b[0m\n\u001b[1;32m    215\u001b[0m \u001b[0;32mdef\u001b[0m \u001b[0m_assertFinite\u001b[0m\u001b[0;34m(\u001b[0m\u001b[0;34m*\u001b[0m\u001b[0marrays\u001b[0m\u001b[0;34m)\u001b[0m\u001b[0;34m:\u001b[0m\u001b[0;34m\u001b[0m\u001b[0;34m\u001b[0m\u001b[0m\n",
      "\u001b[0;31mLinAlgError\u001b[0m: Last 2 dimensions of the array must be square"
     ]
    }
   ],
   "source": [
    "# Inverse matrix\n",
    "np.linalg.inv(m1) # Raise a LinAlgError exception"
   ]
  },
  {
   "cell_type": "code",
   "execution_count": 418,
   "metadata": {},
   "outputs": [
    {
     "name": "stdout",
     "output_type": "stream",
     "text": [
      "[[ 1.00000000e+00  0.00000000e+00 -5.55111512e-17]\n",
      " [ 0.00000000e+00  1.00000000e+00  0.00000000e+00]\n",
      " [ 1.11022302e-16  5.55111512e-17  1.00000000e+00]]\n"
     ]
    }
   ],
   "source": [
    "m2_inv = np.linalg.inv(m2)\n",
    "print(np.dot(m2, m2_inv))"
   ]
  },
  {
   "cell_type": "code",
   "execution_count": 419,
   "metadata": {},
   "outputs": [
    {
     "data": {
      "text/plain": [
       "(array([ 6.20865965,  1.82320435, -2.031864  ]),\n",
       " array([[ 0.54368732,  0.88479951,  0.04120795],\n",
       "        [ 0.62565811, -0.19279022, -0.93128082],\n",
       "        [ 0.55942473, -0.424219  ,  0.36196401]]))"
      ]
     },
     "execution_count": 419,
     "metadata": {},
     "output_type": "execute_result"
    }
   ],
   "source": [
    "# Eigenvalues and eigenvectors\n",
    "np.linalg.eigh(np.dot(m1, m1.T)) # For Hermitian matrix only\n",
    "np.linalg.eig(m2) # Otherwise, right eigenvectors are returned"
   ]
  },
  {
   "cell_type": "markdown",
   "metadata": {},
   "source": [
    "More advanced procedures are at your disposal and we encourage you to browse the\n",
    "[NumPy documentation](https://docs.scipy.org/doc/) to discover all the possibilities. As an example, we give below the\n",
    "commands to perform a least squares polynomial fit."
   ]
  },
  {
   "cell_type": "code",
   "execution_count": 420,
   "metadata": {},
   "outputs": [
    {
     "name": "stdout",
     "output_type": "stream",
     "text": [
      "[ 0.08703704 -0.81349206  1.69312169 -0.03968254]\n"
     ]
    },
    {
     "data": {
      "image/png": "[encoded data removed]",
      "text/plain": [
       "<Figure size 432x288 with 1 Axes>"
      ]
     },
     "metadata": {
      "needs_background": "light"
     },
     "output_type": "display_data"
    }
   ],
   "source": [
    "import numpy as np\n",
    "import matplotlib.pyplot as plt\n",
    "\n",
    "x = np.array([0.0, 1.0, 2.0, 3.0, 4.0, 5.0])\n",
    "y = np.array([0.0, 0.8, 0.9, 0.1, -0.8, -1.0])\n",
    "z = np.polyfit(x, y, 3) # Polynomial of degree 3\n",
    "\n",
    "print(z) # Array z contains the coefficients of the polynomial\n",
    "\n",
    "plt.plot(x, y, 'bo')\n",
    "plt.axis([-1, 6, -2, 2])\n",
    "\n",
    "# Create a function for polynomial given by z\n",
    "pol_z = np.poly1d(z)\n",
    "plt.plot(x, pol_z(x), 'r--');"
   ]
  },
  {
   "cell_type": "markdown",
   "metadata": {},
   "source": [
    "### A bit of randomness"
   ]
  },
  {
   "cell_type": "markdown",
   "metadata": {},
   "source": [
    "Among a lot of other things, NumPy supplies [a large set of random generators](https://docs.scipy.org/doc/numpy-1.16.1/reference/routines.random.html) in the sub-\n",
    "module `numpy.random`. Some distribution are already available in the standard library but,\n",
    "with `numpy.random` functions, you are able to directly get array objects."
   ]
  },
  {
   "cell_type": "code",
   "execution_count": 421,
   "metadata": {},
   "outputs": [],
   "source": [
    "import numpy.random as rnd"
   ]
  },
  {
   "cell_type": "markdown",
   "metadata": {},
   "source": [
    "Random arrays."
   ]
  },
  {
   "cell_type": "code",
   "execution_count": 422,
   "metadata": {},
   "outputs": [
    {
     "data": {
      "text/plain": [
       "array([0.4954613 , 0.66711062, 0.98345351])"
      ]
     },
     "execution_count": 422,
     "metadata": {},
     "output_type": "execute_result"
    }
   ],
   "source": [
    "rnd.rand(3)"
   ]
  },
  {
   "cell_type": "code",
   "execution_count": 423,
   "metadata": {},
   "outputs": [
    {
     "data": {
      "text/plain": [
       "array([[ 0.52287149, -1.90957552,  1.05193348],\n",
       "       [-0.67004282, -0.707868  , -0.16817029]])"
      ]
     },
     "execution_count": 423,
     "metadata": {},
     "output_type": "execute_result"
    }
   ],
   "source": [
    "rnd.randn(2, 3) # Standard normal distribution"
   ]
  },
  {
   "cell_type": "markdown",
   "metadata": {},
   "source": [
    "Random sample."
   ]
  },
  {
   "cell_type": "code",
   "execution_count": 424,
   "metadata": {},
   "outputs": [
    {
     "data": {
      "text/plain": [
       "array([ 3, 19,  1,  1])"
      ]
     },
     "execution_count": 424,
     "metadata": {},
     "output_type": "execute_result"
    }
   ],
   "source": [
    "rnd.choice(np.array([17, 8, 19, 1, 3, 15]), 4) # With replace"
   ]
  },
  {
   "cell_type": "code",
   "execution_count": 425,
   "metadata": {},
   "outputs": [
    {
     "data": {
      "text/plain": [
       "array([ 8, 15, 17,  1])"
      ]
     },
     "execution_count": 425,
     "metadata": {},
     "output_type": "execute_result"
    }
   ],
   "source": [
    "rnd.choice(np.array([17, 8, 19, 1, 3, 15]), 4, False) # No replace"
   ]
  },
  {
   "cell_type": "markdown",
   "metadata": {},
   "source": [
    "Distributions."
   ]
  },
  {
   "cell_type": "code",
   "execution_count": 426,
   "metadata": {},
   "outputs": [
    {
     "data": {
      "text/plain": [
       "array([1.07102392, 0.15419941, 0.1177552 , 2.0432325 , 2.40592562])"
      ]
     },
     "execution_count": 426,
     "metadata": {},
     "output_type": "execute_result"
    }
   ],
   "source": [
    "rnd.standard_exponential(5) # Standard exponential"
   ]
  },
  {
   "cell_type": "code",
   "execution_count": 427,
   "metadata": {},
   "outputs": [
    {
     "data": {
      "text/plain": [
       "array([0.38086517, 0.57469238, 1.20119277, 1.72663113, 0.83965932])"
      ]
     },
     "execution_count": 427,
     "metadata": {},
     "output_type": "execute_result"
    }
   ],
   "source": [
    "rnd.exponential(2, 5) # Exponential with parameter 2"
   ]
  },
  {
   "cell_type": "code",
   "execution_count": 428,
   "metadata": {},
   "outputs": [
    {
     "data": {
      "text/plain": [
       "array([6, 3, 5, 5, 0, 1, 6, 2, 2, 4])"
      ]
     },
     "execution_count": 428,
     "metadata": {},
     "output_type": "execute_result"
    }
   ],
   "source": [
    "rnd.poisson(np.pi, 10) # Poisson with parameter pi"
   ]
  },
  {
   "cell_type": "markdown",
   "metadata": {},
   "source": [
    "As an illustration, let us run a Brownian motion simulation in the plane:"
   ]
  },
  {
   "cell_type": "code",
   "execution_count": 429,
   "metadata": {},
   "outputs": [
    {
     "data": {
      "text/plain": [
       "[<matplotlib.lines.Line2D at 0x7f90e7a687f0>]"
      ]
     },
     "execution_count": 429,
     "metadata": {},
     "output_type": "execute_result"
    },
    {
     "data": {
      "image/png": "[encoded data removed]",
      "text/plain": [
       "<Figure size 432x288 with 1 Axes>"
      ]
     },
     "metadata": {
      "needs_background": "light"
     },
     "output_type": "display_data"
    }
   ],
   "source": [
    "import numpy as np\n",
    "import numpy.random as rnd\n",
    "import matplotlib.pyplot as plt\n",
    "\n",
    "n = 10000\n",
    "u = rnd.choice([-1, 1], n).cumsum() / np.sqrt(n)\n",
    "v = rnd.choice([-1, 1], n).cumsum() / np.sqrt(n)\n",
    "\n",
    "plt.plot(u, v, 'k-')"
   ]
  }
 ],
 "metadata": {
  "kernelspec": {
   "display_name": "Python 3",
   "language": "python",
   "name": "python3"
  },
  "language_info": {
   "codemirror_mode": {
    "name": "ipython",
    "version": 3
   },
   "file_extension": ".py",
   "mimetype": "text/x-python",
   "name": "python",
   "nbconvert_exporter": "python",
   "pygments_lexer": "ipython3",
   "version": "3.8.3"
  }
 },
 "nbformat": 4,
 "nbformat_minor": 2
}
